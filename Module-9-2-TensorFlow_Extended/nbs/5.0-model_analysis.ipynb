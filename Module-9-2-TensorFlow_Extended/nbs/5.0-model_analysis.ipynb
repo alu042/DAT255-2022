{
 "cells": [
  {
   "cell_type": "markdown",
   "id": "853506ac-e590-41ba-a57c-ba4adac751c1",
   "metadata": {},
   "source": [
    "Alexander S. Lundervold, 22.04.22"
   ]
  },
  {
   "cell_type": "markdown",
   "id": "fd471d35-0c01-49cd-97a5-2a1490168a44",
   "metadata": {
    "tags": []
   },
   "source": [
    "# Introduction"
   ]
  },
  {
   "cell_type": "markdown",
   "id": "67d15064-237d-4dea-a83f-7506ff774b50",
   "metadata": {},
   "source": [
    "In the previous notebooks, we've set up a pipeline that starts with ingesting data and ends with training and tuning a machine learning model. \n",
    "\n",
    "Here's what we have so far: "
   ]
  },
  {
   "cell_type": "markdown",
   "id": "e95ef3a4-8e9f-4878-8393-e50a9b0ebf6e",
   "metadata": {
    "hidden": true
   },
   "source": [
    "<img width=100% src=\"assets/pipeline_4.png\">"
   ]
  },
  {
   "cell_type": "markdown",
   "id": "0f47334d-1e70-444a-8ce4-8e770b142e90",
   "metadata": {},
   "source": [
    "Now, we want to **investigate the performance** of the model, and look into how we can do **model validation**, using TensorFlow Extended.\n",
    "\n",
    "For this, we'll use the **TensorFlow Model Analysis** library, and the TFX components `Evaluator` and `Pusher`. "
   ]
  },
  {
   "cell_type": "markdown",
   "id": "5eedc4ec-e031-42f4-a77d-4b75738e8907",
   "metadata": {},
   "source": [
    "The `Evaluator` component will use the examples from our `ExampleGen` component and the saved model from our `Trainer`. It produces analysis and validation results stored in the MetaDataStore. \n",
    "\n",
    "If the results are sufficiently good (with thresholds specified by us or based on an automatic comparison with a baseline model), the model is \"blessed\". It is then passed to the `Pusher` whose job it is to push the model to a deployment target."
   ]
  },
  {
   "cell_type": "markdown",
   "id": "9ee16bb0-23db-4ee8-b9ab-64c75875306f",
   "metadata": {},
   "source": [
    "> Note that this will be a very quick peek at the challenges and solutions related to model analysis. As always, have a look at the [TFX guide](https://tensorflow.google.cn/tfx/guide) and links therein for additional details."
   ]
  },
  {
   "cell_type": "markdown",
   "id": "d6d5e911-2d54-4e13-8716-e159a1b4a67e",
   "metadata": {
    "heading_collapsed": true,
    "tags": []
   },
   "source": [
    "# Setup"
   ]
  },
  {
   "cell_type": "markdown",
   "id": "5db66f57-c835-42fd-ae42-de7520cf7b90",
   "metadata": {
    "hidden": true
   },
   "source": [
    "Import basic libraries:"
   ]
  },
  {
   "cell_type": "code",
   "execution_count": null,
   "id": "10a2963c-6a13-4ca4-aea4-f71f991885c1",
   "metadata": {
    "hidden": true
   },
   "outputs": [],
   "source": [
    "%matplotlib inline\n",
    "import os\n",
    "from pathlib import Path"
   ]
  },
  {
   "cell_type": "markdown",
   "id": "e7ec25ed-7e69-4019-969a-d96b7a802b37",
   "metadata": {
    "hidden": true
   },
   "source": [
    "Check whether we're running on Colab:"
   ]
  },
  {
   "cell_type": "code",
   "execution_count": null,
   "id": "0e3556f4-5ffb-41d7-86ea-65279b66b503",
   "metadata": {
    "hidden": true
   },
   "outputs": [],
   "source": [
    "try:\n",
    "    import colab\n",
    "    colab=True\n",
    "except:\n",
    "    colab=False"
   ]
  },
  {
   "cell_type": "markdown",
   "id": "2c40a6fa-5761-440d-9a80-69ae25d8bb11",
   "metadata": {
    "hidden": true
   },
   "source": [
    "Set up data directories:"
   ]
  },
  {
   "cell_type": "code",
   "execution_count": null,
   "id": "7d0b16bd-4e62-4e0b-9f6c-3a75f0332f7a",
   "metadata": {
    "hidden": true
   },
   "outputs": [],
   "source": [
    "if colab:\n",
    "    from google.colab import drive\n",
    "    drive.mount('./gdrive')\n",
    "    DATA = Path('./gdrive/MyDrive/ColabData/petfinder-mini/csv')\n",
    "else:\n",
    "    NB_DIR = Path.cwd()\n",
    "    DATA = NB_DIR/'..'/'data'/'petfinder-mini'/'csv'\n",
    "    \n",
    "SPLIT_DATA = DATA/'..'/'split_csv'"
   ]
  },
  {
   "cell_type": "code",
   "execution_count": null,
   "id": "4eb21380-af10-42db-8227-258209281ed8",
   "metadata": {
    "hidden": true
   },
   "outputs": [],
   "source": [
    "import os\n",
    "# To use a specific GPU in a multi-GPU setup\n",
    "# You will want to remove this if you're using a single GPU system\n",
    "os.environ[\"CUDA_VISIBLE_DEVICES\"]=\"2\""
   ]
  },
  {
   "cell_type": "markdown",
   "id": "87d4f906-269e-4e62-bc2e-fb5969c64133",
   "metadata": {
    "hidden": true
   },
   "source": [
    "Install TFX and import components:"
   ]
  },
  {
   "cell_type": "code",
   "execution_count": null,
   "id": "6c019856-175c-432b-8fad-4cd7870d6f6c",
   "metadata": {
    "hidden": true
   },
   "outputs": [],
   "source": [
    "if colab:\n",
    "    !pip install -U tfx"
   ]
  },
  {
   "cell_type": "markdown",
   "id": "624f5ad3-bc40-4227-9da6-8d9c62245ffe",
   "metadata": {
    "hidden": true
   },
   "source": [
    "> If on Colab, restart the runtime after running the above cell"
   ]
  },
  {
   "cell_type": "code",
   "execution_count": null,
   "id": "85dff3d6-5e55-48f2-b472-6e950928a279",
   "metadata": {
    "hidden": true
   },
   "outputs": [],
   "source": [
    "import tensorflow as tf"
   ]
  },
  {
   "cell_type": "code",
   "execution_count": null,
   "id": "558135e9-c3ac-42db-841d-c09d5a9cb3c5",
   "metadata": {
    "hidden": true
   },
   "outputs": [],
   "source": [
    "import tfx"
   ]
  },
  {
   "cell_type": "markdown",
   "id": "2ea43d0c-8c57-4783-af77-e2d346fac16d",
   "metadata": {
    "hidden": true
   },
   "source": [
    "Set up the interactive context for running TFX components:"
   ]
  },
  {
   "cell_type": "code",
   "execution_count": null,
   "id": "526ecf56-8f63-48ee-be65-32802f5070c5",
   "metadata": {
    "hidden": true
   },
   "outputs": [],
   "source": [
    "from tfx.orchestration.experimental.interactive.interactive_context import InteractiveContext"
   ]
  },
  {
   "cell_type": "code",
   "execution_count": null,
   "id": "24148588-3a9e-41e8-a93d-66892be9ddcb",
   "metadata": {
    "hidden": true
   },
   "outputs": [],
   "source": [
    "context = InteractiveContext()"
   ]
  },
  {
   "cell_type": "markdown",
   "id": "8048ddc7-43c8-4723-9bf6-a933c00b63cd",
   "metadata": {
    "heading_collapsed": true
   },
   "source": [
    "# Recreate the previous pipeline"
   ]
  },
  {
   "cell_type": "code",
   "execution_count": null,
   "id": "cb4e4ea9-bfa7-453d-8698-48c48d6b2ddf",
   "metadata": {
    "hidden": true
   },
   "outputs": [],
   "source": [
    "from tfx.components import CsvExampleGen\n",
    "from tfx.components import StatisticsGen\n",
    "from tfx.components import SchemaGen\n",
    "from tfx.components import ExampleValidator\n",
    "from tfx.components import Transform\n",
    "from tfx.components import Trainer"
   ]
  },
  {
   "cell_type": "code",
   "execution_count": null,
   "id": "bccbde78-6f06-43d5-9ee6-79f0f5fce1de",
   "metadata": {},
   "outputs": [],
   "source": [
    "from tfx.proto import trainer_pb2"
   ]
  },
  {
   "cell_type": "code",
   "execution_count": null,
   "id": "549bbddb-8f22-42f8-88b8-fe1ccdd96f3a",
   "metadata": {
    "hidden": true
   },
   "outputs": [],
   "source": [
    "# Generate examples\n",
    "example_gen = CsvExampleGen(input_base=str(DATA)+'/')\n",
    "\n",
    "# Generate statistics\n",
    "statistics_gen = StatisticsGen(examples=example_gen.outputs['examples'])\n",
    "\n",
    "# Automatic data schema (in a more realistic setting we would have \n",
    "# used a manually modified schema saved to disk)\n",
    "schema_gen = SchemaGen(statistics=statistics_gen.outputs['statistics'])\n",
    "\n",
    "# Validate examples\n",
    "example_validator = tfx.components.ExampleValidator(\n",
    "    statistics=statistics_gen.outputs['statistics'],\n",
    "    schema=schema_gen.outputs['schema'])\n",
    "\n",
    "# Preprocess\n",
    "pets_transform_file = 'pets_transforms.py'\n",
    "\n",
    "transform = Transform(\n",
    "    examples=example_gen.outputs['examples'],\n",
    "    schema=schema_gen.outputs['schema'],\n",
    "    module_file=os.path.abspath(pets_transform_file))\n",
    "\n",
    "# Train a model\n",
    "trainer = Trainer(\n",
    "    module_file=os.path.abspath('module.py'),\n",
    "    transformed_examples=transform.outputs['transformed_examples'],\n",
    "    schema=schema_gen.outputs['schema'],\n",
    "    transform_graph=transform.outputs['transform_graph'],\n",
    "    train_args=trainer_pb2.TrainArgs(splits=['train'], num_steps=200),\n",
    "    eval_args=trainer_pb2.EvalArgs(splits=['eval'], num_steps=100)\n",
    ")"
   ]
  },
  {
   "cell_type": "markdown",
   "id": "ba5f7281-9a1e-4dd7-87c4-5cd47e146272",
   "metadata": {
    "heading_collapsed": true,
    "hidden": true
   },
   "source": [
    "## Run the components"
   ]
  },
  {
   "cell_type": "code",
   "execution_count": null,
   "id": "23ed421e-6d0e-4c15-85fa-1688524e46d3",
   "metadata": {
    "hidden": true
   },
   "outputs": [],
   "source": [
    "for component in [example_gen, statistics_gen, schema_gen, example_validator, transform, trainer]:\n",
    "    context.run(component)"
   ]
  },
  {
   "cell_type": "markdown",
   "id": "2c8a2105-0b3b-45cc-8193-f12dc4ff3f8c",
   "metadata": {
    "heading_collapsed": true
   },
   "source": [
    "# Define the evaluation setup"
   ]
  },
  {
   "cell_type": "markdown",
   "id": "9761233e",
   "metadata": {},
   "source": [
    "## `Resolver`"
   ]
  },
  {
   "cell_type": "markdown",
   "id": "b6dee593",
   "metadata": {},
   "source": [
    "We will want to put in some requirements for our model before it is \"blessed\" and pushed to production. Perhaps we want it to be above a threshold performance, or to outperform a previously \"blessed\" model in some sense. \n",
    "\n",
    "This can be achieved by using a `Resolver`."
   ]
  },
  {
   "cell_type": "code",
   "execution_count": null,
   "id": "ca4e830c",
   "metadata": {},
   "outputs": [],
   "source": [
    "from tfx.v1.dsl import Resolver"
   ]
  },
  {
   "cell_type": "code",
   "execution_count": null,
   "id": "81af124c",
   "metadata": {},
   "outputs": [],
   "source": [
    "from tfx.types import Channel\n",
    "from tfx.types.standard_artifacts import Model, ModelBlessing"
   ]
  },
  {
   "cell_type": "code",
   "execution_count": null,
   "id": "b36e5b1e",
   "metadata": {},
   "outputs": [],
   "source": [
    "model_resolver = Resolver(\n",
    "    strategy_class=tfx.v1.dsl.experimental.LatestBlessedModelStrategy,\n",
    "    model=tfx.v1.dsl.Channel(type=Model),\n",
    "    model_blessing=Channel(\n",
    "          type=ModelBlessing)).with_id(\n",
    "              'latest_blessed_model_resolver')"
   ]
  },
  {
   "cell_type": "code",
   "execution_count": null,
   "id": "f81187bc",
   "metadata": {},
   "outputs": [],
   "source": [
    "context.run(model_resolver)"
   ]
  },
  {
   "cell_type": "markdown",
   "id": "0df53086",
   "metadata": {},
   "source": [
    "## Evaluation config"
   ]
  },
  {
   "cell_type": "markdown",
   "id": "0c6163ca-5ea5-4c2e-8366-fa1fe96cc2ec",
   "metadata": {},
   "source": [
    "The evaluation config is defined using the TensorFlow Model Analysis library."
   ]
  },
  {
   "cell_type": "code",
   "execution_count": null,
   "id": "587637f8-894a-4fb2-847e-25b1c5fa6974",
   "metadata": {},
   "outputs": [],
   "source": [
    "import tensorflow_model_analysis as tfma"
   ]
  },
  {
   "cell_type": "code",
   "execution_count": null,
   "id": "b1882a38-9e2e-405d-91fc-8e451a245402",
   "metadata": {},
   "outputs": [],
   "source": [
    "import pets_transforms"
   ]
  },
  {
   "cell_type": "code",
   "execution_count": null,
   "id": "0349bf4e-bdb9-4e71-964e-ba218682cfcf",
   "metadata": {},
   "outputs": [],
   "source": [
    "LABEL_KEY = pets_transforms.LABEL_KEY\n",
    "LABEL_KEY"
   ]
  },
  {
   "cell_type": "code",
   "execution_count": null,
   "id": "84c102a2",
   "metadata": {},
   "outputs": [],
   "source": [
    "metrics = [\n",
    "    tfma.metrics.ExampleCount(name='example_count'),\n",
    "    tf.keras.metrics.SparseCategoricalCrossentropy(\n",
    "        name='sparse_categorical_crossentropy'),\n",
    "    tf.keras.metrics.SparseCategoricalAccuracy(name='accuracy'),\n",
    "    tf.keras.metrics.Precision(name='precision', top_k=1),\n",
    "    tf.keras.metrics.Precision(name='precision', top_k=2),\n",
    "    tf.keras.metrics.Recall(name='recall', top_k=1),\n",
    "    tf.keras.metrics.Recall(name='recall', top_k=2),\n",
    "]"
   ]
  },
  {
   "cell_type": "code",
   "execution_count": null,
   "id": "15a82035-e021-4582-ad03-1a696d253dee",
   "metadata": {},
   "outputs": [],
   "source": [
    "eval_config = tfma.EvalConfig(\n",
    "    model_specs = [tfma.ModelSpec(label_key=LABEL_KEY)],\n",
    "    \n",
    "    metrics_specs=[\n",
    "        tfma.MetricsSpec(\n",
    "            # The metrics added here are in addition to those saved with the\n",
    "            # model (assuming either a keras model or EvalSavedModel is used).\n",
    "            # Any metrics added into the saved model (for example using\n",
    "            # model.compile(..., metrics=[...]), etc) will be computed\n",
    "            # automatically.\n",
    "            # Can use Keras metrics or TFMA metrics (including ones you create yourself).\n",
    "            # You can find a list of metrics here:\n",
    "            # https://github.com/tensorflow/model-analysis/blob/master/g3doc/metrics.md\n",
    "            \n",
    "            metrics=[\n",
    "                tfma.MetricConfig(class_name='ExampleCount'),\n",
    "                tfma.MetricConfig(\n",
    "                    class_name='SparseCategoricalAccuracy',\n",
    "                    threshold=tfma.MetricThreshold(\n",
    "                        value_threshold=tfma.GenericValueThreshold(\n",
    "                            lower_bound={'value': 0.3}),\n",
    "                        change_threshold=tfma.GenericChangeThreshold(\n",
    "                            direction=tfma.MetricDirection.HIGHER_IS_BETTER,\n",
    "                            absolute={'value': -1e-10})))\n",
    "            ]\n",
    "        )\n",
    "    ],\n",
    "\n",
    "    \n",
    "            \n",
    "    slicing_specs = [\n",
    "        tfma.SlicingSpec(),\n",
    "        tfma.SlicingSpec(feature_keys=['Type'])\n",
    "    ])"
   ]
  },
  {
   "cell_type": "code",
   "execution_count": null,
   "id": "d05e6b91-5459-47f5-9879-8d304cf0d840",
   "metadata": {},
   "outputs": [],
   "source": [
    "eval_config"
   ]
  },
  {
   "cell_type": "markdown",
   "id": "23571bf6-2733-448d-987b-7026530d38d2",
   "metadata": {},
   "source": [
    "# Set up the `Evaluator` component"
   ]
  },
  {
   "cell_type": "code",
   "execution_count": null,
   "id": "6aa30be5-ed95-4564-af01-f28d785f2078",
   "metadata": {},
   "outputs": [],
   "source": [
    "from tfx.components import Evaluator"
   ]
  },
  {
   "cell_type": "code",
   "execution_count": null,
   "id": "66ead724-f634-4785-b1b4-468251446410",
   "metadata": {},
   "outputs": [],
   "source": [
    "evaluator = Evaluator(\n",
    "        examples=example_gen.outputs['examples'],\n",
    "        model=trainer.outputs['model'],\n",
    "        baseline_model=model_resolver.outputs['model'],\n",
    "        eval_config=eval_config\n",
    ")"
   ]
  },
  {
   "cell_type": "code",
   "execution_count": null,
   "id": "2d65149b-e4de-4aee-8ff9-dcb0a5e0a90c",
   "metadata": {},
   "outputs": [],
   "source": [
    "context.run(evaluator)"
   ]
  },
  {
   "cell_type": "markdown",
   "id": "2ba5062e-53f8-49e9-b4af-7f49bf5a8f9a",
   "metadata": {},
   "source": [
    "# Inspect the results"
   ]
  },
  {
   "cell_type": "markdown",
   "id": "1fc54a5d",
   "metadata": {},
   "source": [
    "Did the model pass the validation?"
   ]
  },
  {
   "cell_type": "code",
   "execution_count": null,
   "id": "b6cddc08",
   "metadata": {},
   "outputs": [],
   "source": [
    "tfma.load_validation_result(evaluator.outputs['evaluation'].get()[0].uri)"
   ]
  },
  {
   "cell_type": "markdown",
   "id": "22f70d80",
   "metadata": {},
   "source": [
    "We can inspect the metrics using TFMA:"
   ]
  },
  {
   "cell_type": "code",
   "execution_count": null,
   "id": "f57e553d-cf04-4593-a3d7-e6176cd638a7",
   "metadata": {},
   "outputs": [],
   "source": [
    "evaluator.outputs['evaluation'].get()[0].uri"
   ]
  },
  {
   "cell_type": "code",
   "execution_count": null,
   "id": "1bfa5bd5-44b0-4a83-86bc-909e1f6e54d4",
   "metadata": {},
   "outputs": [],
   "source": [
    "eval_results = tfma.load_eval_result(evaluator.outputs['evaluation'].get()[0].uri)"
   ]
  },
  {
   "cell_type": "code",
   "execution_count": null,
   "id": "01947462-f016-4597-9e0f-3f809f4181db",
   "metadata": {},
   "outputs": [],
   "source": [
    "# We may need to install some notebook extensions to make the below \n",
    "# visualizations work\n",
    "!jupyter nbextension install --py --symlink tensorflow_model_analysis --sys-prefix\n",
    "!jupyter nbextension enable tensorflow_model_analysis --py --sys-prefix"
   ]
  },
  {
   "cell_type": "code",
   "execution_count": null,
   "id": "d7212e08-26ea-4abd-957a-1e09c60d86fa",
   "metadata": {},
   "outputs": [],
   "source": [
    "tfma.view.render_slicing_metrics(eval_results)"
   ]
  },
  {
   "cell_type": "markdown",
   "id": "8deccd3f",
   "metadata": {},
   "source": [
    "# Set up a `Pusher`"
   ]
  },
  {
   "cell_type": "markdown",
   "id": "2762d6ff",
   "metadata": {},
   "source": [
    "We can use a Pusher to push models that--importantly--are blessed by our validation setup."
   ]
  },
  {
   "cell_type": "code",
   "execution_count": null,
   "id": "87a4392a",
   "metadata": {},
   "outputs": [],
   "source": [
    "from tfx.components import Pusher"
   ]
  },
  {
   "cell_type": "code",
   "execution_count": null,
   "id": "045201f1",
   "metadata": {},
   "outputs": [],
   "source": [
    "from tfx.proto import pusher_pb2"
   ]
  },
  {
   "cell_type": "code",
   "execution_count": null,
   "id": "74a306cb",
   "metadata": {},
   "outputs": [],
   "source": [
    "# We'll store the pushed model locally on the disk\n",
    "# In practice, this would be location that the \n",
    "# serving instance would also have access to. \n",
    "# For example a cloud storage bucket. \n",
    "serving_model_dir = 'serving_model_dir' "
   ]
  },
  {
   "cell_type": "code",
   "execution_count": null,
   "id": "b22da6ec",
   "metadata": {},
   "outputs": [],
   "source": [
    "pusher = Pusher(\n",
    "  model=trainer.outputs['model'],\n",
    "  model_blessing=evaluator.outputs['blessing'],\n",
    "  infra_blessing=None, # We haven't looked at this\n",
    "  push_destination=pusher_pb2.PushDestination(\n",
    "    filesystem=pusher_pb2.PushDestination.Filesystem(\n",
    "        base_directory=serving_model_dir)\n",
    "  )\n",
    ")"
   ]
  },
  {
   "cell_type": "code",
   "execution_count": null,
   "id": "d7d979e5",
   "metadata": {},
   "outputs": [],
   "source": [
    "context.run(pusher)"
   ]
  },
  {
   "cell_type": "markdown",
   "id": "6749f95a-35de-4b2a-bd32-90f455cc7fde",
   "metadata": {},
   "source": [
    "# What have we done so far?"
   ]
  },
  {
   "cell_type": "markdown",
   "id": "c746f05c-b4cd-4b8d-9166-36ccf9a0888e",
   "metadata": {},
   "source": [
    "Here's our current pipeline:"
   ]
  },
  {
   "cell_type": "markdown",
   "id": "33200dfd-2046-4160-af16-6d74bb512668",
   "metadata": {},
   "source": [
    "<img width=100% src=\"assets/pipeline_5.png\">"
   ]
  },
  {
   "cell_type": "markdown",
   "id": "9da2b142",
   "metadata": {},
   "source": [
    "# What's next?"
   ]
  },
  {
   "cell_type": "markdown",
   "id": "14ff5f8d",
   "metadata": {},
   "source": [
    "The next and final step in our story is **model deployment**. In the lecture, we'll point to how that can be done using **TensorFlow Serving**. "
   ]
  }
 ],
 "metadata": {
  "kernelspec": {
   "display_name": "TFX",
   "language": "python",
   "name": "tfx"
  },
  "language_info": {
   "codemirror_mode": {
    "name": "ipython",
    "version": 3
   },
   "file_extension": ".py",
   "mimetype": "text/x-python",
   "name": "python",
   "nbconvert_exporter": "python",
   "pygments_lexer": "ipython3",
   "version": "3.8.13"
  }
 },
 "nbformat": 4,
 "nbformat_minor": 5
}
