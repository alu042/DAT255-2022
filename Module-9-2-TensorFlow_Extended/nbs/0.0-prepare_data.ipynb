{
 "cells": [
  {
   "cell_type": "markdown",
   "id": "02cc3e48-7b6f-4d99-991e-2eff8603c0a6",
   "metadata": {},
   "source": [
    "Alexander S. Lundervold, 28.03.22"
   ]
  },
  {
   "cell_type": "markdown",
   "id": "bc240aae-bed8-493b-989c-05bec0664d69",
   "metadata": {},
   "source": [
    "# Introduction"
   ]
  },
  {
   "cell_type": "markdown",
   "id": "7cedeae2-c075-4045-b6c5-33dfa16ce325",
   "metadata": {},
   "source": [
    "This notebook prepares the data sets we'll use as we go through the various components of TensorFlow Extended."
   ]
  },
  {
   "cell_type": "markdown",
   "id": "f296c7f4-c741-4f6d-9ced-f4a4df351153",
   "metadata": {},
   "source": [
    "## Data sets\n",
    "\n",
    "* A simplified version of the PetFinder.my data set from the Kaggle competition https://www.kaggle.com/c/petfinder-adoption-prediction. The simplified version was created by the TensorFlow team and used in their tutorials (e.g., https://www.tensorflow.org/tutorials/structured_data/preprocessing_layers). \n",
    "* The full PetFinder.my data set from Kaggle.\n",
    "* _More TBA_"
   ]
  },
  {
   "cell_type": "markdown",
   "id": "3d529b69-9547-4ccb-ba8a-b991c8c6d27e",
   "metadata": {},
   "source": [
    "<img src=\"assets/petfinder.png\">"
   ]
  },
  {
   "cell_type": "markdown",
   "id": "4ef80e71-7cdb-420b-8791-571df16fdd68",
   "metadata": {},
   "source": [
    "# Setup"
   ]
  },
  {
   "cell_type": "code",
   "execution_count": 1,
   "id": "393350f0-f108-447d-b105-89be291cf501",
   "metadata": {},
   "outputs": [],
   "source": [
    "%matplotlib inline\n",
    "import pandas as pd, numpy as np, urllib.requests, shutil, os\n",
    "from pathlib import Path"
   ]
  },
  {
   "cell_type": "code",
   "execution_count": 2,
   "id": "c697e114-eaf2-43e6-87ce-53c697f16abb",
   "metadata": {},
   "outputs": [],
   "source": [
    "# Check whether we're running on Colab\n",
    "try:\n",
    "    import colab\n",
    "    colab=True\n",
    "except:\n",
    "    colab=False"
   ]
  },
  {
   "cell_type": "code",
   "execution_count": 3,
   "id": "c54e265d-496c-4015-87c0-38c32058c222",
   "metadata": {},
   "outputs": [],
   "source": [
    "if not colab:\n",
    "    # Store small files in the repo:\n",
    "    NB_DIR = Path.cwd()\n",
    "    LOCAL_DATA = NB_DIR/'..'/'data' \n",
    "    PETFINDER_MINI = LOCAL_DATA/'petfinder-mini'\n",
    "    # Store larger files outside the repo:\n",
    "    DATA = Path('/home/alex/data/dat255')\n",
    "elif colab:\n",
    "    from google.colab import drive\n",
    "    drive.mount('./gdrive')\n",
    "    DATA = Path('./gdrive/MyDrive/ColabData')\n",
    "    LOCAL_DATA = DATA\n",
    "    PETFINDER_MINI = DATA/'petfinder-mini'\n",
    "    \n",
    "DATA.mkdir(exist_ok=True)"
   ]
  },
  {
   "cell_type": "markdown",
   "id": "09db7538-d57c-47d4-bee6-783f90faf6cf",
   "metadata": {},
   "source": [
    "# Download PetFinder-mini"
   ]
  },
  {
   "cell_type": "code",
   "execution_count": 4,
   "id": "e8dc34bf-42b6-4a79-824c-2d3dd910d14f",
   "metadata": {},
   "outputs": [],
   "source": [
    "petfinder_url = 'http://storage.googleapis.com/download.tensorflow.org/data/petfinder-mini.zip'"
   ]
  },
  {
   "cell_type": "code",
   "execution_count": 7,
   "id": "08b46ae2-98d0-43db-9e14-42b2aaecb24e",
   "metadata": {},
   "outputs": [],
   "source": [
    "if not os.path.isfile(PETFINDER_MINI/'petfinder-mini.csv'): \n",
    "\n",
    "    _ = urllib.request.urlretrieve(petfinder_url, filename=LOCAL_DATA/'petfinder-mini.zip')\n",
    "\n",
    "    shutil.unpack_archive(LOCAL_DATA/'petfinder-mini.zip', extract_dir=LOCAL_DATA)"
   ]
  },
  {
   "cell_type": "code",
   "execution_count": 8,
   "id": "fbfd0f28-687c-42c2-9557-c2662bc46a93",
   "metadata": {},
   "outputs": [
    {
     "data": {
      "text/html": [
       "<div>\n",
       "<style scoped>\n",
       "    .dataframe tbody tr th:only-of-type {\n",
       "        vertical-align: middle;\n",
       "    }\n",
       "\n",
       "    .dataframe tbody tr th {\n",
       "        vertical-align: top;\n",
       "    }\n",
       "\n",
       "    .dataframe thead th {\n",
       "        text-align: right;\n",
       "    }\n",
       "</style>\n",
       "<table border=\"1\" class=\"dataframe\">\n",
       "  <thead>\n",
       "    <tr style=\"text-align: right;\">\n",
       "      <th></th>\n",
       "      <th>Type</th>\n",
       "      <th>Age</th>\n",
       "      <th>Breed1</th>\n",
       "      <th>Gender</th>\n",
       "      <th>Color1</th>\n",
       "      <th>Color2</th>\n",
       "      <th>MaturitySize</th>\n",
       "      <th>FurLength</th>\n",
       "      <th>Vaccinated</th>\n",
       "      <th>Sterilized</th>\n",
       "      <th>Health</th>\n",
       "      <th>Fee</th>\n",
       "      <th>Description</th>\n",
       "      <th>PhotoAmt</th>\n",
       "      <th>AdoptionSpeed</th>\n",
       "    </tr>\n",
       "  </thead>\n",
       "  <tbody>\n",
       "    <tr>\n",
       "      <th>0</th>\n",
       "      <td>Cat</td>\n",
       "      <td>3</td>\n",
       "      <td>Tabby</td>\n",
       "      <td>Male</td>\n",
       "      <td>Black</td>\n",
       "      <td>White</td>\n",
       "      <td>Small</td>\n",
       "      <td>Short</td>\n",
       "      <td>No</td>\n",
       "      <td>No</td>\n",
       "      <td>Healthy</td>\n",
       "      <td>100</td>\n",
       "      <td>Nibble is a 3+ month old ball of cuteness. He ...</td>\n",
       "      <td>1</td>\n",
       "      <td>2</td>\n",
       "    </tr>\n",
       "    <tr>\n",
       "      <th>1</th>\n",
       "      <td>Cat</td>\n",
       "      <td>1</td>\n",
       "      <td>Domestic Medium Hair</td>\n",
       "      <td>Male</td>\n",
       "      <td>Black</td>\n",
       "      <td>Brown</td>\n",
       "      <td>Medium</td>\n",
       "      <td>Medium</td>\n",
       "      <td>Not Sure</td>\n",
       "      <td>Not Sure</td>\n",
       "      <td>Healthy</td>\n",
       "      <td>0</td>\n",
       "      <td>I just found it alone yesterday near my apartm...</td>\n",
       "      <td>2</td>\n",
       "      <td>0</td>\n",
       "    </tr>\n",
       "    <tr>\n",
       "      <th>2</th>\n",
       "      <td>Dog</td>\n",
       "      <td>1</td>\n",
       "      <td>Mixed Breed</td>\n",
       "      <td>Male</td>\n",
       "      <td>Brown</td>\n",
       "      <td>White</td>\n",
       "      <td>Medium</td>\n",
       "      <td>Medium</td>\n",
       "      <td>Yes</td>\n",
       "      <td>No</td>\n",
       "      <td>Healthy</td>\n",
       "      <td>0</td>\n",
       "      <td>Their pregnant mother was dumped by her irresp...</td>\n",
       "      <td>7</td>\n",
       "      <td>3</td>\n",
       "    </tr>\n",
       "    <tr>\n",
       "      <th>3</th>\n",
       "      <td>Dog</td>\n",
       "      <td>4</td>\n",
       "      <td>Mixed Breed</td>\n",
       "      <td>Female</td>\n",
       "      <td>Black</td>\n",
       "      <td>Brown</td>\n",
       "      <td>Medium</td>\n",
       "      <td>Short</td>\n",
       "      <td>Yes</td>\n",
       "      <td>No</td>\n",
       "      <td>Healthy</td>\n",
       "      <td>150</td>\n",
       "      <td>Good guard dog, very alert, active, obedience ...</td>\n",
       "      <td>8</td>\n",
       "      <td>2</td>\n",
       "    </tr>\n",
       "    <tr>\n",
       "      <th>4</th>\n",
       "      <td>Dog</td>\n",
       "      <td>1</td>\n",
       "      <td>Mixed Breed</td>\n",
       "      <td>Male</td>\n",
       "      <td>Black</td>\n",
       "      <td>No Color</td>\n",
       "      <td>Medium</td>\n",
       "      <td>Short</td>\n",
       "      <td>No</td>\n",
       "      <td>No</td>\n",
       "      <td>Healthy</td>\n",
       "      <td>0</td>\n",
       "      <td>This handsome yet cute boy is up for adoption....</td>\n",
       "      <td>3</td>\n",
       "      <td>2</td>\n",
       "    </tr>\n",
       "  </tbody>\n",
       "</table>\n",
       "</div>"
      ],
      "text/plain": [
       "  Type  Age                Breed1  Gender Color1    Color2 MaturitySize  \\\n",
       "0  Cat    3                 Tabby    Male  Black     White        Small   \n",
       "1  Cat    1  Domestic Medium Hair    Male  Black     Brown       Medium   \n",
       "2  Dog    1           Mixed Breed    Male  Brown     White       Medium   \n",
       "3  Dog    4           Mixed Breed  Female  Black     Brown       Medium   \n",
       "4  Dog    1           Mixed Breed    Male  Black  No Color       Medium   \n",
       "\n",
       "  FurLength Vaccinated Sterilized   Health  Fee  \\\n",
       "0     Short         No         No  Healthy  100   \n",
       "1    Medium   Not Sure   Not Sure  Healthy    0   \n",
       "2    Medium        Yes         No  Healthy    0   \n",
       "3     Short        Yes         No  Healthy  150   \n",
       "4     Short         No         No  Healthy    0   \n",
       "\n",
       "                                         Description  PhotoAmt  AdoptionSpeed  \n",
       "0  Nibble is a 3+ month old ball of cuteness. He ...         1              2  \n",
       "1  I just found it alone yesterday near my apartm...         2              0  \n",
       "2  Their pregnant mother was dumped by her irresp...         7              3  \n",
       "3  Good guard dog, very alert, active, obedience ...         8              2  \n",
       "4  This handsome yet cute boy is up for adoption....         3              2  "
      ]
     },
     "execution_count": 8,
     "metadata": {},
     "output_type": "execute_result"
    }
   ],
   "source": [
    "pd.read_csv(PETFINDER_MINI/'petfinder-mini.csv').head()"
   ]
  },
  {
   "cell_type": "markdown",
   "id": "d72a9290-40c9-4633-9bb8-86a1218bb9e1",
   "metadata": {},
   "source": [
    "Move the CSV file to a separate subdirectory:"
   ]
  },
  {
   "cell_type": "code",
   "execution_count": 8,
   "id": "56f1e0ba-f5c1-4cb9-ad90-0dcb1bbae085",
   "metadata": {},
   "outputs": [
    {
     "data": {
      "text/plain": [
       "'/data-ssd/Dropbox/Jobb/projects/ML/medGPU1-alex/DAT255-repo/TensorFlow_Extended/nbs/../data/petfinder-mini/csv/petfinder-mini.csv'"
      ]
     },
     "execution_count": 8,
     "metadata": {},
     "output_type": "execute_result"
    }
   ],
   "source": [
    "(PETFINDER_MINI/'csv').mkdir(exist_ok=True)\n",
    "(PETFINDER_MINI/'petfinder-mini.csv').rename(PETFINDER_MINI/'csv'/'petfinder-mini.csv')"
   ]
  },
  {
   "cell_type": "markdown",
   "id": "0fdd5681-614d-4bfd-acf9-1b03f4b97939",
   "metadata": {},
   "source": [
    "## Split the data"
   ]
  },
  {
   "cell_type": "markdown",
   "id": "c274d332-a52c-45bd-b696-66fbe1b5a3bb",
   "metadata": {},
   "source": [
    "It will be useful to have our data stored on disk across multiple CSV files. Let's split it at random in two parts and save them to disk:"
   ]
  },
  {
   "cell_type": "code",
   "execution_count": 9,
   "id": "03f4e9d1-d263-45b8-8e42-0b7a6ed36f39",
   "metadata": {},
   "outputs": [],
   "source": [
    "df = pd.read_csv(PETFINDER_MINI/'petfinder-mini.csv')"
   ]
  },
  {
   "cell_type": "code",
   "execution_count": 15,
   "id": "c5ea5497-2055-4561-886c-290980b4549c",
   "metadata": {},
   "outputs": [
    {
     "data": {
      "text/plain": [
       "11537"
      ]
     },
     "execution_count": 15,
     "metadata": {},
     "output_type": "execute_result"
    }
   ],
   "source": [
    "len(df)"
   ]
  },
  {
   "cell_type": "code",
   "execution_count": 11,
   "id": "e3b21390-2316-4690-8ed5-94f1810d18e9",
   "metadata": {},
   "outputs": [],
   "source": [
    "df1 = df.sample(frac=0.5)\n",
    "\n",
    "df2 = df.drop(df1.index)"
   ]
  },
  {
   "cell_type": "code",
   "execution_count": 16,
   "id": "8a3d8f79-c7fc-4783-8c79-b8c08e839943",
   "metadata": {},
   "outputs": [
    {
     "data": {
      "text/plain": [
       "(5768, 5769)"
      ]
     },
     "execution_count": 16,
     "metadata": {},
     "output_type": "execute_result"
    }
   ],
   "source": [
    "len(df1), len(df2)"
   ]
  },
  {
   "cell_type": "markdown",
   "id": "e1fb5054-12d1-4cb0-ad45-4a9fafd306ff",
   "metadata": {},
   "source": [
    "### Create some new data"
   ]
  },
  {
   "cell_type": "markdown",
   "id": "dc8ac06c-97ff-452a-9c7a-d93e0c2b9aa7",
   "metadata": {},
   "source": [
    "Later, we'll have use for some data that's in some meaningful way different from what's in PetFinder. "
   ]
  },
  {
   "cell_type": "code",
   "execution_count": 56,
   "id": "6721c171-38d9-4706-af7b-221ef5fd6002",
   "metadata": {},
   "outputs": [],
   "source": [
    "df3 = df1.sample(frac=0.001, random_state=42)\n",
    "df3.reset_index(inplace=True)\n",
    "df3.drop('index', axis=1, inplace=True)"
   ]
  },
  {
   "cell_type": "code",
   "execution_count": 57,
   "id": "a77700b9-f5cc-4853-834f-49ea8b87def3",
   "metadata": {},
   "outputs": [
    {
     "data": {
      "text/plain": [
       "6"
      ]
     },
     "execution_count": 57,
     "metadata": {},
     "output_type": "execute_result"
    }
   ],
   "source": [
    "len(df3)"
   ]
  },
  {
   "cell_type": "code",
   "execution_count": 58,
   "id": "f5e32648-28bb-4f0a-a394-7c00eeb44d70",
   "metadata": {},
   "outputs": [
    {
     "data": {
      "text/html": [
       "<div>\n",
       "<style scoped>\n",
       "    .dataframe tbody tr th:only-of-type {\n",
       "        vertical-align: middle;\n",
       "    }\n",
       "\n",
       "    .dataframe tbody tr th {\n",
       "        vertical-align: top;\n",
       "    }\n",
       "\n",
       "    .dataframe thead th {\n",
       "        text-align: right;\n",
       "    }\n",
       "</style>\n",
       "<table border=\"1\" class=\"dataframe\">\n",
       "  <thead>\n",
       "    <tr style=\"text-align: right;\">\n",
       "      <th></th>\n",
       "      <th>Type</th>\n",
       "      <th>Age</th>\n",
       "      <th>Breed1</th>\n",
       "      <th>Gender</th>\n",
       "      <th>Color1</th>\n",
       "      <th>Color2</th>\n",
       "      <th>MaturitySize</th>\n",
       "      <th>FurLength</th>\n",
       "      <th>Vaccinated</th>\n",
       "      <th>Sterilized</th>\n",
       "      <th>Health</th>\n",
       "      <th>Fee</th>\n",
       "      <th>Description</th>\n",
       "      <th>PhotoAmt</th>\n",
       "      <th>AdoptionSpeed</th>\n",
       "    </tr>\n",
       "  </thead>\n",
       "  <tbody>\n",
       "    <tr>\n",
       "      <th>0</th>\n",
       "      <td>Cat</td>\n",
       "      <td>2</td>\n",
       "      <td>Domestic Short Hair</td>\n",
       "      <td>Male</td>\n",
       "      <td>Black</td>\n",
       "      <td>White</td>\n",
       "      <td>Small</td>\n",
       "      <td>Short</td>\n",
       "      <td>Not Sure</td>\n",
       "      <td>No</td>\n",
       "      <td>Healthy</td>\n",
       "      <td>0</td>\n",
       "      <td>Location: IIUM / UIA Gombak Contact no:</td>\n",
       "      <td>2</td>\n",
       "      <td>2</td>\n",
       "    </tr>\n",
       "    <tr>\n",
       "      <th>1</th>\n",
       "      <td>Cat</td>\n",
       "      <td>4</td>\n",
       "      <td>Siamese</td>\n",
       "      <td>Female</td>\n",
       "      <td>White</td>\n",
       "      <td>No Color</td>\n",
       "      <td>Small</td>\n",
       "      <td>Short</td>\n",
       "      <td>Yes</td>\n",
       "      <td>No</td>\n",
       "      <td>Healthy</td>\n",
       "      <td>0</td>\n",
       "      <td>She's a very happy, healthy and playful. I wou...</td>\n",
       "      <td>0</td>\n",
       "      <td>1</td>\n",
       "    </tr>\n",
       "    <tr>\n",
       "      <th>2</th>\n",
       "      <td>Dog</td>\n",
       "      <td>2</td>\n",
       "      <td>Mixed Breed</td>\n",
       "      <td>Female</td>\n",
       "      <td>Black</td>\n",
       "      <td>Brown</td>\n",
       "      <td>Medium</td>\n",
       "      <td>Short</td>\n",
       "      <td>Yes</td>\n",
       "      <td>No</td>\n",
       "      <td>Healthy</td>\n",
       "      <td>80</td>\n",
       "      <td>This lovely Lady is Active, Playful &amp; Friendly...</td>\n",
       "      <td>9</td>\n",
       "      <td>2</td>\n",
       "    </tr>\n",
       "    <tr>\n",
       "      <th>3</th>\n",
       "      <td>Dog</td>\n",
       "      <td>3</td>\n",
       "      <td>Terrier</td>\n",
       "      <td>Male</td>\n",
       "      <td>Black</td>\n",
       "      <td>No Color</td>\n",
       "      <td>Large</td>\n",
       "      <td>Long</td>\n",
       "      <td>Yes</td>\n",
       "      <td>No</td>\n",
       "      <td>Healthy</td>\n",
       "      <td>0</td>\n",
       "      <td>Rescued from the car park area, Puchong</td>\n",
       "      <td>1</td>\n",
       "      <td>4</td>\n",
       "    </tr>\n",
       "    <tr>\n",
       "      <th>4</th>\n",
       "      <td>Cat</td>\n",
       "      <td>36</td>\n",
       "      <td>Persian</td>\n",
       "      <td>Male</td>\n",
       "      <td>Golden</td>\n",
       "      <td>Yellow</td>\n",
       "      <td>Medium</td>\n",
       "      <td>Medium</td>\n",
       "      <td>Not Sure</td>\n",
       "      <td>Not Sure</td>\n",
       "      <td>Healthy</td>\n",
       "      <td>0</td>\n",
       "      <td>Hi guys , i found some abandon dogs and cats i...</td>\n",
       "      <td>4</td>\n",
       "      <td>1</td>\n",
       "    </tr>\n",
       "  </tbody>\n",
       "</table>\n",
       "</div>"
      ],
      "text/plain": [
       "  Type  Age               Breed1  Gender  Color1    Color2 MaturitySize  \\\n",
       "0  Cat    2  Domestic Short Hair    Male   Black     White        Small   \n",
       "1  Cat    4              Siamese  Female   White  No Color        Small   \n",
       "2  Dog    2          Mixed Breed  Female   Black     Brown       Medium   \n",
       "3  Dog    3              Terrier    Male   Black  No Color        Large   \n",
       "4  Cat   36              Persian    Male  Golden    Yellow       Medium   \n",
       "\n",
       "  FurLength Vaccinated Sterilized   Health  Fee  \\\n",
       "0     Short   Not Sure         No  Healthy    0   \n",
       "1     Short        Yes         No  Healthy    0   \n",
       "2     Short        Yes         No  Healthy   80   \n",
       "3      Long        Yes         No  Healthy    0   \n",
       "4    Medium   Not Sure   Not Sure  Healthy    0   \n",
       "\n",
       "                                         Description  PhotoAmt  AdoptionSpeed  \n",
       "0            Location: IIUM / UIA Gombak Contact no:         2              2  \n",
       "1  She's a very happy, healthy and playful. I wou...         0              1  \n",
       "2  This lovely Lady is Active, Playful & Friendly...         9              2  \n",
       "3            Rescued from the car park area, Puchong         1              4  \n",
       "4  Hi guys , i found some abandon dogs and cats i...         4              1  "
      ]
     },
     "execution_count": 58,
     "metadata": {},
     "output_type": "execute_result"
    }
   ],
   "source": [
    "df3.head()"
   ]
  },
  {
   "cell_type": "code",
   "execution_count": 59,
   "id": "2f810887-38b6-44e8-b317-d63ae8db4cdd",
   "metadata": {},
   "outputs": [],
   "source": [
    "df3.at[0, \"Type\"] = \"Bird\"\n",
    "df3.at[1, \"Health\"] = 99\n",
    "df3.at[3, \"Age\"] = -1"
   ]
  },
  {
   "cell_type": "code",
   "execution_count": 60,
   "id": "82fddc97-18fe-4f6e-8692-4f2105b2cb6d",
   "metadata": {},
   "outputs": [
    {
     "data": {
      "text/html": [
       "<div>\n",
       "<style scoped>\n",
       "    .dataframe tbody tr th:only-of-type {\n",
       "        vertical-align: middle;\n",
       "    }\n",
       "\n",
       "    .dataframe tbody tr th {\n",
       "        vertical-align: top;\n",
       "    }\n",
       "\n",
       "    .dataframe thead th {\n",
       "        text-align: right;\n",
       "    }\n",
       "</style>\n",
       "<table border=\"1\" class=\"dataframe\">\n",
       "  <thead>\n",
       "    <tr style=\"text-align: right;\">\n",
       "      <th></th>\n",
       "      <th>Type</th>\n",
       "      <th>Age</th>\n",
       "      <th>Breed1</th>\n",
       "      <th>Gender</th>\n",
       "      <th>Color1</th>\n",
       "      <th>Color2</th>\n",
       "      <th>MaturitySize</th>\n",
       "      <th>FurLength</th>\n",
       "      <th>Vaccinated</th>\n",
       "      <th>Sterilized</th>\n",
       "      <th>Health</th>\n",
       "      <th>Fee</th>\n",
       "      <th>Description</th>\n",
       "      <th>PhotoAmt</th>\n",
       "      <th>AdoptionSpeed</th>\n",
       "    </tr>\n",
       "  </thead>\n",
       "  <tbody>\n",
       "    <tr>\n",
       "      <th>0</th>\n",
       "      <td>Bird</td>\n",
       "      <td>2</td>\n",
       "      <td>Domestic Short Hair</td>\n",
       "      <td>Male</td>\n",
       "      <td>Black</td>\n",
       "      <td>White</td>\n",
       "      <td>Small</td>\n",
       "      <td>Short</td>\n",
       "      <td>Not Sure</td>\n",
       "      <td>No</td>\n",
       "      <td>Healthy</td>\n",
       "      <td>0</td>\n",
       "      <td>Location: IIUM / UIA Gombak Contact no:</td>\n",
       "      <td>2</td>\n",
       "      <td>2</td>\n",
       "    </tr>\n",
       "    <tr>\n",
       "      <th>1</th>\n",
       "      <td>Cat</td>\n",
       "      <td>4</td>\n",
       "      <td>Siamese</td>\n",
       "      <td>Female</td>\n",
       "      <td>White</td>\n",
       "      <td>No Color</td>\n",
       "      <td>Small</td>\n",
       "      <td>Short</td>\n",
       "      <td>Yes</td>\n",
       "      <td>No</td>\n",
       "      <td>99</td>\n",
       "      <td>0</td>\n",
       "      <td>She's a very happy, healthy and playful. I wou...</td>\n",
       "      <td>0</td>\n",
       "      <td>1</td>\n",
       "    </tr>\n",
       "    <tr>\n",
       "      <th>2</th>\n",
       "      <td>Dog</td>\n",
       "      <td>2</td>\n",
       "      <td>Mixed Breed</td>\n",
       "      <td>Female</td>\n",
       "      <td>Black</td>\n",
       "      <td>Brown</td>\n",
       "      <td>Medium</td>\n",
       "      <td>Short</td>\n",
       "      <td>Yes</td>\n",
       "      <td>No</td>\n",
       "      <td>Healthy</td>\n",
       "      <td>80</td>\n",
       "      <td>This lovely Lady is Active, Playful &amp; Friendly...</td>\n",
       "      <td>9</td>\n",
       "      <td>2</td>\n",
       "    </tr>\n",
       "    <tr>\n",
       "      <th>3</th>\n",
       "      <td>Dog</td>\n",
       "      <td>-1</td>\n",
       "      <td>Terrier</td>\n",
       "      <td>Male</td>\n",
       "      <td>Black</td>\n",
       "      <td>No Color</td>\n",
       "      <td>Large</td>\n",
       "      <td>Long</td>\n",
       "      <td>Yes</td>\n",
       "      <td>No</td>\n",
       "      <td>Healthy</td>\n",
       "      <td>0</td>\n",
       "      <td>Rescued from the car park area, Puchong</td>\n",
       "      <td>1</td>\n",
       "      <td>4</td>\n",
       "    </tr>\n",
       "    <tr>\n",
       "      <th>4</th>\n",
       "      <td>Cat</td>\n",
       "      <td>36</td>\n",
       "      <td>Persian</td>\n",
       "      <td>Male</td>\n",
       "      <td>Golden</td>\n",
       "      <td>Yellow</td>\n",
       "      <td>Medium</td>\n",
       "      <td>Medium</td>\n",
       "      <td>Not Sure</td>\n",
       "      <td>Not Sure</td>\n",
       "      <td>Healthy</td>\n",
       "      <td>0</td>\n",
       "      <td>Hi guys , i found some abandon dogs and cats i...</td>\n",
       "      <td>4</td>\n",
       "      <td>1</td>\n",
       "    </tr>\n",
       "  </tbody>\n",
       "</table>\n",
       "</div>"
      ],
      "text/plain": [
       "   Type  Age               Breed1  Gender  Color1    Color2 MaturitySize  \\\n",
       "0  Bird    2  Domestic Short Hair    Male   Black     White        Small   \n",
       "1   Cat    4              Siamese  Female   White  No Color        Small   \n",
       "2   Dog    2          Mixed Breed  Female   Black     Brown       Medium   \n",
       "3   Dog   -1              Terrier    Male   Black  No Color        Large   \n",
       "4   Cat   36              Persian    Male  Golden    Yellow       Medium   \n",
       "\n",
       "  FurLength Vaccinated Sterilized   Health  Fee  \\\n",
       "0     Short   Not Sure         No  Healthy    0   \n",
       "1     Short        Yes         No       99    0   \n",
       "2     Short        Yes         No  Healthy   80   \n",
       "3      Long        Yes         No  Healthy    0   \n",
       "4    Medium   Not Sure   Not Sure  Healthy    0   \n",
       "\n",
       "                                         Description  PhotoAmt  AdoptionSpeed  \n",
       "0            Location: IIUM / UIA Gombak Contact no:         2              2  \n",
       "1  She's a very happy, healthy and playful. I wou...         0              1  \n",
       "2  This lovely Lady is Active, Playful & Friendly...         9              2  \n",
       "3            Rescued from the car park area, Puchong         1              4  \n",
       "4  Hi guys , i found some abandon dogs and cats i...         4              1  "
      ]
     },
     "execution_count": 60,
     "metadata": {},
     "output_type": "execute_result"
    }
   ],
   "source": [
    "df3.head()"
   ]
  },
  {
   "cell_type": "markdown",
   "id": "d4b8bce7-14d9-4579-be49-fe03c71e9f07",
   "metadata": {},
   "source": [
    "### Save to disk"
   ]
  },
  {
   "cell_type": "code",
   "execution_count": 61,
   "id": "5ff847ed-a91e-4640-bedb-77660bdb56b0",
   "metadata": {},
   "outputs": [],
   "source": [
    "(PETFINDER_MINI/'split_csv').mkdir(exist_ok=True)"
   ]
  },
  {
   "cell_type": "code",
   "execution_count": 62,
   "id": "37e69b1f-2dc9-44d4-ab00-b6f20094319d",
   "metadata": {},
   "outputs": [],
   "source": [
    "df1.to_csv(PETFINDER_MINI/'split_csv'/'span1.csv', index=None)"
   ]
  },
  {
   "cell_type": "code",
   "execution_count": 63,
   "id": "08890e17-fa42-402e-a24c-c5e326772bd0",
   "metadata": {},
   "outputs": [],
   "source": [
    "df2.to_csv(PETFINDER_MINI/'split_csv'/'span2.csv', index=None)"
   ]
  },
  {
   "cell_type": "code",
   "execution_count": 64,
   "id": "2b6c2615-32ed-4a0d-ba67-0ed3ecf0a738",
   "metadata": {},
   "outputs": [],
   "source": [
    "df3.to_csv(PETFINDER_MINI/'split_csv'/'span3.csv', index=None)"
   ]
  },
  {
   "cell_type": "markdown",
   "id": "cc0bd147-3d18-43c6-87b6-75ccd0f1a439",
   "metadata": {
    "tags": []
   },
   "source": [
    "# Download full PetFinder dataset"
   ]
  },
  {
   "cell_type": "markdown",
   "id": "da5de532-07d3-4810-97be-94385db294c5",
   "metadata": {},
   "source": [
    "_TBA_"
   ]
  },
  {
   "cell_type": "markdown",
   "id": "3b810ff2-ef03-4729-8201-e5d49626ad50",
   "metadata": {},
   "source": [
    "# Download the Flowers dataset"
   ]
  },
  {
   "cell_type": "markdown",
   "id": "4ce264b2-e647-4098-b756-b51d9c568aa5",
   "metadata": {},
   "source": [
    "_TBA_"
   ]
  }
 ],
 "metadata": {
  "kernelspec": {
   "display_name": "tf",
   "language": "python",
   "name": "tf"
  },
  "language_info": {
   "codemirror_mode": {
    "name": "ipython",
    "version": 3
   },
   "file_extension": ".py",
   "mimetype": "text/x-python",
   "name": "python",
   "nbconvert_exporter": "python",
   "pygments_lexer": "ipython3",
   "version": "3.9.11"
  }
 },
 "nbformat": 4,
 "nbformat_minor": 5
}
