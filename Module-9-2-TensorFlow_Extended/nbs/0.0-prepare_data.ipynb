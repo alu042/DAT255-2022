{
 "cells": [
  {
   "cell_type": "markdown",
   "id": "02cc3e48-7b6f-4d99-991e-2eff8603c0a6",
   "metadata": {},
   "source": [
    "Alexander S. Lundervold, 28.03.22"
   ]
  },
  {
   "cell_type": "markdown",
   "id": "bc240aae-bed8-493b-989c-05bec0664d69",
   "metadata": {},
   "source": [
    "# Introduction"
   ]
  },
  {
   "cell_type": "markdown",
   "id": "7cedeae2-c075-4045-b6c5-33dfa16ce325",
   "metadata": {},
   "source": [
    "This notebook prepares the data sets we'll use as we go through the various components of TensorFlow Extended."
   ]
  },
  {
   "cell_type": "markdown",
   "id": "f296c7f4-c741-4f6d-9ced-f4a4df351153",
   "metadata": {},
   "source": [
    "## Data sets\n",
    "\n",
    "* A simplified version of the PetFinder.my data set from the Kaggle competition https://www.kaggle.com/c/petfinder-adoption-prediction. The simplified version was created by the TensorFlow team and used in their tutorials (e.g., https://www.tensorflow.org/tutorials/structured_data/preprocessing_layers). \n",
    "* The full PetFinder.my data set from Kaggle.\n",
    "* _More TBA_"
   ]
  },
  {
   "cell_type": "markdown",
   "id": "3d529b69-9547-4ccb-ba8a-b991c8c6d27e",
   "metadata": {},
   "source": [
    "<img src=\"assets/petfinder.png\">"
   ]
  },
  {
   "cell_type": "markdown",
   "id": "4ef80e71-7cdb-420b-8791-571df16fdd68",
   "metadata": {},
   "source": [
    "# Setup"
   ]
  },
  {
   "cell_type": "code",
   "execution_count": 2,
   "id": "393350f0-f108-447d-b105-89be291cf501",
   "metadata": {},
   "outputs": [],
   "source": [
    "%matplotlib inline\n",
    "import pandas as pd, numpy as np, urllib, shutil, os\n",
    "from pathlib import Path"
   ]
  },
  {
   "cell_type": "code",
   "execution_count": null,
   "id": "c697e114-eaf2-43e6-87ce-53c697f16abb",
   "metadata": {},
   "outputs": [],
   "source": [
    "# Check whether we're running on Colab\n",
    "try:\n",
    "    import colab\n",
    "    colab=True\n",
    "except:\n",
    "    colab=False"
   ]
  },
  {
   "cell_type": "code",
   "execution_count": 3,
   "id": "c54e265d-496c-4015-87c0-38c32058c222",
   "metadata": {},
   "outputs": [],
   "source": [
    "if not colab:\n",
    "    # Store small files in the repo:\n",
    "    NB_DIR = Path.cwd()\n",
    "    LOCAL_DATA = NB_DIR/'..'/'data' \n",
    "    PETFINDER_MINI = LOCAL_DATA/'petfinder-mini'\n",
    "    # Store larger files outside the repo:\n",
    "    DATA = Path('/home/alex/data/dat255')\n",
    "elif colab:\n",
    "    from google.colab import drive\n",
    "    drive.mount('./gdrive')\n",
    "    DATA = Path('./gdrive/MyDrive/ColabData')\n",
    "    PETFINDER_MINI = DATA/'petfinder-mini'\n",
    "    \n",
    "DATA.mkdir(exist_ok=True)"
   ]
  },
  {
   "cell_type": "markdown",
   "id": "09db7538-d57c-47d4-bee6-783f90faf6cf",
   "metadata": {},
   "source": [
    "# Download PetFinder-mini"
   ]
  },
  {
   "cell_type": "code",
   "execution_count": 4,
   "id": "e8dc34bf-42b6-4a79-824c-2d3dd910d14f",
   "metadata": {},
   "outputs": [],
   "source": [
    "petfinder_url = 'http://storage.googleapis.com/download.tensorflow.org/data/petfinder-mini.zip'"
   ]
  },
  {
   "cell_type": "code",
   "execution_count": 5,
   "id": "08b46ae2-98d0-43db-9e14-42b2aaecb24e",
   "metadata": {},
   "outputs": [],
   "source": [
    "if not os.path.isfile(PETFINDER_MINI/'petfinder-mini.csv'): \n",
    "\n",
    "    _ = urllib.request.urlretrieve(petfinder_url, filename=LOCAL_DATA/'petfinder-mini.zip')\n",
    "\n",
    "    shutil.unpack_archive(LOCAL_DATA/'petfinder-mini.zip', extract_dir=LOCAL_DATA)"
   ]
  },
  {
   "cell_type": "code",
   "execution_count": 7,
   "id": "fbfd0f28-687c-42c2-9557-c2662bc46a93",
   "metadata": {},
   "outputs": [
    {
     "data": {
      "text/html": [
       "<div>\n",
       "<style scoped>\n",
       "    .dataframe tbody tr th:only-of-type {\n",
       "        vertical-align: middle;\n",
       "    }\n",
       "\n",
       "    .dataframe tbody tr th {\n",
       "        vertical-align: top;\n",
       "    }\n",
       "\n",
       "    .dataframe thead th {\n",
       "        text-align: right;\n",
       "    }\n",
       "</style>\n",
       "<table border=\"1\" class=\"dataframe\">\n",
       "  <thead>\n",
       "    <tr style=\"text-align: right;\">\n",
       "      <th></th>\n",
       "      <th>Type</th>\n",
       "      <th>Age</th>\n",
       "      <th>Breed1</th>\n",
       "      <th>Gender</th>\n",
       "      <th>Color1</th>\n",
       "      <th>Color2</th>\n",
       "      <th>MaturitySize</th>\n",
       "      <th>FurLength</th>\n",
       "      <th>Vaccinated</th>\n",
       "      <th>Sterilized</th>\n",
       "      <th>Health</th>\n",
       "      <th>Fee</th>\n",
       "      <th>Description</th>\n",
       "      <th>PhotoAmt</th>\n",
       "      <th>AdoptionSpeed</th>\n",
       "    </tr>\n",
       "  </thead>\n",
       "  <tbody>\n",
       "    <tr>\n",
       "      <th>0</th>\n",
       "      <td>Cat</td>\n",
       "      <td>3</td>\n",
       "      <td>Tabby</td>\n",
       "      <td>Male</td>\n",
       "      <td>Black</td>\n",
       "      <td>White</td>\n",
       "      <td>Small</td>\n",
       "      <td>Short</td>\n",
       "      <td>No</td>\n",
       "      <td>No</td>\n",
       "      <td>Healthy</td>\n",
       "      <td>100</td>\n",
       "      <td>Nibble is a 3+ month old ball of cuteness. He ...</td>\n",
       "      <td>1</td>\n",
       "      <td>2</td>\n",
       "    </tr>\n",
       "    <tr>\n",
       "      <th>1</th>\n",
       "      <td>Cat</td>\n",
       "      <td>1</td>\n",
       "      <td>Domestic Medium Hair</td>\n",
       "      <td>Male</td>\n",
       "      <td>Black</td>\n",
       "      <td>Brown</td>\n",
       "      <td>Medium</td>\n",
       "      <td>Medium</td>\n",
       "      <td>Not Sure</td>\n",
       "      <td>Not Sure</td>\n",
       "      <td>Healthy</td>\n",
       "      <td>0</td>\n",
       "      <td>I just found it alone yesterday near my apartm...</td>\n",
       "      <td>2</td>\n",
       "      <td>0</td>\n",
       "    </tr>\n",
       "    <tr>\n",
       "      <th>2</th>\n",
       "      <td>Dog</td>\n",
       "      <td>1</td>\n",
       "      <td>Mixed Breed</td>\n",
       "      <td>Male</td>\n",
       "      <td>Brown</td>\n",
       "      <td>White</td>\n",
       "      <td>Medium</td>\n",
       "      <td>Medium</td>\n",
       "      <td>Yes</td>\n",
       "      <td>No</td>\n",
       "      <td>Healthy</td>\n",
       "      <td>0</td>\n",
       "      <td>Their pregnant mother was dumped by her irresp...</td>\n",
       "      <td>7</td>\n",
       "      <td>3</td>\n",
       "    </tr>\n",
       "    <tr>\n",
       "      <th>3</th>\n",
       "      <td>Dog</td>\n",
       "      <td>4</td>\n",
       "      <td>Mixed Breed</td>\n",
       "      <td>Female</td>\n",
       "      <td>Black</td>\n",
       "      <td>Brown</td>\n",
       "      <td>Medium</td>\n",
       "      <td>Short</td>\n",
       "      <td>Yes</td>\n",
       "      <td>No</td>\n",
       "      <td>Healthy</td>\n",
       "      <td>150</td>\n",
       "      <td>Good guard dog, very alert, active, obedience ...</td>\n",
       "      <td>8</td>\n",
       "      <td>2</td>\n",
       "    </tr>\n",
       "    <tr>\n",
       "      <th>4</th>\n",
       "      <td>Dog</td>\n",
       "      <td>1</td>\n",
       "      <td>Mixed Breed</td>\n",
       "      <td>Male</td>\n",
       "      <td>Black</td>\n",
       "      <td>No Color</td>\n",
       "      <td>Medium</td>\n",
       "      <td>Short</td>\n",
       "      <td>No</td>\n",
       "      <td>No</td>\n",
       "      <td>Healthy</td>\n",
       "      <td>0</td>\n",
       "      <td>This handsome yet cute boy is up for adoption....</td>\n",
       "      <td>3</td>\n",
       "      <td>2</td>\n",
       "    </tr>\n",
       "  </tbody>\n",
       "</table>\n",
       "</div>"
      ],
      "text/plain": [
       "  Type  Age                Breed1  Gender Color1    Color2 MaturitySize  \\\n",
       "0  Cat    3                 Tabby    Male  Black     White        Small   \n",
       "1  Cat    1  Domestic Medium Hair    Male  Black     Brown       Medium   \n",
       "2  Dog    1           Mixed Breed    Male  Brown     White       Medium   \n",
       "3  Dog    4           Mixed Breed  Female  Black     Brown       Medium   \n",
       "4  Dog    1           Mixed Breed    Male  Black  No Color       Medium   \n",
       "\n",
       "  FurLength Vaccinated Sterilized   Health  Fee  \\\n",
       "0     Short         No         No  Healthy  100   \n",
       "1    Medium   Not Sure   Not Sure  Healthy    0   \n",
       "2    Medium        Yes         No  Healthy    0   \n",
       "3     Short        Yes         No  Healthy  150   \n",
       "4     Short         No         No  Healthy    0   \n",
       "\n",
       "                                         Description  PhotoAmt  AdoptionSpeed  \n",
       "0  Nibble is a 3+ month old ball of cuteness. He ...         1              2  \n",
       "1  I just found it alone yesterday near my apartm...         2              0  \n",
       "2  Their pregnant mother was dumped by her irresp...         7              3  \n",
       "3  Good guard dog, very alert, active, obedience ...         8              2  \n",
       "4  This handsome yet cute boy is up for adoption....         3              2  "
      ]
     },
     "execution_count": 7,
     "metadata": {},
     "output_type": "execute_result"
    }
   ],
   "source": [
    "pd.read_csv(PETFINDER_MINI/'petfinder-mini.csv').head()"
   ]
  },
  {
   "cell_type": "markdown",
   "id": "d72a9290-40c9-4633-9bb8-86a1218bb9e1",
   "metadata": {},
   "source": [
    "Move the CSV file to a separate subdirectory:"
   ]
  },
  {
   "cell_type": "code",
   "execution_count": 8,
   "id": "56f1e0ba-f5c1-4cb9-ad90-0dcb1bbae085",
   "metadata": {},
   "outputs": [
    {
     "data": {
      "text/plain": [
       "'/data-ssd/Dropbox/Jobb/projects/ML/medGPU1-alex/DAT255-repo/TensorFlow_Extended/nbs/../data/petfinder-mini/csv/petfinder-mini.csv'"
      ]
     },
     "execution_count": 8,
     "metadata": {},
     "output_type": "execute_result"
    }
   ],
   "source": [
    "(PETFINDER_MINI/'csv').mkdir(exist_ok=True)\n",
    "shutil.move(PETFINDER_MINI/'petfinder-mini.csv', PETFINDER_MINI/'csv')"
   ]
  },
  {
   "cell_type": "markdown",
   "id": "0fdd5681-614d-4bfd-acf9-1b03f4b97939",
   "metadata": {},
   "source": [
    "## Create a TFRecords version"
   ]
  },
  {
   "cell_type": "markdown",
   "id": "2ab2bb5e-6f8b-4f68-892a-aed21214e455",
   "metadata": {},
   "source": [
    "_TBA_"
   ]
  },
  {
   "cell_type": "markdown",
   "id": "cc0bd147-3d18-43c6-87b6-75ccd0f1a439",
   "metadata": {
    "tags": []
   },
   "source": [
    "# Download full PetFinder dataset"
   ]
  },
  {
   "cell_type": "markdown",
   "id": "da5de532-07d3-4810-97be-94385db294c5",
   "metadata": {},
   "source": [
    "_TBA_"
   ]
  },
  {
   "cell_type": "markdown",
   "id": "3b810ff2-ef03-4729-8201-e5d49626ad50",
   "metadata": {},
   "source": [
    "# Download the Flowers dataset"
   ]
  },
  {
   "cell_type": "markdown",
   "id": "4ce264b2-e647-4098-b756-b51d9c568aa5",
   "metadata": {},
   "source": [
    "_TBA_"
   ]
  }
 ],
 "metadata": {
  "kernelspec": {
   "display_name": "tf",
   "language": "python",
   "name": "tf"
  },
  "language_info": {
   "codemirror_mode": {
    "name": "ipython",
    "version": 3
   },
   "file_extension": ".py",
   "mimetype": "text/x-python",
   "name": "python",
   "nbconvert_exporter": "python",
   "pygments_lexer": "ipython3",
   "version": "3.9.11"
  }
 },
 "nbformat": 4,
 "nbformat_minor": 5
}
