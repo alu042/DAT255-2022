{
 "cells": [
  {
   "cell_type": "markdown",
   "id": "c98f6b49",
   "metadata": {
    "heading_collapsed": true
   },
   "source": [
    "# Introduction"
   ]
  },
  {
   "cell_type": "markdown",
   "id": "c5f7efac",
   "metadata": {
    "hidden": true
   },
   "source": [
    "The notebook gives an example of how one can deal with tabular data using tensorflow. "
   ]
  },
  {
   "cell_type": "markdown",
   "id": "f95ed80e",
   "metadata": {
    "hidden": true
   },
   "source": [
    "> This will be a very quick example. For more details, consult the TensorFlow documentation. The material below is following the tutorial https://www.tensorflow.org/tutorials/structured_data/preprocessing_layers quite closely, using many of the functions shown there."
   ]
  },
  {
   "cell_type": "markdown",
   "id": "94a0ba3e",
   "metadata": {
    "hidden": true
   },
   "source": [
    "**Main takeaways and motivation:**\n",
    "\n",
    "* Last time we had a look at an image classification example in TensorFlow. This notebook continues our explorations by showcasing a different kind of problem and data set\n",
    "* Get to know some important TensorFlow concepts and players, e.g., `tf.data` and preprocessing layers.\n",
    "* See that it is possible to use non neural net-based models in TensorFlow, compatible with the other components of TensorFlow. "
   ]
  },
  {
   "cell_type": "markdown",
   "id": "8d7a4aca",
   "metadata": {
    "heading_collapsed": true
   },
   "source": [
    "# Setup"
   ]
  },
  {
   "cell_type": "code",
   "execution_count": 1,
   "id": "ac4b04d0",
   "metadata": {
    "hidden": true
   },
   "outputs": [],
   "source": [
    "%matplotlib inline\n",
    "import numpy as np, pandas as pd\n",
    "from pathlib import Path"
   ]
  },
  {
   "cell_type": "code",
   "execution_count": null,
   "id": "1142cd3a",
   "metadata": {},
   "outputs": [],
   "source": [
    "# This is a quick check of whether the notebook is currently running on Google Colaboratory, \n",
    "# as that makes some difference for the code below.\n",
    "if 'google.colab' in str(get_ipython()):\n",
    "    print('The notebook is running on Colab. colab=True.')\n",
    "    colab=True\n",
    "else:\n",
    "    print('The notebook is not running on Colab. colab=False.')\n",
    "    colab=False"
   ]
  },
  {
   "cell_type": "code",
   "execution_count": 2,
   "id": "b4ef8a41",
   "metadata": {
    "hidden": true
   },
   "outputs": [],
   "source": [
    "import tensorflow as tf"
   ]
  },
  {
   "cell_type": "markdown",
   "id": "5e45a0f5",
   "metadata": {},
   "source": [
    "# Load the data"
   ]
  },
  {
   "cell_type": "markdown",
   "id": "e8ea9b43",
   "metadata": {},
   "source": [
    "We'll use a version of the heart disease data set from UCI ML repository: https://archive.ics.uci.edu/ml/datasets/heart+Disease"
   ]
  },
  {
   "cell_type": "markdown",
   "id": "9c6cef1e",
   "metadata": {},
   "source": [
    "## Load data as a Pandas DataFrame"
   ]
  },
  {
   "cell_type": "code",
   "execution_count": 3,
   "id": "7f970552",
   "metadata": {},
   "outputs": [],
   "source": [
    "# We use a version of the data prepared by TensorFlow\n",
    "url = 'https://storage.googleapis.com/download.tensorflow.org/data/heart.csv'"
   ]
  },
  {
   "cell_type": "code",
   "execution_count": 4,
   "id": "9d651f90",
   "metadata": {},
   "outputs": [],
   "source": [
    "df = pd.read_csv(url)"
   ]
  },
  {
   "cell_type": "code",
   "execution_count": 5,
   "id": "9b743d7b",
   "metadata": {},
   "outputs": [
    {
     "data": {
      "text/html": [
       "<div>\n",
       "<style scoped>\n",
       "    .dataframe tbody tr th:only-of-type {\n",
       "        vertical-align: middle;\n",
       "    }\n",
       "\n",
       "    .dataframe tbody tr th {\n",
       "        vertical-align: top;\n",
       "    }\n",
       "\n",
       "    .dataframe thead th {\n",
       "        text-align: right;\n",
       "    }\n",
       "</style>\n",
       "<table border=\"1\" class=\"dataframe\">\n",
       "  <thead>\n",
       "    <tr style=\"text-align: right;\">\n",
       "      <th></th>\n",
       "      <th>age</th>\n",
       "      <th>sex</th>\n",
       "      <th>cp</th>\n",
       "      <th>trestbps</th>\n",
       "      <th>chol</th>\n",
       "      <th>fbs</th>\n",
       "      <th>restecg</th>\n",
       "      <th>thalach</th>\n",
       "      <th>exang</th>\n",
       "      <th>oldpeak</th>\n",
       "      <th>slope</th>\n",
       "      <th>ca</th>\n",
       "      <th>thal</th>\n",
       "      <th>target</th>\n",
       "    </tr>\n",
       "  </thead>\n",
       "  <tbody>\n",
       "    <tr>\n",
       "      <th>0</th>\n",
       "      <td>63</td>\n",
       "      <td>1</td>\n",
       "      <td>1</td>\n",
       "      <td>145</td>\n",
       "      <td>233</td>\n",
       "      <td>1</td>\n",
       "      <td>2</td>\n",
       "      <td>150</td>\n",
       "      <td>0</td>\n",
       "      <td>2.3</td>\n",
       "      <td>3</td>\n",
       "      <td>0</td>\n",
       "      <td>fixed</td>\n",
       "      <td>0</td>\n",
       "    </tr>\n",
       "    <tr>\n",
       "      <th>1</th>\n",
       "      <td>67</td>\n",
       "      <td>1</td>\n",
       "      <td>4</td>\n",
       "      <td>160</td>\n",
       "      <td>286</td>\n",
       "      <td>0</td>\n",
       "      <td>2</td>\n",
       "      <td>108</td>\n",
       "      <td>1</td>\n",
       "      <td>1.5</td>\n",
       "      <td>2</td>\n",
       "      <td>3</td>\n",
       "      <td>normal</td>\n",
       "      <td>1</td>\n",
       "    </tr>\n",
       "    <tr>\n",
       "      <th>2</th>\n",
       "      <td>67</td>\n",
       "      <td>1</td>\n",
       "      <td>4</td>\n",
       "      <td>120</td>\n",
       "      <td>229</td>\n",
       "      <td>0</td>\n",
       "      <td>2</td>\n",
       "      <td>129</td>\n",
       "      <td>1</td>\n",
       "      <td>2.6</td>\n",
       "      <td>2</td>\n",
       "      <td>2</td>\n",
       "      <td>reversible</td>\n",
       "      <td>0</td>\n",
       "    </tr>\n",
       "    <tr>\n",
       "      <th>3</th>\n",
       "      <td>37</td>\n",
       "      <td>1</td>\n",
       "      <td>3</td>\n",
       "      <td>130</td>\n",
       "      <td>250</td>\n",
       "      <td>0</td>\n",
       "      <td>0</td>\n",
       "      <td>187</td>\n",
       "      <td>0</td>\n",
       "      <td>3.5</td>\n",
       "      <td>3</td>\n",
       "      <td>0</td>\n",
       "      <td>normal</td>\n",
       "      <td>0</td>\n",
       "    </tr>\n",
       "    <tr>\n",
       "      <th>4</th>\n",
       "      <td>41</td>\n",
       "      <td>0</td>\n",
       "      <td>2</td>\n",
       "      <td>130</td>\n",
       "      <td>204</td>\n",
       "      <td>0</td>\n",
       "      <td>2</td>\n",
       "      <td>172</td>\n",
       "      <td>0</td>\n",
       "      <td>1.4</td>\n",
       "      <td>1</td>\n",
       "      <td>0</td>\n",
       "      <td>normal</td>\n",
       "      <td>0</td>\n",
       "    </tr>\n",
       "  </tbody>\n",
       "</table>\n",
       "</div>"
      ],
      "text/plain": [
       "   age  sex  cp  trestbps  chol  fbs  restecg  thalach  exang  oldpeak  slope  \\\n",
       "0   63    1   1       145   233    1        2      150      0      2.3      3   \n",
       "1   67    1   4       160   286    0        2      108      1      1.5      2   \n",
       "2   67    1   4       120   229    0        2      129      1      2.6      2   \n",
       "3   37    1   3       130   250    0        0      187      0      3.5      3   \n",
       "4   41    0   2       130   204    0        2      172      0      1.4      1   \n",
       "\n",
       "   ca        thal  target  \n",
       "0   0       fixed       0  \n",
       "1   3      normal       1  \n",
       "2   2  reversible       0  \n",
       "3   0      normal       0  \n",
       "4   0      normal       0  "
      ]
     },
     "execution_count": 5,
     "metadata": {},
     "output_type": "execute_result"
    }
   ],
   "source": [
    "df.head()"
   ]
  },
  {
   "cell_type": "code",
   "execution_count": 6,
   "id": "f953bc54",
   "metadata": {},
   "outputs": [
    {
     "name": "stdout",
     "output_type": "stream",
     "text": [
      "<class 'pandas.core.frame.DataFrame'>\n",
      "RangeIndex: 303 entries, 0 to 302\n",
      "Data columns (total 14 columns):\n",
      " #   Column    Non-Null Count  Dtype  \n",
      "---  ------    --------------  -----  \n",
      " 0   age       303 non-null    int64  \n",
      " 1   sex       303 non-null    int64  \n",
      " 2   cp        303 non-null    int64  \n",
      " 3   trestbps  303 non-null    int64  \n",
      " 4   chol      303 non-null    int64  \n",
      " 5   fbs       303 non-null    int64  \n",
      " 6   restecg   303 non-null    int64  \n",
      " 7   thalach   303 non-null    int64  \n",
      " 8   exang     303 non-null    int64  \n",
      " 9   oldpeak   303 non-null    float64\n",
      " 10  slope     303 non-null    int64  \n",
      " 11  ca        303 non-null    int64  \n",
      " 12  thal      303 non-null    object \n",
      " 13  target    303 non-null    int64  \n",
      "dtypes: float64(1), int64(12), object(1)\n",
      "memory usage: 33.3+ KB\n"
     ]
    }
   ],
   "source": [
    "df.info()"
   ]
  },
  {
   "cell_type": "code",
   "execution_count": 7,
   "id": "d16730de",
   "metadata": {},
   "outputs": [
    {
     "data": {
      "text/plain": [
       "0    220\n",
       "1     83\n",
       "Name: target, dtype: int64"
      ]
     },
     "execution_count": 7,
     "metadata": {},
     "output_type": "execute_result"
    }
   ],
   "source": [
    "df.target.value_countscounts()"
   ]
  },
  {
   "cell_type": "markdown",
   "id": "68219092",
   "metadata": {},
   "source": [
    "## Split train and test"
   ]
  },
  {
   "cell_type": "code",
   "execution_count": 8,
   "id": "c1bfba91",
   "metadata": {},
   "outputs": [],
   "source": [
    "from sklearn.model_selection import train_test_split"
   ]
  },
  {
   "cell_type": "code",
   "execution_count": 13,
   "id": "8737f924",
   "metadata": {},
   "outputs": [],
   "source": [
    "train, test = train_test_split(df, stratify=df.target)"
   ]
  },
  {
   "cell_type": "code",
   "execution_count": 14,
   "id": "3e1522df",
   "metadata": {},
   "outputs": [
    {
     "name": "stdout",
     "output_type": "stream",
     "text": [
      "<class 'pandas.core.frame.DataFrame'>\n",
      "Int64Index: 227 entries, 186 to 193\n",
      "Data columns (total 14 columns):\n",
      " #   Column    Non-Null Count  Dtype  \n",
      "---  ------    --------------  -----  \n",
      " 0   age       227 non-null    int64  \n",
      " 1   sex       227 non-null    int64  \n",
      " 2   cp        227 non-null    int64  \n",
      " 3   trestbps  227 non-null    int64  \n",
      " 4   chol      227 non-null    int64  \n",
      " 5   fbs       227 non-null    int64  \n",
      " 6   restecg   227 non-null    int64  \n",
      " 7   thalach   227 non-null    int64  \n",
      " 8   exang     227 non-null    int64  \n",
      " 9   oldpeak   227 non-null    float64\n",
      " 10  slope     227 non-null    int64  \n",
      " 11  ca        227 non-null    int64  \n",
      " 12  thal      227 non-null    object \n",
      " 13  target    227 non-null    int64  \n",
      "dtypes: float64(1), int64(12), object(1)\n",
      "memory usage: 26.6+ KB\n"
     ]
    }
   ],
   "source": [
    "train.info()"
   ]
  },
  {
   "cell_type": "code",
   "execution_count": 15,
   "id": "ce42e79e",
   "metadata": {},
   "outputs": [
    {
     "name": "stdout",
     "output_type": "stream",
     "text": [
      "<class 'pandas.core.frame.DataFrame'>\n",
      "Int64Index: 76 entries, 211 to 291\n",
      "Data columns (total 14 columns):\n",
      " #   Column    Non-Null Count  Dtype  \n",
      "---  ------    --------------  -----  \n",
      " 0   age       76 non-null     int64  \n",
      " 1   sex       76 non-null     int64  \n",
      " 2   cp        76 non-null     int64  \n",
      " 3   trestbps  76 non-null     int64  \n",
      " 4   chol      76 non-null     int64  \n",
      " 5   fbs       76 non-null     int64  \n",
      " 6   restecg   76 non-null     int64  \n",
      " 7   thalach   76 non-null     int64  \n",
      " 8   exang     76 non-null     int64  \n",
      " 9   oldpeak   76 non-null     float64\n",
      " 10  slope     76 non-null     int64  \n",
      " 11  ca        76 non-null     int64  \n",
      " 12  thal      76 non-null     object \n",
      " 13  target    76 non-null     int64  \n",
      "dtypes: float64(1), int64(12), object(1)\n",
      "memory usage: 8.9+ KB\n"
     ]
    }
   ],
   "source": [
    "test.info()"
   ]
  },
  {
   "cell_type": "markdown",
   "id": "fa6b5419",
   "metadata": {},
   "source": [
    "## Create a data loader"
   ]
  },
  {
   "cell_type": "code",
   "execution_count": 18,
   "id": "3609574b",
   "metadata": {},
   "outputs": [],
   "source": [
    "#?tf.data.Dataset"
   ]
  },
  {
   "cell_type": "markdown",
   "id": "08487247",
   "metadata": {},
   "source": [
    "```\n",
    "`Dataset` usage follows a common pattern:\n",
    "\n",
    "1. Create a source dataset from your input data.\n",
    "2. Apply dataset transformations to preprocess the data.\n",
    "3. Iterate over the dataset and process the elements.\n",
    "\n",
    "Iteration happens in a streaming fashion, so the full dataset does not need to\n",
    "fit into memory.\n",
    "```"
   ]
  },
  {
   "cell_type": "markdown",
   "id": "4e297790",
   "metadata": {},
   "source": [
    "We create a train and a test dataset from the corresponding data frames. We want to shuffle the training data while keeping the test set as it is. "
   ]
  },
  {
   "cell_type": "code",
   "execution_count": 19,
   "id": "4f8e5825",
   "metadata": {},
   "outputs": [],
   "source": [
    "?tf.data.Dataset.from_tensor_slices"
   ]
  },
  {
   "cell_type": "code",
   "execution_count": 22,
   "id": "fa0d4ba1",
   "metadata": {},
   "outputs": [],
   "source": [
    "# From \n",
    "# https://www.tensorflow.org/tutorials/structured_data/preprocessing_layers#create_an_input_pipeline_using_tfdata\n",
    "\n",
    "def df_to_dataset(dataframe, shuffle=True, batch_size=8):\n",
    "    df = dataframe.copy()\n",
    "    labels = df.pop('target')\n",
    "    df_dict = {key: value[:,tf.newaxis] for key, value in dataframe.items()}\n",
    "    \n",
    "    # Create a tf Dataset\n",
    "    ds = tf.data.Dataset.from_tensor_slices((df_dict, labels))\n",
    "    \n",
    "    if shuffle:\n",
    "        ds = ds.shuffle(buffer_size=len(dataframe))\n",
    "        \n",
    "    # Create batches of data\n",
    "    ds = ds.batch(batch_size)\n",
    "    \n",
    "    # Prefetch data (for efficiency: data can be prepared while \n",
    "    # current data is processing)\n",
    "    ds = ds.prefetch(batch_size)\n",
    "    \n",
    "    return ds"
   ]
  },
  {
   "cell_type": "code",
   "execution_count": 23,
   "id": "3f4693ea",
   "metadata": {},
   "outputs": [
    {
     "name": "stderr",
     "output_type": "stream",
     "text": [
      "/tmp/ipykernel_3814664/2384125461.py:7: FutureWarning: Support for multi-dimensional indexing (e.g. `obj[:, None]`) is deprecated and will be removed in a future version.  Convert to a numpy array before indexing instead.\n",
      "  df_dict = {key: value[:,tf.newaxis] for key, value in dataframe.items()}\n",
      "2022-03-23 11:33:34.279956: I tensorflow/core/platform/cpu_feature_guard.cc:151] This TensorFlow binary is optimized with oneAPI Deep Neural Network Library (oneDNN) to use the following CPU instructions in performance-critical operations:  AVX2 FMA\n",
      "To enable them in other operations, rebuild TensorFlow with the appropriate compiler flags.\n",
      "2022-03-23 11:33:38.037527: I tensorflow/core/common_runtime/gpu/gpu_device.cc:1525] Created device /job:localhost/replica:0/task:0/device:GPU:0 with 22485 MB memory:  -> device: 0, name: Tesla V100-DGXS-32GB, pci bus id: 0000:07:00.0, compute capability: 7.0\n",
      "2022-03-23 11:33:38.039684: I tensorflow/core/common_runtime/gpu/gpu_device.cc:1525] Created device /job:localhost/replica:0/task:0/device:GPU:1 with 22586 MB memory:  -> device: 1, name: Tesla V100-DGXS-32GB, pci bus id: 0000:08:00.0, compute capability: 7.0\n",
      "2022-03-23 11:33:38.042128: I tensorflow/core/common_runtime/gpu/gpu_device.cc:1525] Created device /job:localhost/replica:0/task:0/device:GPU:2 with 30979 MB memory:  -> device: 2, name: Tesla V100-DGXS-32GB, pci bus id: 0000:0e:00.0, compute capability: 7.0\n",
      "2022-03-23 11:33:38.044610: I tensorflow/core/common_runtime/gpu/gpu_device.cc:1525] Created device /job:localhost/replica:0/task:0/device:GPU:3 with 30979 MB memory:  -> device: 3, name: Tesla V100-DGXS-32GB, pci bus id: 0000:0f:00.0, compute capability: 7.0\n",
      "/tmp/ipykernel_3814664/2384125461.py:7: FutureWarning: Support for multi-dimensional indexing (e.g. `obj[:, None]`) is deprecated and will be removed in a future version.  Convert to a numpy array before indexing instead.\n",
      "  df_dict = {key: value[:,tf.newaxis] for key, value in dataframe.items()}\n"
     ]
    }
   ],
   "source": [
    "batch_size = 8\n",
    "train_ds = df_to_dataset(train, shuffle=True, batch_size=batch_size)\n",
    "test_ds = df_to_dataset(test, shuffle=False, batch_size=batch_size)"
   ]
  },
  {
   "cell_type": "code",
   "execution_count": 24,
   "id": "758c1728",
   "metadata": {},
   "outputs": [
    {
     "data": {
      "text/plain": [
       "<PrefetchDataset element_spec=({'age': TensorSpec(shape=(None, 1), dtype=tf.int64, name=None), 'sex': TensorSpec(shape=(None, 1), dtype=tf.int64, name=None), 'cp': TensorSpec(shape=(None, 1), dtype=tf.int64, name=None), 'trestbps': TensorSpec(shape=(None, 1), dtype=tf.int64, name=None), 'chol': TensorSpec(shape=(None, 1), dtype=tf.int64, name=None), 'fbs': TensorSpec(shape=(None, 1), dtype=tf.int64, name=None), 'restecg': TensorSpec(shape=(None, 1), dtype=tf.int64, name=None), 'thalach': TensorSpec(shape=(None, 1), dtype=tf.int64, name=None), 'exang': TensorSpec(shape=(None, 1), dtype=tf.int64, name=None), 'oldpeak': TensorSpec(shape=(None, 1), dtype=tf.float64, name=None), 'slope': TensorSpec(shape=(None, 1), dtype=tf.int64, name=None), 'ca': TensorSpec(shape=(None, 1), dtype=tf.int64, name=None), 'thal': TensorSpec(shape=(None, 1), dtype=tf.string, name=None), 'target': TensorSpec(shape=(None, 1), dtype=tf.int64, name=None)}, TensorSpec(shape=(None,), dtype=tf.int64, name=None))>"
      ]
     },
     "execution_count": 24,
     "metadata": {},
     "output_type": "execute_result"
    }
   ],
   "source": [
    "train_ds"
   ]
  },
  {
   "cell_type": "markdown",
   "id": "e95ba4da",
   "metadata": {},
   "source": [
    "Here's a batch of data from the train dataset:"
   ]
  },
  {
   "cell_type": "code",
   "execution_count": 25,
   "id": "8cbe4b1b",
   "metadata": {
    "scrolled": true
   },
   "outputs": [
    {
     "name": "stdout",
     "output_type": "stream",
     "text": [
      "Features: ['age', 'sex', 'cp', 'trestbps', 'chol', 'fbs', 'restecg', 'thalach', 'exang', 'oldpeak', 'slope', 'ca', 'thal', 'target']\n",
      "A batch of ages: tf.Tensor(\n",
      "[[61]\n",
      " [57]\n",
      " [59]\n",
      " [52]\n",
      " [46]\n",
      " [58]\n",
      " [55]\n",
      " [53]], shape=(8, 1), dtype=int64)\n",
      "A batch of targets: tf.Tensor([0 0 0 0 0 0 0 0], shape=(8,), dtype=int64)\n"
     ]
    }
   ],
   "source": [
    "[(train_features, label_batch)] = train_ds.take(1)\n",
    "print('Features:', list(train_features.keys()))\n",
    "print('A batch of ages:', train_features['age'])\n",
    "print('A batch of targets:', label_batch )\n"
   ]
  },
  {
   "cell_type": "markdown",
   "id": "f00d3fd4",
   "metadata": {},
   "source": [
    "# Preprocess the data"
   ]
  },
  {
   "cell_type": "markdown",
   "id": "ad63e331",
   "metadata": {},
   "source": [
    "We'll use preprocessing layers from Keras (https://www.tensorflow.org/guide/keras/preprocessing_layers) rather than preprocess separately using for example Pandas or scikit-learn.\n",
    "\n",
    "> _\"With Keras preprocessing layers, you can build and export models that are truly end-to-end: models that accept raw images or raw structured data as input; models that handle feature normalization or feature value indexing on their own.\"_ [source](https://www.tensorflow.org/guide/keras/preprocessing_layers)"
   ]
  },
  {
   "cell_type": "code",
   "execution_count": 26,
   "id": "ae6ce417",
   "metadata": {},
   "outputs": [],
   "source": [
    "from tensorflow.keras import layers"
   ]
  },
  {
   "cell_type": "code",
   "execution_count": 27,
   "id": "fd9a78de",
   "metadata": {},
   "outputs": [
    {
     "data": {
      "text/html": [
       "<div>\n",
       "<style scoped>\n",
       "    .dataframe tbody tr th:only-of-type {\n",
       "        vertical-align: middle;\n",
       "    }\n",
       "\n",
       "    .dataframe tbody tr th {\n",
       "        vertical-align: top;\n",
       "    }\n",
       "\n",
       "    .dataframe thead th {\n",
       "        text-align: right;\n",
       "    }\n",
       "</style>\n",
       "<table border=\"1\" class=\"dataframe\">\n",
       "  <thead>\n",
       "    <tr style=\"text-align: right;\">\n",
       "      <th></th>\n",
       "      <th>age</th>\n",
       "      <th>sex</th>\n",
       "      <th>cp</th>\n",
       "      <th>trestbps</th>\n",
       "      <th>chol</th>\n",
       "      <th>fbs</th>\n",
       "      <th>restecg</th>\n",
       "      <th>thalach</th>\n",
       "      <th>exang</th>\n",
       "      <th>oldpeak</th>\n",
       "      <th>slope</th>\n",
       "      <th>ca</th>\n",
       "      <th>thal</th>\n",
       "      <th>target</th>\n",
       "    </tr>\n",
       "  </thead>\n",
       "  <tbody>\n",
       "    <tr>\n",
       "      <th>0</th>\n",
       "      <td>63</td>\n",
       "      <td>1</td>\n",
       "      <td>1</td>\n",
       "      <td>145</td>\n",
       "      <td>233</td>\n",
       "      <td>1</td>\n",
       "      <td>2</td>\n",
       "      <td>150</td>\n",
       "      <td>0</td>\n",
       "      <td>2.3</td>\n",
       "      <td>3</td>\n",
       "      <td>0</td>\n",
       "      <td>fixed</td>\n",
       "      <td>0</td>\n",
       "    </tr>\n",
       "    <tr>\n",
       "      <th>1</th>\n",
       "      <td>67</td>\n",
       "      <td>1</td>\n",
       "      <td>4</td>\n",
       "      <td>160</td>\n",
       "      <td>286</td>\n",
       "      <td>0</td>\n",
       "      <td>2</td>\n",
       "      <td>108</td>\n",
       "      <td>1</td>\n",
       "      <td>1.5</td>\n",
       "      <td>2</td>\n",
       "      <td>3</td>\n",
       "      <td>normal</td>\n",
       "      <td>1</td>\n",
       "    </tr>\n",
       "    <tr>\n",
       "      <th>2</th>\n",
       "      <td>67</td>\n",
       "      <td>1</td>\n",
       "      <td>4</td>\n",
       "      <td>120</td>\n",
       "      <td>229</td>\n",
       "      <td>0</td>\n",
       "      <td>2</td>\n",
       "      <td>129</td>\n",
       "      <td>1</td>\n",
       "      <td>2.6</td>\n",
       "      <td>2</td>\n",
       "      <td>2</td>\n",
       "      <td>reversible</td>\n",
       "      <td>0</td>\n",
       "    </tr>\n",
       "    <tr>\n",
       "      <th>3</th>\n",
       "      <td>37</td>\n",
       "      <td>1</td>\n",
       "      <td>3</td>\n",
       "      <td>130</td>\n",
       "      <td>250</td>\n",
       "      <td>0</td>\n",
       "      <td>0</td>\n",
       "      <td>187</td>\n",
       "      <td>0</td>\n",
       "      <td>3.5</td>\n",
       "      <td>3</td>\n",
       "      <td>0</td>\n",
       "      <td>normal</td>\n",
       "      <td>0</td>\n",
       "    </tr>\n",
       "    <tr>\n",
       "      <th>4</th>\n",
       "      <td>41</td>\n",
       "      <td>0</td>\n",
       "      <td>2</td>\n",
       "      <td>130</td>\n",
       "      <td>204</td>\n",
       "      <td>0</td>\n",
       "      <td>2</td>\n",
       "      <td>172</td>\n",
       "      <td>0</td>\n",
       "      <td>1.4</td>\n",
       "      <td>1</td>\n",
       "      <td>0</td>\n",
       "      <td>normal</td>\n",
       "      <td>0</td>\n",
       "    </tr>\n",
       "  </tbody>\n",
       "</table>\n",
       "</div>"
      ],
      "text/plain": [
       "   age  sex  cp  trestbps  chol  fbs  restecg  thalach  exang  oldpeak  slope  \\\n",
       "0   63    1   1       145   233    1        2      150      0      2.3      3   \n",
       "1   67    1   4       160   286    0        2      108      1      1.5      2   \n",
       "2   67    1   4       120   229    0        2      129      1      2.6      2   \n",
       "3   37    1   3       130   250    0        0      187      0      3.5      3   \n",
       "4   41    0   2       130   204    0        2      172      0      1.4      1   \n",
       "\n",
       "   ca        thal  target  \n",
       "0   0       fixed       0  \n",
       "1   3      normal       1  \n",
       "2   2  reversible       0  \n",
       "3   0      normal       0  \n",
       "4   0      normal       0  "
      ]
     },
     "execution_count": 27,
     "metadata": {},
     "output_type": "execute_result"
    }
   ],
   "source": [
    "df.head()"
   ]
  },
  {
   "cell_type": "markdown",
   "id": "949b8f43",
   "metadata": {},
   "source": [
    "We see that we have numerical, ordinal and categorical features. We want to normalize the numerical and ordinal features, and one-hot encode the categorical features. "
   ]
  },
  {
   "cell_type": "code",
   "execution_count": 28,
   "id": "987bb47c",
   "metadata": {},
   "outputs": [],
   "source": [
    "numerical = ['age', 'trestbps', 'chol', 'thalach', 'oldpeak', 'restecg']\n",
    "categorical = ['cp', 'fbs', 'exang', 'slope', 'ca', 'thal']"
   ]
  },
  {
   "cell_type": "markdown",
   "id": "beaf7441",
   "metadata": {},
   "source": [
    "## Set up normalization layers"
   ]
  },
  {
   "cell_type": "code",
   "execution_count": 29,
   "id": "f8316779",
   "metadata": {},
   "outputs": [],
   "source": [
    "#?layers.Normalization"
   ]
  },
  {
   "cell_type": "code",
   "execution_count": 30,
   "id": "504d0541",
   "metadata": {},
   "outputs": [],
   "source": [
    "def get_normalization_layer(name, dataset):\n",
    "    # Create a Normalization layer for the feature.\n",
    "    normalizer = layers.Normalization(axis=None)\n",
    "\n",
    "    # Prepare a Dataset that only yields the feature.\n",
    "    feature_ds = dataset.map(lambda x, y: x[name])\n",
    "\n",
    "    # Learn the statistics of the data.\n",
    "    normalizer.adapt(feature_ds)\n",
    "\n",
    "    return normalizer"
   ]
  },
  {
   "cell_type": "markdown",
   "id": "2d01d486",
   "metadata": {},
   "source": [
    "> Note how the above code resembles doing normalization in scikit-learn: \n",
    "\n",
    "```\n",
    "from sklearn.preprocessing import StandardScaler\n",
    "std = StandardScaler()\n",
    "std.fit(X_train)\n",
    "```"
   ]
  },
  {
   "cell_type": "markdown",
   "id": "90f29522",
   "metadata": {},
   "source": [
    "**Test the function:**"
   ]
  },
  {
   "cell_type": "code",
   "execution_count": 31,
   "id": "e1f6517c",
   "metadata": {},
   "outputs": [
    {
     "data": {
      "text/plain": [
       "<tf.Tensor: shape=(8, 1), dtype=int64, numpy=\n",
       "array([[207],\n",
       "       [126],\n",
       "       [234],\n",
       "       [298],\n",
       "       [177],\n",
       "       [340],\n",
       "       [262],\n",
       "       [246]])>"
      ]
     },
     "execution_count": 31,
     "metadata": {},
     "output_type": "execute_result"
    }
   ],
   "source": [
    "chol = train_features['chol']\n",
    "chol"
   ]
  },
  {
   "cell_type": "code",
   "execution_count": 32,
   "id": "1dc3fa91",
   "metadata": {},
   "outputs": [
    {
     "data": {
      "text/plain": [
       "<tf.Tensor: shape=(8, 1), dtype=float32, numpy=\n",
       "array([[-0.7251134 ],\n",
       "       [-2.272364  ],\n",
       "       [-0.2093632 ],\n",
       "       [ 1.0131558 ],\n",
       "       [-1.2981691 ],\n",
       "       [ 1.8154339 ],\n",
       "       [ 0.32548884],\n",
       "       [ 0.0198591 ]], dtype=float32)>"
      ]
     },
     "execution_count": 32,
     "metadata": {},
     "output_type": "execute_result"
    }
   ],
   "source": [
    "norm_layer = get_normalization_layer('chol', train_ds)\n",
    "norm_layer(chol)"
   ]
  },
  {
   "cell_type": "markdown",
   "id": "12530c08",
   "metadata": {},
   "source": [
    "## Set up categorial encoding layers"
   ]
  },
  {
   "cell_type": "markdown",
   "id": "a38cea5c",
   "metadata": {},
   "source": [
    "We want to one-hot encode the categorical variables. We can use the various encoding layers from TensorFlow/Keras to achieve this.\n",
    "\n",
    "We need to convert all the categorical features represented as numbers, and also the string feature `thal`. "
   ]
  },
  {
   "cell_type": "code",
   "execution_count": 33,
   "id": "407f8fe0",
   "metadata": {},
   "outputs": [
    {
     "data": {
      "text/html": [
       "<div>\n",
       "<style scoped>\n",
       "    .dataframe tbody tr th:only-of-type {\n",
       "        vertical-align: middle;\n",
       "    }\n",
       "\n",
       "    .dataframe tbody tr th {\n",
       "        vertical-align: top;\n",
       "    }\n",
       "\n",
       "    .dataframe thead th {\n",
       "        text-align: right;\n",
       "    }\n",
       "</style>\n",
       "<table border=\"1\" class=\"dataframe\">\n",
       "  <thead>\n",
       "    <tr style=\"text-align: right;\">\n",
       "      <th></th>\n",
       "      <th>age</th>\n",
       "      <th>sex</th>\n",
       "      <th>cp</th>\n",
       "      <th>trestbps</th>\n",
       "      <th>chol</th>\n",
       "      <th>fbs</th>\n",
       "      <th>restecg</th>\n",
       "      <th>thalach</th>\n",
       "      <th>exang</th>\n",
       "      <th>oldpeak</th>\n",
       "      <th>slope</th>\n",
       "      <th>ca</th>\n",
       "      <th>thal</th>\n",
       "      <th>target</th>\n",
       "    </tr>\n",
       "  </thead>\n",
       "  <tbody>\n",
       "    <tr>\n",
       "      <th>0</th>\n",
       "      <td>63</td>\n",
       "      <td>1</td>\n",
       "      <td>1</td>\n",
       "      <td>145</td>\n",
       "      <td>233</td>\n",
       "      <td>1</td>\n",
       "      <td>2</td>\n",
       "      <td>150</td>\n",
       "      <td>0</td>\n",
       "      <td>2.3</td>\n",
       "      <td>3</td>\n",
       "      <td>0</td>\n",
       "      <td>fixed</td>\n",
       "      <td>0</td>\n",
       "    </tr>\n",
       "    <tr>\n",
       "      <th>1</th>\n",
       "      <td>67</td>\n",
       "      <td>1</td>\n",
       "      <td>4</td>\n",
       "      <td>160</td>\n",
       "      <td>286</td>\n",
       "      <td>0</td>\n",
       "      <td>2</td>\n",
       "      <td>108</td>\n",
       "      <td>1</td>\n",
       "      <td>1.5</td>\n",
       "      <td>2</td>\n",
       "      <td>3</td>\n",
       "      <td>normal</td>\n",
       "      <td>1</td>\n",
       "    </tr>\n",
       "    <tr>\n",
       "      <th>2</th>\n",
       "      <td>67</td>\n",
       "      <td>1</td>\n",
       "      <td>4</td>\n",
       "      <td>120</td>\n",
       "      <td>229</td>\n",
       "      <td>0</td>\n",
       "      <td>2</td>\n",
       "      <td>129</td>\n",
       "      <td>1</td>\n",
       "      <td>2.6</td>\n",
       "      <td>2</td>\n",
       "      <td>2</td>\n",
       "      <td>reversible</td>\n",
       "      <td>0</td>\n",
       "    </tr>\n",
       "    <tr>\n",
       "      <th>3</th>\n",
       "      <td>37</td>\n",
       "      <td>1</td>\n",
       "      <td>3</td>\n",
       "      <td>130</td>\n",
       "      <td>250</td>\n",
       "      <td>0</td>\n",
       "      <td>0</td>\n",
       "      <td>187</td>\n",
       "      <td>0</td>\n",
       "      <td>3.5</td>\n",
       "      <td>3</td>\n",
       "      <td>0</td>\n",
       "      <td>normal</td>\n",
       "      <td>0</td>\n",
       "    </tr>\n",
       "    <tr>\n",
       "      <th>4</th>\n",
       "      <td>41</td>\n",
       "      <td>0</td>\n",
       "      <td>2</td>\n",
       "      <td>130</td>\n",
       "      <td>204</td>\n",
       "      <td>0</td>\n",
       "      <td>2</td>\n",
       "      <td>172</td>\n",
       "      <td>0</td>\n",
       "      <td>1.4</td>\n",
       "      <td>1</td>\n",
       "      <td>0</td>\n",
       "      <td>normal</td>\n",
       "      <td>0</td>\n",
       "    </tr>\n",
       "  </tbody>\n",
       "</table>\n",
       "</div>"
      ],
      "text/plain": [
       "   age  sex  cp  trestbps  chol  fbs  restecg  thalach  exang  oldpeak  slope  \\\n",
       "0   63    1   1       145   233    1        2      150      0      2.3      3   \n",
       "1   67    1   4       160   286    0        2      108      1      1.5      2   \n",
       "2   67    1   4       120   229    0        2      129      1      2.6      2   \n",
       "3   37    1   3       130   250    0        0      187      0      3.5      3   \n",
       "4   41    0   2       130   204    0        2      172      0      1.4      1   \n",
       "\n",
       "   ca        thal  target  \n",
       "0   0       fixed       0  \n",
       "1   3      normal       1  \n",
       "2   2  reversible       0  \n",
       "3   0      normal       0  \n",
       "4   0      normal       0  "
      ]
     },
     "execution_count": 33,
     "metadata": {},
     "output_type": "execute_result"
    }
   ],
   "source": [
    "df.head()"
   ]
  },
  {
   "cell_type": "code",
   "execution_count": 35,
   "id": "097829b2",
   "metadata": {},
   "outputs": [],
   "source": [
    "#?layers.StringLookup"
   ]
  },
  {
   "cell_type": "code",
   "execution_count": 37,
   "id": "6672084e",
   "metadata": {},
   "outputs": [],
   "source": [
    "#?layers.IntegerLookup"
   ]
  },
  {
   "cell_type": "code",
   "execution_count": 39,
   "id": "6655fdf8",
   "metadata": {},
   "outputs": [],
   "source": [
    "#?layers.CategoryEncoding"
   ]
  },
  {
   "cell_type": "code",
   "execution_count": 40,
   "id": "7d2fc741",
   "metadata": {},
   "outputs": [],
   "source": [
    "def get_category_encoding_layer(name, dataset, dtype, max_tokens=None):\n",
    "    # Create a layer that turns strings into integer indices.\n",
    "    if dtype == 'string':\n",
    "        index = layers.StringLookup(max_tokens=max_tokens)\n",
    "    # Otherwise, create a layer that turns integer values into integer indices.\n",
    "    else:\n",
    "        index = layers.IntegerLookup(max_tokens=max_tokens)\n",
    "\n",
    "    # Prepare a `tf.data.Dataset` that only yields the feature.\n",
    "    feature_ds = dataset.map(lambda x, y: x[name])\n",
    "\n",
    "    # Learn the set of possible values and assign them a fixed integer index.\n",
    "    index.adapt(feature_ds)\n",
    "\n",
    "    # Encode the integer indices.\n",
    "    encoder = layers.CategoryEncoding(num_tokens=index.vocabulary_size())\n",
    "\n",
    "    # Apply multi-hot encoding to the indices. The lambda function captures the\n",
    "    # layer, so you can use them, or include them in the Keras Functional model later.\n",
    "    return lambda feature: encoder(index(feature))\n"
   ]
  },
  {
   "cell_type": "markdown",
   "id": "df41801a",
   "metadata": {},
   "source": [
    "**Test**"
   ]
  },
  {
   "cell_type": "code",
   "execution_count": 41,
   "id": "e1e66237",
   "metadata": {},
   "outputs": [
    {
     "data": {
      "text/plain": [
       "<tf.Tensor: shape=(8, 6), dtype=float32, numpy=\n",
       "array([[0., 0., 1., 0., 0., 0.],\n",
       "       [0., 0., 1., 0., 0., 0.],\n",
       "       [0., 0., 1., 0., 0., 0.],\n",
       "       [0., 0., 1., 0., 0., 0.],\n",
       "       [0., 1., 0., 0., 0., 0.],\n",
       "       [0., 1., 0., 0., 0., 0.],\n",
       "       [0., 1., 0., 0., 0., 0.],\n",
       "       [0., 1., 0., 0., 0., 0.]], dtype=float32)>"
      ]
     },
     "execution_count": 41,
     "metadata": {},
     "output_type": "execute_result"
    }
   ],
   "source": [
    "test_type_col = train_features['thal']\n",
    "test_type_layer = get_category_encoding_layer(name='thal',\n",
    "                                              dataset=train_ds,\n",
    "                                              dtype='string')\n",
    "test_type_layer(test_type_col)"
   ]
  },
  {
   "cell_type": "code",
   "execution_count": 42,
   "id": "c0a75ae8",
   "metadata": {},
   "outputs": [
    {
     "data": {
      "text/plain": [
       "<tf.Tensor: shape=(8, 2), dtype=float32, numpy=\n",
       "array([[0., 1.],\n",
       "       [0., 1.],\n",
       "       [0., 1.],\n",
       "       [0., 1.],\n",
       "       [1., 0.],\n",
       "       [1., 0.],\n",
       "       [0., 1.],\n",
       "       [0., 1.]], dtype=float32)>"
      ]
     },
     "execution_count": 42,
     "metadata": {},
     "output_type": "execute_result"
    }
   ],
   "source": [
    "test_age_col = train_features['sex']\n",
    "test_age_layer = get_category_encoding_layer(name='sex',\n",
    "                                             dataset=train_ds,\n",
    "                                             dtype='int64',\n",
    "                                             max_tokens=2)\n",
    "test_age_layer(test_age_col)"
   ]
  },
  {
   "cell_type": "markdown",
   "id": "9bf3b5e0",
   "metadata": {},
   "source": [
    "## Preprocess all the features"
   ]
  },
  {
   "cell_type": "markdown",
   "id": "91f40066",
   "metadata": {},
   "source": [
    "We normalize all the numerical features and one-hot encode the rest."
   ]
  },
  {
   "cell_type": "code",
   "execution_count": 46,
   "id": "63b8dfe1",
   "metadata": {},
   "outputs": [],
   "source": [
    "all_inputs = []\n",
    "encoded_features = []\n",
    "\n",
    "# Numerical features.\n",
    "for header in numerical:\n",
    "    numeric_col = tf.keras.Input(shape=(1,), name=header)\n",
    "    normalization_layer = get_normalization_layer(header, train_ds)\n",
    "    encoded_numeric_col = normalization_layer(numeric_col)\n",
    "    all_inputs.append(numeric_col)\n",
    "    encoded_features.append(encoded_numeric_col)\n"
   ]
  },
  {
   "cell_type": "code",
   "execution_count": 47,
   "id": "a32a3854",
   "metadata": {},
   "outputs": [],
   "source": [
    "for header in categorical[:-1]: # All except `thal`, which is a string feature\n",
    "    categorical_col = tf.keras.Input(shape=(1,), name=header, dtype='int64')\n",
    "    encoding_layer = get_category_encoding_layer(name=header,\n",
    "                                               dataset=train_ds,\n",
    "                                               dtype='int64',\n",
    "                                               max_tokens=5)\n",
    "    encoded_categorical_col = encoding_layer(categorical_col)\n",
    "    all_inputs.append(categorical_col)\n",
    "    encoded_features.append(encoded_categorical_col)"
   ]
  },
  {
   "cell_type": "markdown",
   "id": "b87b6530",
   "metadata": {},
   "source": [
    "Encode `thal` separately (a string feature):"
   ]
  },
  {
   "cell_type": "code",
   "execution_count": 48,
   "id": "1fa8b0ba",
   "metadata": {},
   "outputs": [],
   "source": [
    "categorical_col = tf.keras.Input(shape=(1,), name='thal', dtype='string')\n",
    "encoding_layer = get_category_encoding_layer(name='thal',\n",
    "                                           dataset=train_ds,\n",
    "                                           dtype='string',\n",
    "                                           max_tokens=5)\n",
    "encoded_categorical_col = encoding_layer(categorical_col)\n",
    "all_inputs.append(categorical_col)\n",
    "encoded_features.append(encoded_categorical_col)"
   ]
  },
  {
   "cell_type": "markdown",
   "id": "3a5c2393",
   "metadata": {},
   "source": [
    "Now we have 12 encoded features:"
   ]
  },
  {
   "cell_type": "code",
   "execution_count": 49,
   "id": "fad619ac",
   "metadata": {},
   "outputs": [
    {
     "data": {
      "text/plain": [
       "[<KerasTensor: shape=(None, 1) dtype=float32 (created by layer 'normalization_7')>,\n",
       " <KerasTensor: shape=(None, 1) dtype=float32 (created by layer 'normalization_8')>,\n",
       " <KerasTensor: shape=(None, 1) dtype=float32 (created by layer 'normalization_9')>,\n",
       " <KerasTensor: shape=(None, 1) dtype=float32 (created by layer 'normalization_10')>,\n",
       " <KerasTensor: shape=(None, 1) dtype=float32 (created by layer 'normalization_11')>,\n",
       " <KerasTensor: shape=(None, 1) dtype=float32 (created by layer 'normalization_12')>,\n",
       " <KerasTensor: shape=(None, 5) dtype=float32 (created by layer 'category_encoding_3')>,\n",
       " <KerasTensor: shape=(None, 3) dtype=float32 (created by layer 'category_encoding_4')>,\n",
       " <KerasTensor: shape=(None, 3) dtype=float32 (created by layer 'category_encoding_5')>,\n",
       " <KerasTensor: shape=(None, 4) dtype=float32 (created by layer 'category_encoding_6')>,\n",
       " <KerasTensor: shape=(None, 5) dtype=float32 (created by layer 'category_encoding_7')>,\n",
       " <KerasTensor: shape=(None, 5) dtype=float32 (created by layer 'category_encoding_8')>]"
      ]
     },
     "execution_count": 49,
     "metadata": {},
     "output_type": "execute_result"
    }
   ],
   "source": [
    "encoded_features"
   ]
  },
  {
   "cell_type": "markdown",
   "id": "0483c382",
   "metadata": {},
   "source": [
    "# Train a neural network"
   ]
  },
  {
   "cell_type": "markdown",
   "id": "c199c90c",
   "metadata": {},
   "source": [
    "We'll make a simple one-layer neural network on top of the preprocessing layers defined above."
   ]
  },
  {
   "cell_type": "code",
   "execution_count": 50,
   "id": "794ed937",
   "metadata": {},
   "outputs": [],
   "source": [
    "all_features = tf.keras.layers.concatenate(encoded_features)\n",
    "x = tf.keras.layers.Dense(32, activation=\"relu\")(all_features)\n",
    "x = tf.keras.layers.Dropout(0.5)(x)\n",
    "output = tf.keras.layers.Dense(1)(x)\n",
    "\n",
    "model = tf.keras.Model(all_inputs, output)\n"
   ]
  },
  {
   "cell_type": "code",
   "execution_count": 51,
   "id": "763ffd38",
   "metadata": {},
   "outputs": [],
   "source": [
    "model.compile(optimizer='adam',\n",
    "              loss=tf.keras.losses.BinaryCrossentropy(from_logits=True),\n",
    "              metrics=[\"accuracy\"])\n"
   ]
  },
  {
   "cell_type": "markdown",
   "id": "e2603c2c",
   "metadata": {},
   "source": [
    "Here's our model:"
   ]
  },
  {
   "cell_type": "code",
   "execution_count": 52,
   "id": "aafc844f",
   "metadata": {},
   "outputs": [
    {
     "data": {
      "image/png": "[encoded data removed]",
      "text/plain": [
       "<IPython.core.display.Image object>"
      ]
     },
     "execution_count": 52,
     "metadata": {},
     "output_type": "execute_result"
    }
   ],
   "source": [
    "tf.keras.utils.plot_model(model, show_shapes=True, rankdir=\"LR\")\n"
   ]
  },
  {
   "cell_type": "code",
   "execution_count": 53,
   "id": "e123d7ad",
   "metadata": {},
   "outputs": [
    {
     "name": "stdout",
     "output_type": "stream",
     "text": [
      "Epoch 1/10\n"
     ]
    },
    {
     "name": "stderr",
     "output_type": "stream",
     "text": [
      "/home/alex/anaconda3/envs/tf/lib/python3.8/site-packages/keras/engine/functional.py:559: UserWarning: Input dict contained keys ['sex', 'target'] which did not match any model input. They will be ignored by the model.\n",
      "  inputs = self._flatten_to_reference_inputs(inputs)\n"
     ]
    },
    {
     "name": "stdout",
     "output_type": "stream",
     "text": [
      "29/29 [==============================] - 3s 33ms/step - loss: 0.6161 - accuracy: 0.7181 - val_loss: 0.5685 - val_accuracy: 0.7632\n",
      "Epoch 2/10\n",
      "29/29 [==============================] - 0s 10ms/step - loss: 0.4919 - accuracy: 0.7841 - val_loss: 0.5010 - val_accuracy: 0.7500\n",
      "Epoch 3/10\n",
      "29/29 [==============================] - 0s 11ms/step - loss: 0.4666 - accuracy: 0.7841 - val_loss: 0.4637 - val_accuracy: 0.7500\n",
      "Epoch 4/10\n",
      "29/29 [==============================] - 0s 10ms/step - loss: 0.4654 - accuracy: 0.8018 - val_loss: 0.4406 - val_accuracy: 0.7763\n",
      "Epoch 5/10\n",
      "29/29 [==============================] - 0s 11ms/step - loss: 0.4233 - accuracy: 0.7841 - val_loss: 0.4187 - val_accuracy: 0.7632\n",
      "Epoch 6/10\n",
      "29/29 [==============================] - 0s 11ms/step - loss: 0.3934 - accuracy: 0.8238 - val_loss: 0.4077 - val_accuracy: 0.7632\n",
      "Epoch 7/10\n",
      "29/29 [==============================] - 0s 10ms/step - loss: 0.3708 - accuracy: 0.8238 - val_loss: 0.3994 - val_accuracy: 0.7763\n",
      "Epoch 8/10\n",
      "29/29 [==============================] - 0s 10ms/step - loss: 0.3977 - accuracy: 0.8106 - val_loss: 0.3938 - val_accuracy: 0.7763\n",
      "Epoch 9/10\n",
      "29/29 [==============================] - 0s 10ms/step - loss: 0.3528 - accuracy: 0.8238 - val_loss: 0.3887 - val_accuracy: 0.7763\n",
      "Epoch 10/10\n",
      "29/29 [==============================] - 0s 9ms/step - loss: 0.3689 - accuracy: 0.8238 - val_loss: 0.3855 - val_accuracy: 0.7632\n"
     ]
    },
    {
     "data": {
      "text/plain": [
       "<keras.callbacks.History at 0x7f244db2c460>"
      ]
     },
     "execution_count": 53,
     "metadata": {},
     "output_type": "execute_result"
    }
   ],
   "source": [
    "model.fit(train_ds, epochs=10, validation_data=test_ds)"
   ]
  },
  {
   "cell_type": "markdown",
   "id": "6180b1a9",
   "metadata": {},
   "source": [
    "# Evaluate"
   ]
  },
  {
   "cell_type": "code",
   "execution_count": 54,
   "id": "c18e7497",
   "metadata": {},
   "outputs": [
    {
     "name": "stdout",
     "output_type": "stream",
     "text": [
      "10/10 [==============================] - 0s 7ms/step - loss: 0.3855 - accuracy: 0.7632\n",
      "Accuracy 0.7631579041481018\n"
     ]
    }
   ],
   "source": [
    "loss, accuracy = model.evaluate(test_ds)\n",
    "print(\"Accuracy\", accuracy)"
   ]
  },
  {
   "cell_type": "markdown",
   "id": "0d686973",
   "metadata": {},
   "source": [
    "# Export"
   ]
  },
  {
   "cell_type": "markdown",
   "id": "f0743273",
   "metadata": {},
   "source": [
    "Now we can export the model (which includes all the preprocessing steps) to the [SaveModel format](https://www.tensorflow.org/guide/saved_model). This can then later be imported elsewhere, f.ex. for model deployment using [TensorFlow Serving](https://www.tensorflow.org/tfx/guide/serving) or similar. "
   ]
  },
  {
   "cell_type": "code",
   "execution_count": null,
   "id": "e9f229a4",
   "metadata": {},
   "outputs": [],
   "source": [
    "#?tf.keras.models.save_model"
   ]
  },
  {
   "cell_type": "markdown",
   "id": "2196228b",
   "metadata": {},
   "source": [
    "> We'll look more at this when we talk about TensorFlow Extended later in the module."
   ]
  },
  {
   "cell_type": "markdown",
   "id": "572cb3c1",
   "metadata": {},
   "source": [
    "# Extra: Train a tree-based model"
   ]
  },
  {
   "cell_type": "markdown",
   "id": "edf78fc0",
   "metadata": {},
   "source": [
    "We could alternatively use the TensorFlow Decision Forests library, which can use a collection of state-of-the-art algorithm,s for training, serving and interpreting decision forest models (random forest, gradient boosted trees, etc):\n",
    "\n",
    "https://github.com/google/yggdrasil-decision-forests"
   ]
  },
  {
   "cell_type": "code",
   "execution_count": null,
   "id": "1b5c7617-dc5b-4036-b9e2-e5a6c2497257",
   "metadata": {},
   "outputs": [],
   "source": [
    "if colab or gradient:\n",
    "    !pip install tensorflow_decision_forests"
   ]
  },
  {
   "cell_type": "code",
   "execution_count": 55,
   "id": "b85eb9ec",
   "metadata": {},
   "outputs": [
    {
     "name": "stderr",
     "output_type": "stream",
     "text": [
      "WARNING:root:TF Parameter Server distributed training not available (this is expected for the pre-build release).\n"
     ]
    }
   ],
   "source": [
    "import tensorflow_decision_forests as tfdf"
   ]
  },
  {
   "cell_type": "code",
   "execution_count": 56,
   "id": "e336432c",
   "metadata": {},
   "outputs": [
    {
     "name": "stderr",
     "output_type": "stream",
     "text": [
      "/home/alex/anaconda3/envs/tf/lib/python3.8/site-packages/tensorflow_decision_forests/keras/core.py:2036: FutureWarning: In a future version of pandas all arguments of DataFrame.drop except for the argument 'labels' will be keyword-only.\n",
      "  features_dataframe = dataframe.drop(label, 1)\n",
      "/home/alex/anaconda3/envs/tf/lib/python3.8/site-packages/tensorflow_decision_forests/keras/core.py:2036: FutureWarning: In a future version of pandas all arguments of DataFrame.drop except for the argument 'labels' will be keyword-only.\n",
      "  features_dataframe = dataframe.drop(label, 1)\n"
     ]
    }
   ],
   "source": [
    "train_ds_trees = tfdf.keras.pd_dataframe_to_tf_dataset(train, label=\"target\")\n",
    "test_ds_trees = tfdf.keras.pd_dataframe_to_tf_dataset(test, label=\"target\")"
   ]
  },
  {
   "cell_type": "code",
   "execution_count": 57,
   "id": "343a4570",
   "metadata": {},
   "outputs": [
    {
     "name": "stdout",
     "output_type": "stream",
     "text": [
      "Warning:  The `num_threads` constructor argument is not set and the number of CPU is os.cpu_count()=40 > 32. Setting num_threads to 32. Set num_threads manually to use more than 32 cpus.\n",
      "Use /tmp/tmp1f7ajvfe as temporary training directory\n"
     ]
    }
   ],
   "source": [
    "model = tfdf.keras.RandomForestModel()"
   ]
  },
  {
   "cell_type": "code",
   "execution_count": 58,
   "id": "cc2197c4",
   "metadata": {},
   "outputs": [],
   "source": [
    "model.compile(\n",
    "    metrics=[\"accuracy\"])"
   ]
  },
  {
   "cell_type": "code",
   "execution_count": 59,
   "id": "4e7aa36d",
   "metadata": {},
   "outputs": [
    {
     "name": "stdout",
     "output_type": "stream",
     "text": [
      "Starting reading the dataset\n",
      "1/1 [==============================] - ETA: 0s\n",
      "Dataset read in 0:00:03.880873\n",
      "Training model\n",
      "Model trained in 0:00:00.037966\n",
      "Compiling model\n",
      "1/1 [==============================] - 4s 4s/step\n"
     ]
    },
    {
     "name": "stderr",
     "output_type": "stream",
     "text": [
      "[INFO kernel.cc:1153] Loading model from path\n",
      "[INFO abstract_model.cc:1063] Engine \"RandomForestOptPred\" built\n",
      "[INFO kernel.cc:1001] Use fast generic engine\n"
     ]
    },
    {
     "name": "stdout",
     "output_type": "stream",
     "text": [
      "WARNING:tensorflow:AutoGraph could not transform <function simple_ml_inference_op_with_handle at 0x7f242c577430> and will run it as-is.\n",
      "Please report this to the TensorFlow team. When filing the bug, set the verbosity to 10 (on Linux, `export AUTOGRAPH_VERBOSITY=10`) and attach the full output.\n",
      "Cause: could not get source code\n",
      "To silence this warning, decorate the function with @tf.autograph.experimental.do_not_convert\n"
     ]
    },
    {
     "name": "stderr",
     "output_type": "stream",
     "text": [
      "WARNING:tensorflow:AutoGraph could not transform <function simple_ml_inference_op_with_handle at 0x7f242c577430> and will run it as-is.\n",
      "Please report this to the TensorFlow team. When filing the bug, set the verbosity to 10 (on Linux, `export AUTOGRAPH_VERBOSITY=10`) and attach the full output.\n",
      "Cause: could not get source code\n",
      "To silence this warning, decorate the function with @tf.autograph.experimental.do_not_convert\n"
     ]
    },
    {
     "name": "stdout",
     "output_type": "stream",
     "text": [
      "WARNING: AutoGraph could not transform <function simple_ml_inference_op_with_handle at 0x7f242c577430> and will run it as-is.\n",
      "Please report this to the TensorFlow team. When filing the bug, set the verbosity to 10 (on Linux, `export AUTOGRAPH_VERBOSITY=10`) and attach the full output.\n",
      "Cause: could not get source code\n",
      "To silence this warning, decorate the function with @tf.autograph.experimental.do_not_convert\n"
     ]
    },
    {
     "data": {
      "text/plain": [
       "<keras.callbacks.History at 0x7f244e572d30>"
      ]
     },
     "execution_count": 59,
     "metadata": {},
     "output_type": "execute_result"
    }
   ],
   "source": [
    "model.fit(train_ds_trees)"
   ]
  },
  {
   "cell_type": "code",
   "execution_count": 60,
   "id": "19ce0961",
   "metadata": {},
   "outputs": [
    {
     "name": "stdout",
     "output_type": "stream",
     "text": [
      "Model: \"random_forest_model\"\n",
      "_________________________________________________________________\n",
      " Layer (type)                Output Shape              Param #   \n",
      "=================================================================\n",
      "=================================================================\n",
      "Total params: 1\n",
      "Trainable params: 0\n",
      "Non-trainable params: 1\n",
      "_________________________________________________________________\n",
      "Type: \"RANDOM_FOREST\"\n",
      "Task: CLASSIFICATION\n",
      "Label: \"__LABEL\"\n",
      "\n",
      "Input Features (13):\n",
      "\tage\n",
      "\tca\n",
      "\tchol\n",
      "\tcp\n",
      "\texang\n",
      "\tfbs\n",
      "\toldpeak\n",
      "\trestecg\n",
      "\tsex\n",
      "\tslope\n",
      "\tthal\n",
      "\tthalach\n",
      "\ttrestbps\n",
      "\n",
      "No weights\n",
      "\n",
      "Variable Importance: MEAN_MIN_DEPTH:\n",
      "    1.  \"__LABEL\"  4.764778 ################\n",
      "    2.      \"fbs\"  4.679417 ###############\n",
      "    3.  \"restecg\"  4.616640 ###############\n",
      "    4.    \"exang\"  4.455385 #############\n",
      "    5.      \"sex\"  4.448540 #############\n",
      "    6.    \"slope\"  4.267803 ############\n",
      "    7.      \"age\"  4.128370 ###########\n",
      "    8. \"trestbps\"  4.079775 ###########\n",
      "    9.     \"chol\"  3.820061 #########\n",
      "   10.  \"thalach\"  3.617815 ########\n",
      "   11.       \"cp\"  2.757968 ##\n",
      "   12.       \"ca\"  2.516068 #\n",
      "   13.     \"thal\"  2.424819 \n",
      "   14.  \"oldpeak\"  2.331338 \n",
      "\n",
      "Variable Importance: NUM_AS_ROOT:\n",
      "    1.     \"thal\" 87.000000 ################\n",
      "    2.  \"oldpeak\" 64.000000 ###########\n",
      "    3.       \"ca\" 58.000000 ##########\n",
      "    4.       \"cp\" 57.000000 ##########\n",
      "    5.    \"slope\" 11.000000 #\n",
      "    6.  \"thalach\" 11.000000 #\n",
      "    7.    \"exang\"  8.000000 #\n",
      "    8.      \"sex\"  2.000000 \n",
      "    9.      \"age\"  1.000000 \n",
      "   10. \"trestbps\"  1.000000 \n",
      "\n",
      "Variable Importance: NUM_NODES:\n",
      "    1.  \"oldpeak\" 763.000000 ################\n",
      "    2.     \"chol\" 658.000000 #############\n",
      "    3.  \"thalach\" 630.000000 #############\n",
      "    4.       \"ca\" 526.000000 ##########\n",
      "    5.      \"age\" 488.000000 #########\n",
      "    6. \"trestbps\" 449.000000 #########\n",
      "    7.       \"cp\" 387.000000 #######\n",
      "    8.     \"thal\" 323.000000 ######\n",
      "    9.    \"slope\" 150.000000 ##\n",
      "   10.  \"restecg\" 141.000000 ##\n",
      "   11.    \"exang\" 118.000000 #\n",
      "   12.      \"sex\" 109.000000 #\n",
      "   13.      \"fbs\" 45.000000 \n",
      "\n",
      "Variable Importance: SUM_SCORE:\n",
      "    1.  \"oldpeak\" 6463.080770 ################\n",
      "    2.       \"ca\" 4853.996790 ###########\n",
      "    3.     \"thal\" 4752.086138 ###########\n",
      "    4.       \"cp\" 4180.302999 ##########\n",
      "    5.  \"thalach\" 2774.630056 ######\n",
      "    6.     \"chol\" 2460.503603 #####\n",
      "    7.      \"age\" 1641.608205 ###\n",
      "    8. \"trestbps\" 1626.217956 ###\n",
      "    9.    \"slope\" 847.379840 #\n",
      "   10.    \"exang\" 626.162423 #\n",
      "   11.      \"sex\" 491.562055 \n",
      "   12.  \"restecg\" 429.824112 \n",
      "   13.      \"fbs\" 154.009960 \n",
      "\n",
      "\n",
      "\n",
      "Winner take all: true\n",
      "Out-of-bag evaluation: accuracy:0.832599 logloss:0.346655\n",
      "Number of trees: 300\n",
      "Total number of nodes: 9874\n",
      "\n",
      "Number of nodes by tree:\n",
      "Count: 300 Average: 32.9133 StdDev: 3.76021\n",
      "Min: 23 Max: 43 Ignored: 0\n",
      "----------------------------------------------\n",
      "[ 23, 24)  2   0.67%   0.67%\n",
      "[ 24, 25)  0   0.00%   0.67%\n",
      "[ 25, 26)  5   1.67%   2.33% #\n",
      "[ 26, 27)  0   0.00%   2.33%\n",
      "[ 27, 28) 21   7.00%   9.33% ###\n",
      "[ 28, 29)  0   0.00%   9.33%\n",
      "[ 29, 30) 35  11.67%  21.00% #####\n",
      "[ 30, 31)  0   0.00%  21.00%\n",
      "[ 31, 32) 64  21.33%  42.33% ##########\n",
      "[ 32, 33)  0   0.00%  42.33%\n",
      "[ 33, 34) 59  19.67%  62.00% #########\n",
      "[ 34, 35)  0   0.00%  62.00%\n",
      "[ 35, 36) 57  19.00%  81.00% #########\n",
      "[ 36, 37)  0   0.00%  81.00%\n",
      "[ 37, 38) 30  10.00%  91.00% #####\n",
      "[ 38, 39)  0   0.00%  91.00%\n",
      "[ 39, 40) 14   4.67%  95.67% ##\n",
      "[ 40, 41)  0   0.00%  95.67%\n",
      "[ 41, 42) 10   3.33%  99.00% ##\n",
      "[ 42, 43]  3   1.00% 100.00%\n",
      "\n",
      "Depth by leafs:\n",
      "Count: 5087 Average: 4.78809 StdDev: 1.56414\n",
      "Min: 1 Max: 11 Ignored: 0\n",
      "----------------------------------------------\n",
      "[  1,  2)    1   0.02%   0.02%\n",
      "[  2,  3)  243   4.78%   4.80% ##\n",
      "[  3,  4)  813  15.98%  20.78% ######\n",
      "[  4,  5) 1331  26.16%  46.94% ##########\n",
      "[  5,  6) 1195  23.49%  70.43% #########\n",
      "[  6,  7)  779  15.31%  85.75% ######\n",
      "[  7,  8)  457   8.98%  94.73% ###\n",
      "[  8,  9)  181   3.56%  98.29% #\n",
      "[  9, 10)   63   1.24%  99.53%\n",
      "[ 10, 11)   20   0.39%  99.92%\n",
      "[ 11, 11]    4   0.08% 100.00%\n",
      "\n",
      "Number of training obs by leaf:\n",
      "Count: 5087 Average: 13.3871 StdDev: 19.0315\n",
      "Min: 5 Max: 125 Ignored: 0\n",
      "----------------------------------------------\n",
      "[   5,  11) 3776  74.23%  74.23% ##########\n",
      "[  11,  17)  524  10.30%  84.53% #\n",
      "[  17,  23)  281   5.52%  90.05% #\n",
      "[  23,  29)  122   2.40%  92.45%\n",
      "[  29,  35)   41   0.81%  93.26%\n",
      "[  35,  41)   22   0.43%  93.69%\n",
      "[  41,  47)   15   0.29%  93.98%\n",
      "[  47,  53)   11   0.22%  94.20%\n",
      "[  53,  59)   24   0.47%  94.67%\n",
      "[  59,  65)   18   0.35%  95.03%\n",
      "[  65,  71)   21   0.41%  95.44%\n",
      "[  71,  77)   30   0.59%  96.03%\n",
      "[  77,  83)   35   0.69%  96.72%\n",
      "[  83,  89)   41   0.81%  97.52%\n",
      "[  89,  95)   38   0.75%  98.27%\n",
      "[  95, 101)   35   0.69%  98.96%\n",
      "[ 101, 107)   27   0.53%  99.49%\n",
      "[ 107, 113)   14   0.28%  99.76%\n",
      "[ 113, 119)   10   0.20%  99.96%\n",
      "[ 119, 125]    2   0.04% 100.00%\n",
      "\n",
      "Attribute in nodes:\n",
      "\t763 : oldpeak [NUMERICAL]\n",
      "\t658 : chol [NUMERICAL]\n",
      "\t630 : thalach [NUMERICAL]\n",
      "\t526 : ca [NUMERICAL]\n",
      "\t488 : age [NUMERICAL]\n",
      "\t449 : trestbps [NUMERICAL]\n",
      "\t387 : cp [NUMERICAL]\n",
      "\t323 : thal [CATEGORICAL]\n",
      "\t150 : slope [NUMERICAL]\n",
      "\t141 : restecg [NUMERICAL]\n",
      "\t118 : exang [NUMERICAL]\n",
      "\t109 : sex [NUMERICAL]\n",
      "\t45 : fbs [NUMERICAL]\n",
      "\n",
      "Attribute in nodes with depth <= 0:\n",
      "\t87 : thal [CATEGORICAL]\n",
      "\t64 : oldpeak [NUMERICAL]\n",
      "\t58 : ca [NUMERICAL]\n",
      "\t57 : cp [NUMERICAL]\n",
      "\t11 : thalach [NUMERICAL]\n",
      "\t11 : slope [NUMERICAL]\n",
      "\t8 : exang [NUMERICAL]\n",
      "\t2 : sex [NUMERICAL]\n",
      "\t1 : trestbps [NUMERICAL]\n",
      "\t1 : age [NUMERICAL]\n",
      "\n",
      "Attribute in nodes with depth <= 1:\n",
      "\t204 : oldpeak [NUMERICAL]\n",
      "\t169 : thal [CATEGORICAL]\n",
      "\t168 : ca [NUMERICAL]\n",
      "\t139 : cp [NUMERICAL]\n",
      "\t61 : thalach [NUMERICAL]\n",
      "\t32 : chol [NUMERICAL]\n",
      "\t28 : slope [NUMERICAL]\n",
      "\t28 : age [NUMERICAL]\n",
      "\t23 : trestbps [NUMERICAL]\n",
      "\t19 : exang [NUMERICAL]\n",
      "\t17 : sex [NUMERICAL]\n",
      "\t9 : restecg [NUMERICAL]\n",
      "\t2 : fbs [NUMERICAL]\n",
      "\n",
      "Attribute in nodes with depth <= 2:\n",
      "\t345 : oldpeak [NUMERICAL]\n",
      "\t303 : ca [NUMERICAL]\n",
      "\t236 : thal [CATEGORICAL]\n",
      "\t227 : cp [NUMERICAL]\n",
      "\t188 : thalach [NUMERICAL]\n",
      "\t133 : chol [NUMERICAL]\n",
      "\t122 : trestbps [NUMERICAL]\n",
      "\t97 : age [NUMERICAL]\n",
      "\t67 : slope [NUMERICAL]\n",
      "\t54 : sex [NUMERICAL]\n",
      "\t48 : exang [NUMERICAL]\n",
      "\t26 : restecg [NUMERICAL]\n",
      "\t8 : fbs [NUMERICAL]\n",
      "\n",
      "Attribute in nodes with depth <= 3:\n",
      "\t501 : oldpeak [NUMERICAL]\n",
      "\t401 : ca [NUMERICAL]\n",
      "\t342 : thalach [NUMERICAL]\n",
      "\t325 : cp [NUMERICAL]\n",
      "\t291 : chol [NUMERICAL]\n",
      "\t285 : thal [CATEGORICAL]\n",
      "\t236 : age [NUMERICAL]\n",
      "\t227 : trestbps [NUMERICAL]\n",
      "\t103 : slope [NUMERICAL]\n",
      "\t81 : sex [NUMERICAL]\n",
      "\t69 : exang [NUMERICAL]\n",
      "\t64 : restecg [NUMERICAL]\n",
      "\t26 : fbs [NUMERICAL]\n",
      "\n",
      "Attribute in nodes with depth <= 5:\n",
      "\t701 : oldpeak [NUMERICAL]\n",
      "\t568 : chol [NUMERICAL]\n",
      "\t561 : thalach [NUMERICAL]\n",
      "\t489 : ca [NUMERICAL]\n",
      "\t427 : age [NUMERICAL]\n",
      "\t387 : trestbps [NUMERICAL]\n",
      "\t384 : cp [NUMERICAL]\n",
      "\t318 : thal [CATEGORICAL]\n",
      "\t139 : slope [NUMERICAL]\n",
      "\t119 : restecg [NUMERICAL]\n",
      "\t108 : sex [NUMERICAL]\n",
      "\t103 : exang [NUMERICAL]\n",
      "\t41 : fbs [NUMERICAL]\n",
      "\n",
      "Condition type in nodes:\n",
      "\t4464 : HigherCondition\n",
      "\t323 : ContainsBitmapCondition\n",
      "Condition type in nodes with depth <= 0:\n",
      "\t213 : HigherCondition\n",
      "\t87 : ContainsBitmapCondition\n",
      "Condition type in nodes with depth <= 1:\n",
      "\t730 : HigherCondition\n",
      "\t169 : ContainsBitmapCondition\n",
      "Condition type in nodes with depth <= 2:\n",
      "\t1618 : HigherCondition\n",
      "\t236 : ContainsBitmapCondition\n",
      "Condition type in nodes with depth <= 3:\n",
      "\t2666 : HigherCondition\n",
      "\t285 : ContainsBitmapCondition\n",
      "Condition type in nodes with depth <= 5:\n",
      "\t4027 : HigherCondition\n",
      "\t318 : ContainsBitmapCondition\n",
      "Node format: NOT_SET\n",
      "\n",
      "Training OOB:\n",
      "\ttrees: 1, Out-of-bag evaluation: accuracy:0.768293 logloss:8.35158\n",
      "\ttrees: 12, Out-of-bag evaluation: accuracy:0.804124 logloss:5.48242\n",
      "\ttrees: 22, Out-of-bag evaluation: accuracy:0.807175 logloss:2.33985\n",
      "\ttrees: 32, Out-of-bag evaluation: accuracy:0.797357 logloss:1.26091\n",
      "\ttrees: 42, Out-of-bag evaluation: accuracy:0.819383 logloss:1.10052\n",
      "\ttrees: 52, Out-of-bag evaluation: accuracy:0.810573 logloss:0.503802\n",
      "\ttrees: 64, Out-of-bag evaluation: accuracy:0.819383 logloss:0.511216\n",
      "\ttrees: 74, Out-of-bag evaluation: accuracy:0.823789 logloss:0.510468\n",
      "\ttrees: 85, Out-of-bag evaluation: accuracy:0.801762 logloss:0.502374\n",
      "\ttrees: 98, Out-of-bag evaluation: accuracy:0.814978 logloss:0.499926\n",
      "\ttrees: 108, Out-of-bag evaluation: accuracy:0.806167 logloss:0.356091\n",
      "\ttrees: 118, Out-of-bag evaluation: accuracy:0.806167 logloss:0.354564\n",
      "\ttrees: 131, Out-of-bag evaluation: accuracy:0.819383 logloss:0.350411\n",
      "\ttrees: 141, Out-of-bag evaluation: accuracy:0.823789 logloss:0.347152\n",
      "\ttrees: 151, Out-of-bag evaluation: accuracy:0.828194 logloss:0.348219\n",
      "\ttrees: 161, Out-of-bag evaluation: accuracy:0.823789 logloss:0.347157\n",
      "\ttrees: 172, Out-of-bag evaluation: accuracy:0.819383 logloss:0.348862\n",
      "\ttrees: 182, Out-of-bag evaluation: accuracy:0.828194 logloss:0.349786\n",
      "\ttrees: 192, Out-of-bag evaluation: accuracy:0.828194 logloss:0.349277\n",
      "\ttrees: 202, Out-of-bag evaluation: accuracy:0.828194 logloss:0.348049\n",
      "\ttrees: 213, Out-of-bag evaluation: accuracy:0.828194 logloss:0.345053\n",
      "\ttrees: 223, Out-of-bag evaluation: accuracy:0.828194 logloss:0.347102\n",
      "\ttrees: 236, Out-of-bag evaluation: accuracy:0.832599 logloss:0.349424\n",
      "\ttrees: 248, Out-of-bag evaluation: accuracy:0.832599 logloss:0.350268\n",
      "\ttrees: 259, Out-of-bag evaluation: accuracy:0.832599 logloss:0.349899\n",
      "\ttrees: 269, Out-of-bag evaluation: accuracy:0.837004 logloss:0.349785\n",
      "\ttrees: 279, Out-of-bag evaluation: accuracy:0.828194 logloss:0.348911\n",
      "\ttrees: 289, Out-of-bag evaluation: accuracy:0.828194 logloss:0.347624\n",
      "\ttrees: 299, Out-of-bag evaluation: accuracy:0.832599 logloss:0.346703\n",
      "\ttrees: 300, Out-of-bag evaluation: accuracy:0.832599 logloss:0.346655\n",
      "\n"
     ]
    }
   ],
   "source": [
    "model.summary()"
   ]
  },
  {
   "cell_type": "code",
   "execution_count": 61,
   "id": "ad563c97",
   "metadata": {},
   "outputs": [
    {
     "name": "stdout",
     "output_type": "stream",
     "text": [
      "1/1 [==============================] - 0s 493ms/step - loss: 0.0000e+00 - accuracy: 0.8026\n"
     ]
    },
    {
     "data": {
      "text/plain": [
       "[0.0, 0.8026315569877625]"
      ]
     },
     "execution_count": 61,
     "metadata": {},
     "output_type": "execute_result"
    }
   ],
   "source": [
    "model.evaluate(test_ds_trees)"
   ]
  },
  {
   "cell_type": "code",
   "execution_count": 62,
   "id": "706e50ae",
   "metadata": {},
   "outputs": [],
   "source": [
    "import IPython"
   ]
  },
  {
   "cell_type": "code",
   "execution_count": 63,
   "id": "e6dc41ff",
   "metadata": {},
   "outputs": [
    {
     "data": {
      "text/html": [
       "\n",
       "<script src=\"https://d3js.org/d3.v6.min.js\"></script>\n",
       "<div id=\"tree_plot_afe7727ba11a4eb1a4ec2ab32d2b19a7\"></div>\n",
       "<script>\n",
       "/*\n",
       " * Copyright 2021 Google LLC.\n",
       " * Licensed under the Apache License, Version 2.0 (the \"License\");\n",
       " * you may not use this file except in compliance with the License.\n",
       " * You may obtain a copy of the License at\n",
       " *\n",
       " *     https://www.apache.org/licenses/LICENSE-2.0\n",
       " *\n",
       " * Unless required by applicable law or agreed to in writing, software\n",
       " * distributed under the License is distributed on an \"AS IS\" BASIS,\n",
       " * WITHOUT WARRANTIES OR CONDITIONS OF ANY KIND, either express or implied.\n",
       " * See the License for the specific language governing permissions and\n",
       " * limitations under the License.\n",
       " */\n",
       "\n",
       "/**\n",
       " *  Plotting of decision trees generated by TF-DF.\n",
       " *\n",
       " *  A tree is a recursive structure of node objects.\n",
       " *  A node contains one or more of the following components:\n",
       " *\n",
       " *    - A value: Representing the output of the node. If the node is not a leaf,\n",
       " *      the value is only present for analysis i.e. it is not used for\n",
       " *      predictions.\n",
       " *\n",
       " *    - A condition : For non-leaf nodes, the condition (also known as split)\n",
       " *      defines a binary test to branch to the positive or negative child.\n",
       " *\n",
       " *    - An explanation: Generally a plot showing the relation between the label\n",
       " *      and the condition to give insights about the effect of the condition.\n",
       " *\n",
       " *    - Two children : For non-leaf nodes, the children nodes. The first\n",
       " *      children (i.e. \"node.children[0]\") is the negative children (drawn in\n",
       " *      red). The second children is the positive one (drawn in green).\n",
       " *\n",
       " */\n",
       "\n",
       "/**\n",
       " * Plots a single decision tree into a DOM element.\n",
       " * @param {!options} options Dictionary of configurations.\n",
       " * @param {!tree} raw_tree Recursive tree structure.\n",
       " * @param {string} canvas_id Id of the output dom element.\n",
       " */\n",
       "function display_tree(options, raw_tree, canvas_id) {\n",
       "  console.log(options);\n",
       "\n",
       "  // Determine the node placement.\n",
       "  const tree_struct = d3.tree().nodeSize(\n",
       "      [options.node_y_offset, options.node_x_offset])(d3.hierarchy(raw_tree));\n",
       "\n",
       "  // Boundaries of the node placement.\n",
       "  let x_min = Infinity;\n",
       "  let x_max = -x_min;\n",
       "  let y_min = Infinity;\n",
       "  let y_max = -x_min;\n",
       "\n",
       "  tree_struct.each(d => {\n",
       "    if (d.x > x_max) x_max = d.x;\n",
       "    if (d.x < x_min) x_min = d.x;\n",
       "    if (d.y > y_max) y_max = d.y;\n",
       "    if (d.y < y_min) y_min = d.y;\n",
       "  });\n",
       "\n",
       "  // Size of the plot.\n",
       "  const width = y_max - y_min + options.node_x_size + options.margin * 2;\n",
       "  const height = x_max - x_min + options.node_y_size + options.margin * 2 +\n",
       "      options.node_y_offset - options.node_y_size;\n",
       "\n",
       "  const plot = d3.select(canvas_id);\n",
       "\n",
       "  // Tool tip\n",
       "  options.tooltip = plot.append('div')\n",
       "                        .attr('width', 100)\n",
       "                        .attr('height', 100)\n",
       "                        .style('padding', '4px')\n",
       "                        .style('background', '#fff')\n",
       "                        .style('box-shadow', '4px 4px 0px rgba(0,0,0,0.1)')\n",
       "                        .style('border', '1px solid black')\n",
       "                        .style('font-family', 'sans-serif')\n",
       "                        .style('font-size', options.font_size)\n",
       "                        .style('position', 'absolute')\n",
       "                        .style('z-index', '10')\n",
       "                        .attr('pointer-events', 'none')\n",
       "                        .style('display', 'none');\n",
       "\n",
       "  // Create canvas\n",
       "  const svg = plot.append('svg').attr('width', width).attr('height', height);\n",
       "  const graph =\n",
       "      svg.style('overflow', 'visible')\n",
       "          .append('g')\n",
       "          .attr('font-family', 'sans-serif')\n",
       "          .attr('font-size', options.font_size)\n",
       "          .attr(\n",
       "              'transform',\n",
       "              () => `translate(${options.margin},${\n",
       "                  - x_min + options.node_y_offset / 2 + options.margin})`);\n",
       "\n",
       "  // Plot bounding box.\n",
       "  if (options.show_plot_bounding_box) {\n",
       "    svg.append('rect')\n",
       "        .attr('width', width)\n",
       "        .attr('height', height)\n",
       "        .attr('fill', 'none')\n",
       "        .attr('stroke-width', 1.0)\n",
       "        .attr('stroke', 'black');\n",
       "  }\n",
       "\n",
       "  // Draw the edges.\n",
       "  display_edges(options, graph, tree_struct);\n",
       "\n",
       "  // Draw the nodes.\n",
       "  display_nodes(options, graph, tree_struct);\n",
       "}\n",
       "\n",
       "/**\n",
       " * Draw the nodes of the tree.\n",
       " * @param {!options} options Dictionary of configurations.\n",
       " * @param {!graph} graph D3 search handle containing the graph.\n",
       " * @param {!tree_struct} tree_struct Structure of the tree (node placement,\n",
       " *     data, etc.).\n",
       " */\n",
       "function display_nodes(options, graph, tree_struct) {\n",
       "  const nodes = graph.append('g')\n",
       "                    .selectAll('g')\n",
       "                    .data(tree_struct.descendants())\n",
       "                    .join('g')\n",
       "                    .attr('transform', d => `translate(${d.y},${d.x})`);\n",
       "\n",
       "  nodes.append('rect')\n",
       "      .attr('x', 0.5)\n",
       "      .attr('y', 0.5)\n",
       "      .attr('width', options.node_x_size)\n",
       "      .attr('height', options.node_y_size)\n",
       "      .attr('stroke', 'lightgrey')\n",
       "      .attr('stroke-width', 1)\n",
       "      .attr('fill', 'white')\n",
       "      .attr('y', -options.node_y_size / 2);\n",
       "\n",
       "  // Brackets on the right of condition nodes without children.\n",
       "  non_leaf_node_without_children =\n",
       "      nodes.filter(node => node.data.condition != null && node.children == null)\n",
       "          .append('g')\n",
       "          .attr('transform', `translate(${options.node_x_size},0)`);\n",
       "\n",
       "  non_leaf_node_without_children.append('path')\n",
       "      .attr('d', 'M0,0 C 10,0 0,10 10,10')\n",
       "      .attr('fill', 'none')\n",
       "      .attr('stroke-width', 1.0)\n",
       "      .attr('stroke', '#F00');\n",
       "\n",
       "  non_leaf_node_without_children.append('path')\n",
       "      .attr('d', 'M0,0 C 10,0 0,-10 10,-10')\n",
       "      .attr('fill', 'none')\n",
       "      .attr('stroke-width', 1.0)\n",
       "      .attr('stroke', '#0F0');\n",
       "\n",
       "  const node_content = nodes.append('g').attr(\n",
       "      'transform',\n",
       "      `translate(0,${options.node_padding - options.node_y_size / 2})`);\n",
       "\n",
       "  node_content.append(node => create_node_element(options, node));\n",
       "}\n",
       "\n",
       "/**\n",
       " * Creates the D3 content for a single node.\n",
       " * @param {!options} options Dictionary of configurations.\n",
       " * @param {!node} node Node to draw.\n",
       " * @return {!d3} D3 content.\n",
       " */\n",
       "function create_node_element(options, node) {\n",
       "  // Output accumulator.\n",
       "  let output = {\n",
       "    // Content to draw.\n",
       "    content: d3.create('svg:g'),\n",
       "    // Vertical offset to the next element to draw.\n",
       "    vertical_offset: 0\n",
       "  };\n",
       "\n",
       "  // Conditions.\n",
       "  if (node.data.condition != null) {\n",
       "    display_condition(options, node.data.condition, output);\n",
       "  }\n",
       "\n",
       "  // Values.\n",
       "  if (node.data.value != null) {\n",
       "    display_value(options, node.data.value, output);\n",
       "  }\n",
       "\n",
       "  // Explanations.\n",
       "  if (node.data.explanation != null) {\n",
       "    display_explanation(options, node.data.explanation, output);\n",
       "  }\n",
       "\n",
       "  return output.content.node();\n",
       "}\n",
       "\n",
       "\n",
       "/**\n",
       " * Adds a single line of text inside of a node.\n",
       " * @param {!options} options Dictionary of configurations.\n",
       " * @param {string} text Text to display.\n",
       " * @param {!output} output Output display accumulator.\n",
       " */\n",
       "function display_node_text(options, text, output) {\n",
       "  output.content.append('text')\n",
       "      .attr('x', options.node_padding)\n",
       "      .attr('y', output.vertical_offset)\n",
       "      .attr('alignment-baseline', 'hanging')\n",
       "      .text(text);\n",
       "  output.vertical_offset += 10;\n",
       "}\n",
       "\n",
       "/**\n",
       " * Adds a single line of text inside of a node with a tooltip.\n",
       " * @param {!options} options Dictionary of configurations.\n",
       " * @param {string} text Text to display.\n",
       " * @param {string} tooltip Text in the Tooltip.\n",
       " * @param {!output} output Output display accumulator.\n",
       " */\n",
       "function display_node_text_with_tooltip(options, text, tooltip, output) {\n",
       "  const item = output.content.append('text')\n",
       "                   .attr('x', options.node_padding)\n",
       "                   .attr('alignment-baseline', 'hanging')\n",
       "                   .text(text);\n",
       "\n",
       "  add_tooltip(options, item, () => tooltip);\n",
       "  output.vertical_offset += 10;\n",
       "}\n",
       "\n",
       "/**\n",
       " * Adds a tooltip to a dom element.\n",
       " * @param {!options} options Dictionary of configurations.\n",
       " * @param {!dom} target Dom element to equip with a tooltip.\n",
       " * @param {!func} get_content Generates the html content of the tooltip.\n",
       " */\n",
       "function add_tooltip(options, target, get_content) {\n",
       "  function show(d) {\n",
       "    options.tooltip.style('display', 'block');\n",
       "    options.tooltip.html(get_content());\n",
       "  }\n",
       "\n",
       "  function hide(d) {\n",
       "    options.tooltip.style('display', 'none');\n",
       "  }\n",
       "\n",
       "  function move(d) {\n",
       "    options.tooltip.style('display', 'block');\n",
       "    options.tooltip.style('left', (d.pageX + 5) + 'px');\n",
       "    options.tooltip.style('top', d.pageY + 'px');\n",
       "  }\n",
       "\n",
       "  target.on('mouseover', show);\n",
       "  target.on('mouseout', hide);\n",
       "  target.on('mousemove', move);\n",
       "}\n",
       "\n",
       "/**\n",
       " * Adds a condition inside of a node.\n",
       " * @param {!options} options Dictionary of configurations.\n",
       " * @param {!condition} condition Condition to display.\n",
       " * @param {!output} output Output display accumulator.\n",
       " */\n",
       "function display_condition(options, condition, output) {\n",
       "  threshold_format = d3.format('r');\n",
       "\n",
       "  if (condition.type === 'IS_MISSING') {\n",
       "    display_node_text(options, `${condition.attribute} is missing`, output);\n",
       "    return;\n",
       "  }\n",
       "\n",
       "  if (condition.type === 'IS_TRUE') {\n",
       "    display_node_text(options, `${condition.attribute} is true`, output);\n",
       "    return;\n",
       "  }\n",
       "\n",
       "  if (condition.type === 'NUMERICAL_IS_HIGHER_THAN') {\n",
       "    format = d3.format('r');\n",
       "    display_node_text(\n",
       "        options,\n",
       "        `${condition.attribute} >= ${threshold_format(condition.threshold)}`,\n",
       "        output);\n",
       "    return;\n",
       "  }\n",
       "\n",
       "  if (condition.type === 'CATEGORICAL_IS_IN') {\n",
       "    display_node_text_with_tooltip(\n",
       "        options, `${condition.attribute} in [...]`,\n",
       "        `${condition.attribute} in [${condition.mask}]`, output);\n",
       "    return;\n",
       "  }\n",
       "\n",
       "  if (condition.type === 'CATEGORICAL_SET_CONTAINS') {\n",
       "    display_node_text_with_tooltip(\n",
       "        options, `${condition.attribute} intersect [...]`,\n",
       "        `${condition.attribute} intersect [${condition.mask}]`, output);\n",
       "    return;\n",
       "  }\n",
       "\n",
       "  if (condition.type === 'NUMERICAL_SPARSE_OBLIQUE') {\n",
       "    display_node_text_with_tooltip(\n",
       "        options, `Sparse oblique split...`,\n",
       "        `[${condition.attributes}]*[${condition.weights}]>=${\n",
       "            threshold_format(condition.threshold)}`,\n",
       "        output);\n",
       "    return;\n",
       "  }\n",
       "\n",
       "  display_node_text(\n",
       "      options, `Non supported condition ${condition.type}`, output);\n",
       "}\n",
       "\n",
       "/**\n",
       " * Adds a value inside of a node.\n",
       " * @param {!options} options Dictionary of configurations.\n",
       " * @param {!value} value Value to display.\n",
       " * @param {!output} output Output display accumulator.\n",
       " */\n",
       "function display_value(options, value, output) {\n",
       "  if (value.type === 'PROBABILITY') {\n",
       "    const left_margin = 0;\n",
       "    const right_margin = 50;\n",
       "    const plot_width = options.node_x_size - options.node_padding * 2 -\n",
       "        left_margin - right_margin;\n",
       "\n",
       "    let cusum = Array.from(d3.cumsum(value.distribution));\n",
       "    cusum.unshift(0);\n",
       "    const distribution_plot = output.content.append('g').attr(\n",
       "        'transform', `translate(0,${output.vertical_offset + 0.5})`);\n",
       "\n",
       "    distribution_plot.selectAll('rect')\n",
       "        .data(value.distribution)\n",
       "        .join('rect')\n",
       "        .attr('height', 10)\n",
       "        .attr(\n",
       "            'x',\n",
       "            (d, i) =>\n",
       "                (cusum[i] * plot_width + left_margin + options.node_padding))\n",
       "        .attr('width', (d, i) => d * plot_width)\n",
       "        .style('fill', (d, i) => d3.schemeSet1[i]);\n",
       "\n",
       "    const num_examples =\n",
       "        output.content.append('g')\n",
       "            .attr('transform', `translate(0,${output.vertical_offset})`)\n",
       "            .append('text')\n",
       "            .attr('x', options.node_x_size - options.node_padding)\n",
       "            .attr('alignment-baseline', 'hanging')\n",
       "            .attr('text-anchor', 'end')\n",
       "            .text(`(${value.num_examples})`);\n",
       "\n",
       "    const distribution_details = d3.create('ul');\n",
       "    distribution_details.selectAll('li')\n",
       "        .data(value.distribution)\n",
       "        .join('li')\n",
       "        .append('span')\n",
       "        .text(\n",
       "            (d, i) =>\n",
       "                'class ' + i + ': ' + d3.format('.3%')(value.distribution[i]));\n",
       "\n",
       "    add_tooltip(options, distribution_plot, () => distribution_details.html());\n",
       "    add_tooltip(options, num_examples, () => 'Number of examples');\n",
       "\n",
       "    output.vertical_offset += 10;\n",
       "    return;\n",
       "  }\n",
       "\n",
       "  if (value.type === 'REGRESSION') {\n",
       "    display_node_text(\n",
       "        options,\n",
       "        'value: ' + d3.format('r')(value.value) + ` (` +\n",
       "            d3.format('.6')(value.num_examples) + `)`,\n",
       "        output);\n",
       "    return;\n",
       "  }\n",
       "\n",
       "  display_node_text(options, `Non supported value ${value.type}`, output);\n",
       "}\n",
       "\n",
       "/**\n",
       " * Adds an explanation inside of a node.\n",
       " * @param {!options} options Dictionary of configurations.\n",
       " * @param {!explanation} explanation Explanation to display.\n",
       " * @param {!output} output Output display accumulator.\n",
       " */\n",
       "function display_explanation(options, explanation, output) {\n",
       "  // Margin before the explanation.\n",
       "  output.vertical_offset += 10;\n",
       "\n",
       "  display_node_text(\n",
       "      options, `Non supported explanation ${explanation.type}`, output);\n",
       "}\n",
       "\n",
       "\n",
       "/**\n",
       " * Draw the edges of the tree.\n",
       " * @param {!options} options Dictionary of configurations.\n",
       " * @param {!graph} graph D3 search handle containing the graph.\n",
       " * @param {!tree_struct} tree_struct Structure of the tree (node placement,\n",
       " *     data, etc.).\n",
       " */\n",
       "function display_edges(options, graph, tree_struct) {\n",
       "  // Draw an edge between a parent and a child node with a bezier.\n",
       "  function draw_single_edge(d) {\n",
       "    return 'M' + (d.source.y + options.node_x_size) + ',' + d.source.x + ' C' +\n",
       "        (d.source.y + options.node_x_size + options.edge_rounding) + ',' +\n",
       "        d.source.x + ' ' + (d.target.y - options.edge_rounding) + ',' +\n",
       "        d.target.x + ' ' + d.target.y + ',' + d.target.x;\n",
       "  }\n",
       "\n",
       "  graph.append('g')\n",
       "      .attr('fill', 'none')\n",
       "      .attr('stroke-width', 1.2)\n",
       "      .selectAll('path')\n",
       "      .data(tree_struct.links())\n",
       "      .join('path')\n",
       "      .attr('d', draw_single_edge)\n",
       "      .attr(\n",
       "          'stroke', d => (d.target === d.source.children[0]) ? '#0F0' : '#F00');\n",
       "}\n",
       "\n",
       "display_tree({\"margin\": 10, \"node_x_size\": 160, \"node_y_size\": 28, \"node_x_offset\": 180, \"node_y_offset\": 33, \"font_size\": 10, \"edge_rounding\": 20, \"node_padding\": 2, \"show_plot_bounding_box\": false}, {\"value\": {\"type\": \"PROBABILITY\", \"distribution\": [0.6651982378854625, 0.33480176211453744], \"num_examples\": 227.0}, \"condition\": {\"type\": \"NUMERICAL_IS_HIGHER_THAN\", \"attribute\": \"oldpeak\", \"threshold\": 0.8500000238418579}, \"children\": [{\"value\": {\"type\": \"PROBABILITY\", \"distribution\": [0.41284403669724773, 0.5871559633027523], \"num_examples\": 109.0}, \"condition\": {\"type\": \"CATEGORICAL_IS_IN\", \"attribute\": \"thal\", \"mask\": [\"reversible\", \"fixed\"]}, \"children\": [{\"value\": {\"type\": \"PROBABILITY\", \"distribution\": [0.26666666666666666, 0.7333333333333333], \"num_examples\": 75.0}, \"condition\": {\"type\": \"NUMERICAL_IS_HIGHER_THAN\", \"attribute\": \"cp\", \"threshold\": 1.5}, \"children\": [{\"value\": {\"type\": \"PROBABILITY\", \"distribution\": [0.2028985507246377, 0.7971014492753623], \"num_examples\": 69.0}, \"condition\": {\"type\": \"NUMERICAL_IS_HIGHER_THAN\", \"attribute\": \"fbs\", \"threshold\": 0.5}}, {\"value\": {\"type\": \"PROBABILITY\", \"distribution\": [1.0, 0.0], \"num_examples\": 6.0}}]}, {\"value\": {\"type\": \"PROBABILITY\", \"distribution\": [0.7352941176470589, 0.2647058823529412], \"num_examples\": 34.0}, \"condition\": {\"type\": \"NUMERICAL_IS_HIGHER_THAN\", \"attribute\": \"cp\", \"threshold\": 3.5}, \"children\": [{\"value\": {\"type\": \"PROBABILITY\", \"distribution\": [0.4, 0.6], \"num_examples\": 15.0}, \"condition\": {\"type\": \"NUMERICAL_IS_HIGHER_THAN\", \"attribute\": \"thalach\", \"threshold\": 119.0}}, {\"value\": {\"type\": \"PROBABILITY\", \"distribution\": [1.0, 0.0], \"num_examples\": 19.0}}]}]}, {\"value\": {\"type\": \"PROBABILITY\", \"distribution\": [0.8983050847457628, 0.1016949152542373], \"num_examples\": 118.0}, \"condition\": {\"type\": \"NUMERICAL_IS_HIGHER_THAN\", \"attribute\": \"exang\", \"threshold\": 0.5}, \"children\": [{\"value\": {\"type\": \"PROBABILITY\", \"distribution\": [0.6190476190476191, 0.38095238095238093], \"num_examples\": 21.0}, \"condition\": {\"type\": \"NUMERICAL_IS_HIGHER_THAN\", \"attribute\": \"age\", \"threshold\": 56.0}, \"children\": [{\"value\": {\"type\": \"PROBABILITY\", \"distribution\": [0.7142857142857143, 0.2857142857142857], \"num_examples\": 14.0}, \"condition\": {\"type\": \"NUMERICAL_IS_HIGHER_THAN\", \"attribute\": \"age\", \"threshold\": 57.5}}, {\"value\": {\"type\": \"PROBABILITY\", \"distribution\": [0.42857142857142855, 0.5714285714285714], \"num_examples\": 7.0}}]}, {\"value\": {\"type\": \"PROBABILITY\", \"distribution\": [0.9587628865979382, 0.041237113402061855], \"num_examples\": 97.0}, \"condition\": {\"type\": \"NUMERICAL_IS_HIGHER_THAN\", \"attribute\": \"trestbps\", \"threshold\": 101.5}, \"children\": [{\"value\": {\"type\": \"PROBABILITY\", \"distribution\": [0.9891304347826086, 0.010869565217391304], \"num_examples\": 92.0}, \"condition\": {\"type\": \"CATEGORICAL_IS_IN\", \"attribute\": \"thal\", \"mask\": [\"reversible\"]}}, {\"value\": {\"type\": \"PROBABILITY\", \"distribution\": [0.4, 0.6], \"num_examples\": 5.0}}]}]}]}, \"#tree_plot_afe7727ba11a4eb1a4ec2ab32d2b19a7\")\n",
       "</script>\n"
      ],
      "text/plain": [
       "<IPython.core.display.HTML object>"
      ]
     },
     "execution_count": 63,
     "metadata": {},
     "output_type": "execute_result"
    }
   ],
   "source": [
    "IPython.display.HTML(tfdf.model_plotter.plot_model(model, tree_idx=0, max_depth=3))"
   ]
  },
  {
   "cell_type": "markdown",
   "id": "962c1a59",
   "metadata": {},
   "source": [
    "## Evaluate"
   ]
  },
  {
   "cell_type": "code",
   "execution_count": 64,
   "id": "588c7d38",
   "metadata": {},
   "outputs": [
    {
     "data": {
      "text/plain": [
       "{'NUM_NODES': [(\"oldpeak\" (1; #6), 763.0),\n",
       "  (\"chol\" (1; #2), 658.0),\n",
       "  (\"thalach\" (1; #11), 630.0),\n",
       "  (\"ca\" (1; #1), 526.0),\n",
       "  (\"age\" (1; #0), 488.0),\n",
       "  (\"trestbps\" (1; #12), 449.0),\n",
       "  (\"cp\" (1; #3), 387.0),\n",
       "  (\"thal\" (4; #10), 323.0),\n",
       "  (\"slope\" (1; #9), 150.0),\n",
       "  (\"restecg\" (1; #7), 141.0),\n",
       "  (\"exang\" (1; #4), 118.0),\n",
       "  (\"sex\" (1; #8), 109.0),\n",
       "  (\"fbs\" (1; #5), 45.0)],\n",
       " 'NUM_AS_ROOT': [(\"thal\" (4; #10), 87.0),\n",
       "  (\"oldpeak\" (1; #6), 64.0),\n",
       "  (\"ca\" (1; #1), 58.0),\n",
       "  (\"cp\" (1; #3), 57.0),\n",
       "  (\"slope\" (1; #9), 11.0),\n",
       "  (\"thalach\" (1; #11), 11.0),\n",
       "  (\"exang\" (1; #4), 8.0),\n",
       "  (\"sex\" (1; #8), 2.0),\n",
       "  (\"age\" (1; #0), 1.0),\n",
       "  (\"trestbps\" (1; #12), 1.0)],\n",
       " 'MEAN_MIN_DEPTH': [(\"__LABEL\" (4; #13), 4.764778163758044),\n",
       "  (\"fbs\" (1; #5), 4.679416696994099),\n",
       "  (\"restecg\" (1; #7), 4.616640037135783),\n",
       "  (\"exang\" (1; #4), 4.455384677528641),\n",
       "  (\"sex\" (1; #8), 4.448539617718026),\n",
       "  (\"slope\" (1; #9), 4.2678027557381295),\n",
       "  (\"age\" (1; #0), 4.128369699887889),\n",
       "  (\"trestbps\" (1; #12), 4.07977548490668),\n",
       "  (\"chol\" (1; #2), 3.820061361010279),\n",
       "  (\"thalach\" (1; #11), 3.617814765142552),\n",
       "  (\"cp\" (1; #3), 2.757968186855571),\n",
       "  (\"ca\" (1; #1), 2.5160676848807673),\n",
       "  (\"thal\" (4; #10), 2.424818860720177),\n",
       "  (\"oldpeak\" (1; #6), 2.3313377709894745)],\n",
       " 'SUM_SCORE': [(\"oldpeak\" (1; #6), 6463.080770408735),\n",
       "  (\"ca\" (1; #1), 4853.996789506637),\n",
       "  (\"thal\" (4; #10), 4752.086137861013),\n",
       "  (\"cp\" (1; #3), 4180.3029990447685),\n",
       "  (\"thalach\" (1; #11), 2774.630056016147),\n",
       "  (\"chol\" (1; #2), 2460.5036033662036),\n",
       "  (\"age\" (1; #0), 1641.608204960823),\n",
       "  (\"trestbps\" (1; #12), 1626.2179564787075),\n",
       "  (\"slope\" (1; #9), 847.3798396456987),\n",
       "  (\"exang\" (1; #4), 626.1624231208116),\n",
       "  (\"sex\" (1; #8), 491.5620553586632),\n",
       "  (\"restecg\" (1; #7), 429.8241121452302),\n",
       "  (\"fbs\" (1; #5), 154.0099602304399)]}"
      ]
     },
     "execution_count": 64,
     "metadata": {},
     "output_type": "execute_result"
    }
   ],
   "source": [
    "model.make_inspector().variable_importances()"
   ]
  },
  {
   "cell_type": "code",
   "execution_count": 65,
   "id": "13bc16cd",
   "metadata": {},
   "outputs": [
    {
     "data": {
      "image/png": "[encoded data removed]",
      "text/plain": [
       "<Figure size 864x288 with 2 Axes>"
      ]
     },
     "metadata": {
      "needs_background": "light"
     },
     "output_type": "display_data"
    }
   ],
   "source": [
    "import matplotlib.pyplot as plt\n",
    "\n",
    "logs = model.make_inspector().training_logs()\n",
    "\n",
    "plt.figure(figsize=(12, 4))\n",
    "\n",
    "plt.subplot(1, 2, 1)\n",
    "plt.plot([log.num_trees for log in logs], [log.evaluation.accuracy for log in logs])\n",
    "plt.xlabel(\"Number of trees\")\n",
    "plt.ylabel(\"Accuracy (out-of-bag)\")\n",
    "\n",
    "plt.subplot(1, 2, 2)\n",
    "plt.plot([log.num_trees for log in logs], [log.evaluation.loss for log in logs])\n",
    "plt.xlabel(\"Number of trees\")\n",
    "plt.ylabel(\"Logloss (out-of-bag)\")\n",
    "\n",
    "plt.show()\n"
   ]
  },
  {
   "cell_type": "markdown",
   "id": "63afca91",
   "metadata": {},
   "source": [
    "## Export"
   ]
  },
  {
   "cell_type": "markdown",
   "id": "796c471e",
   "metadata": {},
   "source": [
    "This model can also be exported to a SavedModel, and then served using TensorFlow Serving or similar.\n",
    "\n",
    "https://www.tensorflow.org/decision_forests/tensorflow_serving"
   ]
  },
  {
   "cell_type": "code",
   "execution_count": null,
   "id": "d7755dfc",
   "metadata": {},
   "outputs": [],
   "source": [
    "#model.save(\"rf_model\")"
   ]
  }
 ],
 "metadata": {
  "kernelspec": {
   "display_name": "Python [conda env:tf]",
   "language": "python",
   "name": "conda-env-tf-py"
  },
  "language_info": {
   "codemirror_mode": {
    "name": "ipython",
    "version": 3
   },
   "file_extension": ".py",
   "mimetype": "text/x-python",
   "name": "python",
   "nbconvert_exporter": "python",
   "pygments_lexer": "ipython3",
   "version": "3.8.12"
  }
 },
 "nbformat": 4,
 "nbformat_minor": 5
}
