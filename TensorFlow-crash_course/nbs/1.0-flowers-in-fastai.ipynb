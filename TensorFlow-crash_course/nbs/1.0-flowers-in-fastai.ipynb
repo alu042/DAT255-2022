{
 "cells": [
  {
   "cell_type": "markdown",
   "id": "ecdbd8ae",
   "metadata": {},
   "source": [
    "# Introduction"
   ]
  },
  {
   "cell_type": "markdown",
   "id": "ad150ed3",
   "metadata": {},
   "source": [
    "In this notebook we use tools and techniques from fastai that we're already very familiar with to construct an image classifier. In the next notebook we'll tell a parallel story based on TensorFlow and its Keras API. "
   ]
  },
  {
   "cell_type": "markdown",
   "id": "5a5a44ee",
   "metadata": {},
   "source": [
    "# Setup"
   ]
  },
  {
   "cell_type": "code",
   "execution_count": null,
   "id": "d248b3cc",
   "metadata": {},
   "outputs": [],
   "source": [
    "%matplotlib inline"
   ]
  },
  {
   "cell_type": "code",
   "execution_count": null,
   "id": "248f5a1a",
   "metadata": {},
   "outputs": [],
   "source": [
    "from fastai.vision.all import *"
   ]
  },
  {
   "cell_type": "markdown",
   "id": "60439f94",
   "metadata": {},
   "source": [
    "Set data dir:"
   ]
  },
  {
   "cell_type": "code",
   "execution_count": null,
   "id": "2a16c9f2",
   "metadata": {},
   "outputs": [],
   "source": [
    "with open('path.pkl', 'rb') as f:\n",
    "    path = pickle.load(f)"
   ]
  },
  {
   "cell_type": "code",
   "execution_count": null,
   "id": "f76f161f",
   "metadata": {},
   "outputs": [],
   "source": [
    "path"
   ]
  },
  {
   "cell_type": "code",
   "execution_count": null,
   "id": "38a05348",
   "metadata": {},
   "outputs": [],
   "source": [
    "path.ls()"
   ]
  },
  {
   "cell_type": "markdown",
   "id": "25e8f916",
   "metadata": {},
   "source": [
    "# Datablock and dataloaders"
   ]
  },
  {
   "cell_type": "markdown",
   "id": "ba70482a",
   "metadata": {},
   "source": [
    "![](assets/datablock_api.png)"
   ]
  },
  {
   "cell_type": "code",
   "execution_count": null,
   "id": "5c132360",
   "metadata": {},
   "outputs": [],
   "source": [
    "flowers = DataBlock(blocks=(ImageBlock, CategoryBlock),\n",
    "                   get_items=get_image_files,\n",
    "                   splitter=RandomSplitter(0.2),\n",
    "                   get_y=parent_label,\n",
    "                   item_tfms=RandomResizedCrop(600),\n",
    "                   batch_tfms=[*aug_transforms(size=224), \n",
    "                               Normalize.from_stats(*imagenet_stats)])"
   ]
  },
  {
   "cell_type": "code",
   "execution_count": null,
   "id": "f962b4e3",
   "metadata": {},
   "outputs": [],
   "source": [
    "#flowers.summary(path)"
   ]
  },
  {
   "cell_type": "code",
   "execution_count": null,
   "id": "ad0f09f8",
   "metadata": {},
   "outputs": [],
   "source": [
    "dls = flowers.dataloaders(path)"
   ]
  },
  {
   "cell_type": "code",
   "execution_count": null,
   "id": "7150a3dc",
   "metadata": {},
   "outputs": [],
   "source": [
    "dls.show_batch()"
   ]
  },
  {
   "cell_type": "code",
   "execution_count": null,
   "id": "5edd66ef",
   "metadata": {},
   "outputs": [],
   "source": [
    "dls.vocab"
   ]
  },
  {
   "cell_type": "markdown",
   "id": "9eb7e274",
   "metadata": {},
   "source": [
    "# Train a model"
   ]
  },
  {
   "cell_type": "code",
   "execution_count": null,
   "id": "3240c3cd",
   "metadata": {},
   "outputs": [],
   "source": [
    "learn = cnn_learner(dls, resnet18, pretrained=True, metrics=[accuracy, error_rate])"
   ]
  },
  {
   "cell_type": "markdown",
   "id": "697c03a1",
   "metadata": {},
   "source": [
    "## Train only the head of the model"
   ]
  },
  {
   "cell_type": "code",
   "execution_count": null,
   "id": "ee4d1e3b",
   "metadata": {},
   "outputs": [],
   "source": [
    "learn.freeze()"
   ]
  },
  {
   "cell_type": "code",
   "execution_count": null,
   "id": "f148bd7c",
   "metadata": {},
   "outputs": [],
   "source": [
    "lr = learn.lr_find()"
   ]
  },
  {
   "cell_type": "code",
   "execution_count": null,
   "id": "4778125e",
   "metadata": {},
   "outputs": [],
   "source": [
    "learn.fit_one_cycle(3, lr_max=slice(lr.valley))"
   ]
  },
  {
   "cell_type": "markdown",
   "id": "790ae7ed",
   "metadata": {},
   "source": [
    "## Unfreeze and fine-tune the model"
   ]
  },
  {
   "cell_type": "code",
   "execution_count": null,
   "id": "c9f5d16c",
   "metadata": {},
   "outputs": [],
   "source": [
    "learn.unfreeze()"
   ]
  },
  {
   "cell_type": "code",
   "execution_count": null,
   "id": "21825076",
   "metadata": {},
   "outputs": [],
   "source": [
    "lr = learn.lr_find()"
   ]
  },
  {
   "cell_type": "code",
   "execution_count": null,
   "id": "ff9ec3fb",
   "metadata": {},
   "outputs": [],
   "source": [
    "learn.fit_one_cycle(5, lr_max=slice(lr.valley))"
   ]
  },
  {
   "cell_type": "markdown",
   "id": "d05a6e4f",
   "metadata": {},
   "source": [
    "# Evaluate the model"
   ]
  },
  {
   "cell_type": "code",
   "execution_count": null,
   "id": "59cfaf91",
   "metadata": {},
   "outputs": [],
   "source": [
    "interp = ClassificationInterpretation.from_learner(learn)"
   ]
  },
  {
   "cell_type": "code",
   "execution_count": null,
   "id": "4b1e27c3",
   "metadata": {},
   "outputs": [],
   "source": [
    "interp.plot_confusion_matrix()"
   ]
  },
  {
   "cell_type": "code",
   "execution_count": null,
   "id": "221fba18",
   "metadata": {},
   "outputs": [],
   "source": [
    "def plot_top_losses_fix(interp, k, largest=True, **kwargs):\n",
    "        losses,idx = interp.top_losses(k, largest)\n",
    "        if not isinstance(interp.inputs, tuple): interp.inputs = (interp.inputs,)\n",
    "        if isinstance(interp.inputs[0], Tensor): inps = tuple(o[idx] for o in interp.inputs)\n",
    "        else: inps = interp.dl.create_batch(interp.dl.before_batch([tuple(o[i] for o in interp.inputs) for i in idx]))\n",
    "        b = inps + tuple(o[idx] for o in (interp.targs if is_listy(interp.targs) else (interp.targs,)))\n",
    "        x,y,its = interp.dl._pre_show_batch(b, max_n=k)\n",
    "        b_out = inps + tuple(o[idx] for o in (interp.decoded if is_listy(interp.decoded) else (interp.decoded,)))\n",
    "        x1,y1,outs = interp.dl._pre_show_batch(b_out, max_n=k)\n",
    "        if its is not None:\n",
    "            #plot_top_losses(x, y, its, outs.itemgot(slice(len(inps), None)), L(self.preds).itemgot(idx), losses,  **kwargs)\n",
    "            plot_top_losses(x, y, its, outs.itemgot(slice(len(inps), None)), interp.preds[idx], losses,  **kwargs)\n",
    "        #TODO: figure out if this is needed\n",
    "        #its None means that a batch knows how to show itself as a whole, so we pass x, x1\n",
    "        #else: show_results(x, x1, its, ctxs=ctxs, max_n=max_n, **kwargs)"
   ]
  },
  {
   "cell_type": "code",
   "execution_count": null,
   "id": "49b3aa73",
   "metadata": {},
   "outputs": [],
   "source": [
    "plot_top_losses_fix(interp, k=8)"
   ]
  }
 ],
 "metadata": {
  "kernelspec": {
   "display_name": "Python [conda env:fastai]",
   "language": "python",
   "name": "conda-env-fastai-py"
  },
  "language_info": {
   "codemirror_mode": {
    "name": "ipython",
    "version": 3
   },
   "file_extension": ".py",
   "mimetype": "text/x-python",
   "name": "python",
   "nbconvert_exporter": "python",
   "pygments_lexer": "ipython3",
   "version": "3.8.12"
  },
  "varInspector": {
   "cols": {
    "lenName": 16,
    "lenType": 16,
    "lenVar": 40
   },
   "kernels_config": {
    "python": {
     "delete_cmd_postfix": "",
     "delete_cmd_prefix": "del ",
     "library": "var_list.py",
     "varRefreshCmd": "print(var_dic_list())"
    },
    "r": {
     "delete_cmd_postfix": ") ",
     "delete_cmd_prefix": "rm(",
     "library": "var_list.r",
     "varRefreshCmd": "cat(var_dic_list()) "
    }
   },
   "types_to_exclude": [
    "module",
    "function",
    "builtin_function_or_method",
    "instance",
    "_Feature"
   ],
   "window_display": false
  }
 },
 "nbformat": 4,
 "nbformat_minor": 5
}
