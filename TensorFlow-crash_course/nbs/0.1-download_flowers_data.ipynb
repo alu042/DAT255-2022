{
 "cells": [
  {
   "cell_type": "markdown",
   "id": "297409b3",
   "metadata": {},
   "source": [
    "# Introduction"
   ]
  },
  {
   "cell_type": "markdown",
   "id": "c416a128",
   "metadata": {},
   "source": [
    "Download and prepare the flowers data set for later use with PyTorch and TensorFlow."
   ]
  },
  {
   "cell_type": "markdown",
   "id": "82f705cd",
   "metadata": {},
   "source": [
    "# Setup"
   ]
  },
  {
   "cell_type": "code",
   "execution_count": null,
   "id": "62787b78",
   "metadata": {},
   "outputs": [],
   "source": [
    "%matplotlib inline\n",
    "import matplotlib.pyplot as plt\n",
    "import os, shutil, random\n",
    "from PIL import Image\n",
    "from pathlib import Path\n",
    "import urllib.request\n",
    "from fastcore.all import *"
   ]
  },
  {
   "cell_type": "markdown",
   "id": "149356a0",
   "metadata": {},
   "source": [
    "# Download and extract"
   ]
  },
  {
   "cell_type": "code",
   "execution_count": null,
   "id": "e285d80d",
   "metadata": {},
   "outputs": [],
   "source": [
    "DATADIR = Path('/home/alex/data/dat255')\n",
    "DATADIR.mkdir(exist_ok=True)"
   ]
  },
  {
   "cell_type": "code",
   "execution_count": null,
   "id": "85818db1",
   "metadata": {},
   "outputs": [],
   "source": [
    "url = 'https://storage.googleapis.com/download.tensorflow.org/example_images/flower_photos.tgz'"
   ]
  },
  {
   "cell_type": "code",
   "execution_count": null,
   "id": "f0de379c",
   "metadata": {},
   "outputs": [],
   "source": [
    "if not os.path.isfile(DATADIR/'flower_photos.tgz'):\n",
    "    fn, _ = urllib.request.urlretrieve(url, DATADIR/'flower_photos.tgz')\n",
    "    shutil.unpack_archive(fn, extract_dir=DATADIR)\n",
    "    path = DATADIR/'flower_photos'\n",
    "else:\n",
    "    print(f\"Already downloaded to {DATADIR}\")\n",
    "    fn = DATADIR/'flower_photos.tgz'\n",
    "    path = DATADIR/'flower_photos'"
   ]
  },
  {
   "cell_type": "markdown",
   "id": "b27bfb48",
   "metadata": {},
   "source": [
    "# Inspect"
   ]
  },
  {
   "cell_type": "code",
   "execution_count": null,
   "id": "94560b10",
   "metadata": {},
   "outputs": [],
   "source": [
    "path.ls()"
   ]
  },
  {
   "cell_type": "code",
   "execution_count": null,
   "id": "9bc299d8",
   "metadata": {},
   "outputs": [],
   "source": [
    "imgs = L(path.glob('*/*.jpg'))"
   ]
  },
  {
   "cell_type": "code",
   "execution_count": null,
   "id": "e1a22895",
   "metadata": {},
   "outputs": [],
   "source": [
    "imgs"
   ]
  },
  {
   "cell_type": "markdown",
   "id": "9c572af0",
   "metadata": {},
   "source": [
    "Let's display some random images:"
   ]
  },
  {
   "cell_type": "code",
   "execution_count": null,
   "id": "1ca471d3",
   "metadata": {},
   "outputs": [],
   "source": [
    "for img in random.choices(imgs, k=3):\n",
    "    print(img)\n",
    "    im = Image.open(img)\n",
    "    print(im.size)\n",
    "    plt.imshow(im)\n",
    "    plt.axis('off')\n",
    "    plt.show()"
   ]
  },
  {
   "cell_type": "markdown",
   "id": "85d43d63",
   "metadata": {},
   "source": [
    "# Export path"
   ]
  },
  {
   "cell_type": "markdown",
   "id": "57b73bc5",
   "metadata": {},
   "source": [
    "Save the path to a file. To be loaded in later notebooks. "
   ]
  },
  {
   "cell_type": "code",
   "execution_count": null,
   "id": "a22b874a",
   "metadata": {},
   "outputs": [],
   "source": [
    "import pickle"
   ]
  },
  {
   "cell_type": "code",
   "execution_count": null,
   "id": "1621d708",
   "metadata": {},
   "outputs": [],
   "source": [
    "with open('path.pkl', 'wb') as f:\n",
    "    pickle.dump(path, f)"
   ]
  }
 ],
 "metadata": {
  "kernelspec": {
   "display_name": "Python [conda env:fastai]",
   "language": "python",
   "name": "conda-env-fastai-py"
  },
  "language_info": {
   "codemirror_mode": {
    "name": "ipython",
    "version": 3
   },
   "file_extension": ".py",
   "mimetype": "text/x-python",
   "name": "python",
   "nbconvert_exporter": "python",
   "pygments_lexer": "ipython3",
   "version": "3.8.12"
  },
  "varInspector": {
   "cols": {
    "lenName": 16,
    "lenType": 16,
    "lenVar": 40
   },
   "kernels_config": {
    "python": {
     "delete_cmd_postfix": "",
     "delete_cmd_prefix": "del ",
     "library": "var_list.py",
     "varRefreshCmd": "print(var_dic_list())"
    },
    "r": {
     "delete_cmd_postfix": ") ",
     "delete_cmd_prefix": "rm(",
     "library": "var_list.r",
     "varRefreshCmd": "cat(var_dic_list()) "
    }
   },
   "types_to_exclude": [
    "module",
    "function",
    "builtin_function_or_method",
    "instance",
    "_Feature"
   ],
   "window_display": false
  }
 },
 "nbformat": 4,
 "nbformat_minor": 5
}
