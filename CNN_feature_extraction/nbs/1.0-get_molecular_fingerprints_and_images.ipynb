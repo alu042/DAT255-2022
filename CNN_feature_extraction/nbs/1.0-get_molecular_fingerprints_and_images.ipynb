{
 "cells": [
  {
   "cell_type": "markdown",
   "metadata": {},
   "source": [
    "# Introduction"
   ]
  },
  {
   "cell_type": "markdown",
   "metadata": {},
   "source": [
    "This notebook shows how the molecular fingerprints and images used in `2.0-representing_data_as_images.ipynb` were generated. \n",
    "\n",
    "To run the notebook you must install `rdkit`: https://www.rdkit.org/docs/Install.html\n",
    "\n",
    "The data from the source article \n",
    "> [1] https://jcheminf.biomedcentral.com/articles/10.1186/s13321-017-0226-y \n",
    "\n",
    "is downloaded in the notebook from the direct link \n",
    "\n",
    "> https://static-content.springer.com/esm/art%3A10.1186%2Fs13321-017-0226-y/MediaObjects/13321_2017_226_MOESM2_ESM.zip"
   ]
  },
  {
   "cell_type": "markdown",
   "metadata": {},
   "source": [
    "# Setup"
   ]
  },
  {
   "cell_type": "code",
   "execution_count": 27,
   "metadata": {},
   "outputs": [],
   "source": [
    "%matplotlib inline\n",
    "import pandas as pd\n",
    "import numpy as np\n",
    "from pathlib import Path\n",
    "import pandas as pd\n",
    "import shutil\n",
    "import urllib"
   ]
  },
  {
   "cell_type": "code",
   "execution_count": 28,
   "metadata": {},
   "outputs": [],
   "source": [
    "from rdkit import Chem\n",
    "from rdkit.Chem import AllChem"
   ]
  },
  {
   "cell_type": "code",
   "execution_count": 29,
   "metadata": {},
   "outputs": [],
   "source": [
    "NB_DIR = Path.cwd()\n",
    "\n",
    "DATA = NB_DIR/'data'/'drug'\n",
    "DATA.mkdir(exist_ok=True, parents=True)\n",
    "\n",
    "RAWDATA = DATA/'raw'\n",
    "RAWDATA.mkdir(exist_ok=True, parents=True)\n",
    "\n",
    "INTERIMDATA = DATA/'interim'\n",
    "INTERIMDATA.mkdir(exist_ok=True, parents=True)\n",
    "\n",
    "# Location to store image files (change this as you see fit)\n",
    "IMGDATA = Path('/data2/drugdiscovery/MOESM/molimages/')\n",
    "IMGDATA.mkdir(exist_ok=True, parents=True)"
   ]
  },
  {
   "cell_type": "markdown",
   "metadata": {},
   "source": [
    "# Get the data"
   ]
  },
  {
   "cell_type": "code",
   "execution_count": 30,
   "metadata": {},
   "outputs": [
    {
     "data": {
      "text/plain": [
       "[PosixPath('/home/ubuntu/Dropbox/medGPU-alex/DAT255/DAT255-repo/CNN_feature_extraction/nbs/data/drug/raw'),\n",
       " PosixPath('/home/ubuntu/Dropbox/medGPU-alex/DAT255/DAT255-repo/CNN_feature_extraction/nbs/data/drug/interim')]"
      ]
     },
     "execution_count": 30,
     "metadata": {},
     "output_type": "execute_result"
    }
   ],
   "source": [
    "list(DATA.iterdir())"
   ]
  },
  {
   "cell_type": "code",
   "execution_count": 31,
   "metadata": {},
   "outputs": [],
   "source": [
    "dataurl = 'https://static-content.springer.com/esm/art%3A10.1186%2Fs13321-017-0226-y/MediaObjects/13321_2017_226_MOESM1_ESM.zip'"
   ]
  },
  {
   "cell_type": "code",
   "execution_count": 32,
   "metadata": {},
   "outputs": [],
   "source": [
    "fn, _ = urllib.request.urlretrieve(dataurl, DATA/'raw'/'13321_2017_226_MOESM1_ESM.zip')"
   ]
  },
  {
   "cell_type": "code",
   "execution_count": 33,
   "metadata": {},
   "outputs": [],
   "source": [
    "shutil.unpack_archive(fn, extract_dir=DATA/'raw')"
   ]
  },
  {
   "cell_type": "code",
   "execution_count": 34,
   "metadata": {},
   "outputs": [
    {
     "data": {
      "text/plain": [
       "[PosixPath('/home/ubuntu/Dropbox/medGPU-alex/DAT255/DAT255-repo/CNN_feature_extraction/nbs/data/drug/raw/CHEMBL301_cl.csv'),\n",
       " PosixPath('/home/ubuntu/Dropbox/medGPU-alex/DAT255/DAT255-repo/CNN_feature_extraction/nbs/data/drug/raw/CHEMBL1978_cl.csv'),\n",
       " PosixPath('/home/ubuntu/Dropbox/medGPU-alex/DAT255/DAT255-repo/CNN_feature_extraction/nbs/data/drug/raw/CHEMBL205_cl.csv'),\n",
       " PosixPath('/home/ubuntu/Dropbox/medGPU-alex/DAT255/DAT255-repo/CNN_feature_extraction/nbs/data/drug/raw/CHEMBL218_cl.csv'),\n",
       " PosixPath('/home/ubuntu/Dropbox/medGPU-alex/DAT255/DAT255-repo/CNN_feature_extraction/nbs/data/drug/raw/CHEMBL219_cl.csv'),\n",
       " PosixPath('/home/ubuntu/Dropbox/medGPU-alex/DAT255/DAT255-repo/CNN_feature_extraction/nbs/data/drug/raw/CHEMBL244_cl.csv'),\n",
       " PosixPath('/home/ubuntu/Dropbox/medGPU-alex/DAT255/DAT255-repo/CNN_feature_extraction/nbs/data/drug/raw/13321_2017_226_MOESM1_ESM.zip'),\n",
       " PosixPath('/home/ubuntu/Dropbox/medGPU-alex/DAT255/DAT255-repo/CNN_feature_extraction/nbs/data/drug/raw/RdkitDescriptors.py'),\n",
       " PosixPath('/home/ubuntu/Dropbox/medGPU-alex/DAT255/DAT255-repo/CNN_feature_extraction/nbs/data/drug/raw/CHEMBL240_cl.csv')]"
      ]
     },
     "execution_count": 34,
     "metadata": {},
     "output_type": "execute_result"
    }
   ],
   "source": [
    "list(RAWDATA.iterdir())"
   ]
  },
  {
   "cell_type": "code",
   "execution_count": 35,
   "metadata": {},
   "outputs": [],
   "source": [
    "datasets = sorted([d.stem for d in RAWDATA.glob('*.csv')])"
   ]
  },
  {
   "cell_type": "code",
   "execution_count": 36,
   "metadata": {},
   "outputs": [
    {
     "data": {
      "text/plain": [
       "['CHEMBL1978_cl',\n",
       " 'CHEMBL205_cl',\n",
       " 'CHEMBL218_cl',\n",
       " 'CHEMBL219_cl',\n",
       " 'CHEMBL240_cl',\n",
       " 'CHEMBL244_cl',\n",
       " 'CHEMBL301_cl']"
      ]
     },
     "execution_count": 36,
     "metadata": {},
     "output_type": "execute_result"
    }
   ],
   "source": [
    "datasets"
   ]
  },
  {
   "cell_type": "code",
   "execution_count": 39,
   "metadata": {},
   "outputs": [
    {
     "data": {
      "text/html": [
       "<div>\n",
       "<style scoped>\n",
       "    .dataframe tbody tr th:only-of-type {\n",
       "        vertical-align: middle;\n",
       "    }\n",
       "\n",
       "    .dataframe tbody tr th {\n",
       "        vertical-align: top;\n",
       "    }\n",
       "\n",
       "    .dataframe thead th {\n",
       "        text-align: right;\n",
       "    }\n",
       "</style>\n",
       "<table border=\"1\" class=\"dataframe\">\n",
       "  <thead>\n",
       "    <tr style=\"text-align: right;\">\n",
       "      <th></th>\n",
       "      <th>CID</th>\n",
       "      <th>SMILES</th>\n",
       "      <th>Activity</th>\n",
       "    </tr>\n",
       "  </thead>\n",
       "  <tbody>\n",
       "    <tr>\n",
       "      <th>0</th>\n",
       "      <td>CHEMBL310529</td>\n",
       "      <td>OCCS(=O)(=O)c1cc(c2ccc[nH]2)c3C(=O)Nc4ccc(F)c1c34</td>\n",
       "      <td>1</td>\n",
       "    </tr>\n",
       "    <tr>\n",
       "      <th>1</th>\n",
       "      <td>CHEMBL363069</td>\n",
       "      <td>Nc1nc2ccc(cn2c1C(=O)c3c(F)cc(O)cc3F)C(=O)c4c(C...</td>\n",
       "      <td>1</td>\n",
       "    </tr>\n",
       "    <tr>\n",
       "      <th>2</th>\n",
       "      <td>CHEMBL1081118</td>\n",
       "      <td>N[C@H](CCc1onc(n1)c2ccc3cnccc3c2)Cc4ccc(cc4)C(...</td>\n",
       "      <td>1</td>\n",
       "    </tr>\n",
       "    <tr>\n",
       "      <th>3</th>\n",
       "      <td>CHEMBL410883</td>\n",
       "      <td>NC(=O)c1ccc2NC(=O)\\C(=N/Nc3ccc(cc3)S(=O)(=O)N)...</td>\n",
       "      <td>1</td>\n",
       "    </tr>\n",
       "    <tr>\n",
       "      <th>4</th>\n",
       "      <td>CHEMBL1081119</td>\n",
       "      <td>N[C@H](CNc1oc(nn1)c2ccc3cnccc3c2)Cc4ccc(cc4)C(...</td>\n",
       "      <td>1</td>\n",
       "    </tr>\n",
       "  </tbody>\n",
       "</table>\n",
       "</div>"
      ],
      "text/plain": [
       "             CID                                             SMILES  Activity\n",
       "0   CHEMBL310529  OCCS(=O)(=O)c1cc(c2ccc[nH]2)c3C(=O)Nc4ccc(F)c1c34         1\n",
       "1   CHEMBL363069  Nc1nc2ccc(cn2c1C(=O)c3c(F)cc(O)cc3F)C(=O)c4c(C...         1\n",
       "2  CHEMBL1081118  N[C@H](CCc1onc(n1)c2ccc3cnccc3c2)Cc4ccc(cc4)C(...         1\n",
       "3   CHEMBL410883  NC(=O)c1ccc2NC(=O)\\C(=N/Nc3ccc(cc3)S(=O)(=O)N)...         1\n",
       "4  CHEMBL1081119  N[C@H](CNc1oc(nn1)c2ccc3cnccc3c2)Cc4ccc(cc4)C(...         1"
      ]
     },
     "execution_count": 39,
     "metadata": {},
     "output_type": "execute_result"
    }
   ],
   "source": [
    "pd.read_csv(next(RAWDATA.iterdir())).head()"
   ]
  },
  {
   "cell_type": "markdown",
   "metadata": {},
   "source": [
    "# Get fingerprints"
   ]
  },
  {
   "cell_type": "markdown",
   "metadata": {},
   "source": [
    "We compute the fingerprints in the same manner as in [1]."
   ]
  },
  {
   "cell_type": "code",
   "execution_count": 40,
   "metadata": {
    "tags": []
   },
   "outputs": [],
   "source": [
    "def get_fp(smile,diam=2,bits=1024,verbose=0):\n",
    "    \"\"\"\n",
    "    Returns the fingerprint of the given smile, for the given diam and \n",
    "    number of bits.\n",
    "    Returns an rdkit data structure (analogous to a list of booleans of length # bits)\n",
    "    \"\"\"\n",
    "    mol = Chem.MolFromSmiles(smile)\n",
    "    Chem.SanitizeMol(mol)\n",
    "    fp=AllChem.GetMorganFingerprintAsBitVect(mol,diam,nBits=bits)\n",
    "    \n",
    "    if verbose:\n",
    "        print(f\"SMILE: {smile}\")\n",
    "        display(mol)\n",
    "        \n",
    "    return fp"
   ]
  },
  {
   "cell_type": "code",
   "execution_count": 41,
   "metadata": {},
   "outputs": [
    {
     "name": "stdout",
     "output_type": "stream",
     "text": [
      "SMILE: CNC(=O)[C@@H](NC(=O)N1C(=O)N(CCN2CCOCC2)c3ccccc13)C(C)(C)C\n"
     ]
    },
    {
     "data": {
      "image/png": "[encoded data removed]",
      "text/plain": [
       "<rdkit.Chem.rdchem.Mol at 0x7f89aa87d580>"
      ]
     },
     "metadata": {},
     "output_type": "display_data"
    }
   ],
   "source": [
    "fp = get_fp(\n",
    "            smile='CNC(=O)[C@@H](NC(=O)N1C(=O)N(CCN2CCOCC2)c3ccccc13)C(C)(C)C', \n",
    "            diam=2, \n",
    "            bits=1024, \n",
    "            verbose=1\n",
    "            )"
   ]
  },
  {
   "cell_type": "code",
   "execution_count": 42,
   "metadata": {},
   "outputs": [
    {
     "data": {
      "text/plain": [
       "<rdkit.DataStructs.cDataStructs.ExplicitBitVect at 0x7f89aa87d5e0>"
      ]
     },
     "execution_count": 42,
     "metadata": {},
     "output_type": "execute_result"
    }
   ],
   "source": [
    "fp"
   ]
  },
  {
   "cell_type": "code",
   "execution_count": 43,
   "metadata": {},
   "outputs": [],
   "source": [
    "def ECFP(ifile,ofile,diam,bits):\n",
    "    \"\"\"\n",
    "    Generates circular fingerprints ECFP4 hashed into n bits length vectors\n",
    "    Updated version of RdkitDescriptors.py. Works with Py3 (ASL)\n",
    "    \"\"\"\n",
    "    \n",
    "    print(f\"Reading data from file {ifile}\")\n",
    "    df = pd.read_csv(ifile)    \n",
    "    \n",
    "    # FIX: The below can be sped up...#########\n",
    "    # Insert the ECFP fingerprints in a new column\n",
    "    df.insert(2, \"ECFP4_\", df.SMILES.apply(get_fp))\n",
    "    # Split the column. Follow naming convention of RdkitDescriptors.py\n",
    "    df[[f\"ECFP4_{i+1}\" for i in range(len(df.ECFP4_[0]))]] = df.ECFP4_.to_list()\n",
    "    # Drop the now superfluous column\n",
    "    df.drop(\"ECFP4_\", axis=1, inplace=True)\n",
    "    ###########################################\n",
    "    \n",
    "    \n",
    "    df.to_csv(ofile, index=None)\n",
    "    return df    "
   ]
  },
  {
   "cell_type": "markdown",
   "metadata": {},
   "source": [
    "# Run on some data sets and store the results"
   ]
  },
  {
   "cell_type": "code",
   "execution_count": 44,
   "metadata": {},
   "outputs": [
    {
     "data": {
      "text/plain": [
       "PosixPath('/home/ubuntu/Dropbox/medGPU-alex/DAT255/DAT255-repo/CNN_feature_extraction/nbs/data/drug/interim')"
      ]
     },
     "execution_count": 44,
     "metadata": {},
     "output_type": "execute_result"
    }
   ],
   "source": [
    "INTERIMDATA"
   ]
  },
  {
   "cell_type": "code",
   "execution_count": 45,
   "metadata": {},
   "outputs": [],
   "source": [
    "def get_fp_df(dataset, diam=2, bits=1024):\n",
    "    infn = f'{RAWDATA/dataset}.csv'\n",
    "    outfn = f'{INTERIMDATA/dataset}_ecfp_{bits}.csv'\n",
    "    df = ECFP(infn, outfn, diam, bits)\n",
    "    return df"
   ]
  },
  {
   "cell_type": "code",
   "execution_count": 46,
   "metadata": {},
   "outputs": [
    {
     "data": {
      "text/plain": [
       "'CHEMBL1978_cl'"
      ]
     },
     "execution_count": 46,
     "metadata": {},
     "output_type": "execute_result"
    }
   ],
   "source": [
    "datasets[0]"
   ]
  },
  {
   "cell_type": "code",
   "execution_count": null,
   "metadata": {},
   "outputs": [],
   "source": [
    "df = get_fp_df(datasets[0])"
   ]
  },
  {
   "cell_type": "code",
   "execution_count": 47,
   "metadata": {},
   "outputs": [],
   "source": [
    "df = pd.read_csv(INTERIMDATA/'CHEMBL1978_cl_ecfp_1024.csv')"
   ]
  },
  {
   "cell_type": "code",
   "execution_count": 48,
   "metadata": {},
   "outputs": [
    {
     "data": {
      "text/html": [
       "<div>\n",
       "<style scoped>\n",
       "    .dataframe tbody tr th:only-of-type {\n",
       "        vertical-align: middle;\n",
       "    }\n",
       "\n",
       "    .dataframe tbody tr th {\n",
       "        vertical-align: top;\n",
       "    }\n",
       "\n",
       "    .dataframe thead th {\n",
       "        text-align: right;\n",
       "    }\n",
       "</style>\n",
       "<table border=\"1\" class=\"dataframe\">\n",
       "  <thead>\n",
       "    <tr style=\"text-align: right;\">\n",
       "      <th></th>\n",
       "      <th>CID</th>\n",
       "      <th>SMILES</th>\n",
       "      <th>Activity</th>\n",
       "      <th>ECFP4_1</th>\n",
       "      <th>ECFP4_2</th>\n",
       "      <th>ECFP4_3</th>\n",
       "      <th>ECFP4_4</th>\n",
       "      <th>ECFP4_5</th>\n",
       "      <th>ECFP4_6</th>\n",
       "      <th>ECFP4_7</th>\n",
       "      <th>...</th>\n",
       "      <th>ECFP4_1015</th>\n",
       "      <th>ECFP4_1016</th>\n",
       "      <th>ECFP4_1017</th>\n",
       "      <th>ECFP4_1018</th>\n",
       "      <th>ECFP4_1019</th>\n",
       "      <th>ECFP4_1020</th>\n",
       "      <th>ECFP4_1021</th>\n",
       "      <th>ECFP4_1022</th>\n",
       "      <th>ECFP4_1023</th>\n",
       "      <th>ECFP4_1024</th>\n",
       "    </tr>\n",
       "  </thead>\n",
       "  <tbody>\n",
       "    <tr>\n",
       "      <th>0</th>\n",
       "      <td>CHEMBL1454842</td>\n",
       "      <td>s1nc(nc1-c1ccncc1)-c1ccncc1</td>\n",
       "      <td>1</td>\n",
       "      <td>0</td>\n",
       "      <td>0</td>\n",
       "      <td>0</td>\n",
       "      <td>0</td>\n",
       "      <td>0</td>\n",
       "      <td>0</td>\n",
       "      <td>0</td>\n",
       "      <td>...</td>\n",
       "      <td>0</td>\n",
       "      <td>0</td>\n",
       "      <td>0</td>\n",
       "      <td>0</td>\n",
       "      <td>0</td>\n",
       "      <td>0</td>\n",
       "      <td>0</td>\n",
       "      <td>0</td>\n",
       "      <td>0</td>\n",
       "      <td>0</td>\n",
       "    </tr>\n",
       "    <tr>\n",
       "      <th>1</th>\n",
       "      <td>CHEMBL1939366</td>\n",
       "      <td>s1nc(nc1-c1cccnc1)-c1cccnc1</td>\n",
       "      <td>1</td>\n",
       "      <td>0</td>\n",
       "      <td>0</td>\n",
       "      <td>0</td>\n",
       "      <td>0</td>\n",
       "      <td>0</td>\n",
       "      <td>0</td>\n",
       "      <td>0</td>\n",
       "      <td>...</td>\n",
       "      <td>0</td>\n",
       "      <td>0</td>\n",
       "      <td>0</td>\n",
       "      <td>0</td>\n",
       "      <td>0</td>\n",
       "      <td>0</td>\n",
       "      <td>0</td>\n",
       "      <td>0</td>\n",
       "      <td>0</td>\n",
       "      <td>0</td>\n",
       "    </tr>\n",
       "    <tr>\n",
       "      <th>2</th>\n",
       "      <td>CHEMBL192155</td>\n",
       "      <td>s1cncc1\\C=C\\1/CCc2cc(OC)ccc/12</td>\n",
       "      <td>1</td>\n",
       "      <td>0</td>\n",
       "      <td>0</td>\n",
       "      <td>0</td>\n",
       "      <td>0</td>\n",
       "      <td>0</td>\n",
       "      <td>0</td>\n",
       "      <td>0</td>\n",
       "      <td>...</td>\n",
       "      <td>0</td>\n",
       "      <td>0</td>\n",
       "      <td>0</td>\n",
       "      <td>0</td>\n",
       "      <td>0</td>\n",
       "      <td>0</td>\n",
       "      <td>0</td>\n",
       "      <td>0</td>\n",
       "      <td>0</td>\n",
       "      <td>0</td>\n",
       "    </tr>\n",
       "    <tr>\n",
       "      <th>3</th>\n",
       "      <td>CHEMBL517816</td>\n",
       "      <td>s1cccc1CN(n1ncnc1)Cc1ccc(cc1)C(C)(C)C</td>\n",
       "      <td>1</td>\n",
       "      <td>0</td>\n",
       "      <td>0</td>\n",
       "      <td>0</td>\n",
       "      <td>0</td>\n",
       "      <td>0</td>\n",
       "      <td>0</td>\n",
       "      <td>0</td>\n",
       "      <td>...</td>\n",
       "      <td>0</td>\n",
       "      <td>0</td>\n",
       "      <td>0</td>\n",
       "      <td>0</td>\n",
       "      <td>0</td>\n",
       "      <td>0</td>\n",
       "      <td>0</td>\n",
       "      <td>0</td>\n",
       "      <td>0</td>\n",
       "      <td>0</td>\n",
       "    </tr>\n",
       "    <tr>\n",
       "      <th>4</th>\n",
       "      <td>CHEMBL523973</td>\n",
       "      <td>s1cccc1CN(n1ccnc1)Cc1ccc(cc1)C(C)(C)C</td>\n",
       "      <td>1</td>\n",
       "      <td>0</td>\n",
       "      <td>0</td>\n",
       "      <td>0</td>\n",
       "      <td>0</td>\n",
       "      <td>0</td>\n",
       "      <td>0</td>\n",
       "      <td>0</td>\n",
       "      <td>...</td>\n",
       "      <td>0</td>\n",
       "      <td>0</td>\n",
       "      <td>0</td>\n",
       "      <td>0</td>\n",
       "      <td>0</td>\n",
       "      <td>0</td>\n",
       "      <td>0</td>\n",
       "      <td>0</td>\n",
       "      <td>0</td>\n",
       "      <td>0</td>\n",
       "    </tr>\n",
       "  </tbody>\n",
       "</table>\n",
       "<p>5 rows × 1027 columns</p>\n",
       "</div>"
      ],
      "text/plain": [
       "             CID                                 SMILES  Activity  ECFP4_1  \\\n",
       "0  CHEMBL1454842            s1nc(nc1-c1ccncc1)-c1ccncc1         1        0   \n",
       "1  CHEMBL1939366            s1nc(nc1-c1cccnc1)-c1cccnc1         1        0   \n",
       "2   CHEMBL192155         s1cncc1\\C=C\\1/CCc2cc(OC)ccc/12         1        0   \n",
       "3   CHEMBL517816  s1cccc1CN(n1ncnc1)Cc1ccc(cc1)C(C)(C)C         1        0   \n",
       "4   CHEMBL523973  s1cccc1CN(n1ccnc1)Cc1ccc(cc1)C(C)(C)C         1        0   \n",
       "\n",
       "   ECFP4_2  ECFP4_3  ECFP4_4  ECFP4_5  ECFP4_6  ECFP4_7  ...  ECFP4_1015  \\\n",
       "0        0        0        0        0        0        0  ...           0   \n",
       "1        0        0        0        0        0        0  ...           0   \n",
       "2        0        0        0        0        0        0  ...           0   \n",
       "3        0        0        0        0        0        0  ...           0   \n",
       "4        0        0        0        0        0        0  ...           0   \n",
       "\n",
       "   ECFP4_1016  ECFP4_1017  ECFP4_1018  ECFP4_1019  ECFP4_1020  ECFP4_1021  \\\n",
       "0           0           0           0           0           0           0   \n",
       "1           0           0           0           0           0           0   \n",
       "2           0           0           0           0           0           0   \n",
       "3           0           0           0           0           0           0   \n",
       "4           0           0           0           0           0           0   \n",
       "\n",
       "   ECFP4_1022  ECFP4_1023  ECFP4_1024  \n",
       "0           0           0           0  \n",
       "1           0           0           0  \n",
       "2           0           0           0  \n",
       "3           0           0           0  \n",
       "4           0           0           0  \n",
       "\n",
       "[5 rows x 1027 columns]"
      ]
     },
     "execution_count": 48,
     "metadata": {},
     "output_type": "execute_result"
    }
   ],
   "source": [
    "df.head()"
   ]
  },
  {
   "cell_type": "code",
   "execution_count": 49,
   "metadata": {},
   "outputs": [
    {
     "name": "stdout",
     "output_type": "stream",
     "text": [
      "<class 'pandas.core.frame.DataFrame'>\n",
      "RangeIndex: 6831 entries, 0 to 6830\n",
      "Columns: 1027 entries, CID to ECFP4_1024\n",
      "dtypes: int64(1025), object(2)\n",
      "memory usage: 53.5+ MB\n"
     ]
    }
   ],
   "source": [
    "df.info()"
   ]
  },
  {
   "cell_type": "markdown",
   "metadata": {},
   "source": [
    "# Generate PNGs of molecular graphs"
   ]
  },
  {
   "cell_type": "code",
   "execution_count": 50,
   "metadata": {},
   "outputs": [
    {
     "data": {
      "text/plain": [
       "'s1nc(nc1-c1ccncc1)-c1ccncc1'"
      ]
     },
     "execution_count": 50,
     "metadata": {},
     "output_type": "execute_result"
    }
   ],
   "source": [
    "test_smile = df.loc[df.CID == 'CHEMBL1454842'].SMILES.values[0]\n",
    "test_smile"
   ]
  },
  {
   "cell_type": "code",
   "execution_count": 51,
   "metadata": {},
   "outputs": [],
   "source": [
    "mol = Chem.MolFromSmiles(test_smile)"
   ]
  },
  {
   "cell_type": "code",
   "execution_count": 52,
   "metadata": {},
   "outputs": [
    {
     "data": {
      "text/plain": [
       "rdkit.Chem.rdmolops.SanitizeFlags.SANITIZE_NONE"
      ]
     },
     "execution_count": 52,
     "metadata": {},
     "output_type": "execute_result"
    }
   ],
   "source": [
    "Chem.SanitizeMol(mol)"
   ]
  },
  {
   "cell_type": "code",
   "execution_count": 53,
   "metadata": {},
   "outputs": [
    {
     "data": {
      "image/png": "[encoded data removed]",
      "text/plain": [
       "<rdkit.Chem.rdchem.Mol at 0x7f89aa8939a0>"
      ]
     },
     "execution_count": 53,
     "metadata": {},
     "output_type": "execute_result"
    }
   ],
   "source": [
    "mol"
   ]
  },
  {
   "cell_type": "markdown",
   "metadata": {},
   "source": [
    "# Create image representations for the seven bioactivity classes"
   ]
  },
  {
   "cell_type": "markdown",
   "metadata": {},
   "source": [
    "1. CHEMBL205: Carbonic Anhydrase II, a protein lyase\n",
    "2. CHEMBL301: Cyclin-dependent kinase 2, a protein kinase\n",
    "3. CHEMNL240: ether-a-go-go-related gene potassium channel 1 (HERG)\n",
    "4. CHEMBL219: Dopamine D4 receptor, a monoamine GPCR\n",
    "5. CHEMBL244: Coagulation factor X, a serine protease\n",
    "6. CHEMBL218: Cannabinoid CB1 receptor, a lipid-like GPCR\n",
    "7. CHEMBL1978: Cytochrome P450 19A1, a cytochrome P450"
   ]
  },
  {
   "cell_type": "code",
   "execution_count": 54,
   "metadata": {},
   "outputs": [],
   "source": [
    "def create_images(dataset, output_folder, size=(500,500), verbose=1):\n",
    "    \"\"\"\n",
    "    Generate molecular drawings from the fingerprints in the input data \n",
    "    set using `rdkit`. Store the resulting images in `output_folder`.\n",
    "    \"\"\"\n",
    "    output_folder = output_folder/dataset\n",
    "    output_folder.mkdir(exist_ok=True)\n",
    "    df = pd.read_csv(INTERIMDATA/f'{dataset}_ecfp_1024.csv')\n",
    "    \n",
    "    if verbose: \n",
    "        print(f\"Processing {dataset}. {len(df)} images...\")\n",
    "        print(f\"Outputs stored in {output_folder}\")\n",
    "        \n",
    "\n",
    "    for idx, row in df.iterrows(): \n",
    "        cid = row.CID\n",
    "        smile = row.SMILES\n",
    "        mol = Chem.MolFromSmiles(smile)\n",
    "        Chem.SanitizeMol(mol)\n",
    "        Chem.Draw.MolToFile(mol, output_folder/f'{cid}.png', size=(500, 500), imageType=\"png\")"
   ]
  },
  {
   "cell_type": "code",
   "execution_count": null,
   "metadata": {},
   "outputs": [],
   "source": [
    "create_images(datasets[0], output_folder=IMGDATA, verbose=1)"
   ]
  },
  {
   "cell_type": "code",
   "execution_count": null,
   "metadata": {},
   "outputs": [],
   "source": []
  }
 ],
 "metadata": {
  "kernelspec": {
   "display_name": "rdkit",
   "language": "python",
   "name": "rdkit"
  },
  "language_info": {
   "codemirror_mode": {
    "name": "ipython",
    "version": 3
   },
   "file_extension": ".py",
   "mimetype": "text/x-python",
   "name": "python",
   "nbconvert_exporter": "python",
   "pygments_lexer": "ipython3",
   "version": "3.8.10"
  },
  "varInspector": {
   "cols": {
    "lenName": 16,
    "lenType": 16,
    "lenVar": 40
   },
   "kernels_config": {
    "python": {
     "delete_cmd_postfix": "",
     "delete_cmd_prefix": "del ",
     "library": "var_list.py",
     "varRefreshCmd": "print(var_dic_list())"
    },
    "r": {
     "delete_cmd_postfix": ") ",
     "delete_cmd_prefix": "rm(",
     "library": "var_list.r",
     "varRefreshCmd": "cat(var_dic_list()) "
    }
   },
   "types_to_exclude": [
    "module",
    "function",
    "builtin_function_or_method",
    "instance",
    "_Feature"
   ],
   "window_display": false
  }
 },
 "nbformat": 4,
 "nbformat_minor": 4
}
