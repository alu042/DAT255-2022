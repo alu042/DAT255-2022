{
 "cells": [
  {
   "cell_type": "markdown",
   "id": "a08b1763-9f78-4473-a8c7-14f7afecb318",
   "metadata": {},
   "source": [
    "# Introduction"
   ]
  },
  {
   "cell_type": "markdown",
   "id": "e7b3a5f5",
   "metadata": {},
   "source": [
    "In this notebook we'll deploy our fruit classifier as a web application using IPyWidgets + Voilá + Binder. \n",
    "\n",
    "> As we strictly speaking haven't covered this in the course yet we'll come back to this notebook later."
   ]
  }
 ],
 "metadata": {
  "kernelspec": {
   "display_name": "fastai",
   "language": "python",
   "name": "fastai"
  },
  "language_info": {
   "codemirror_mode": {
    "name": "ipython",
    "version": 3
   },
   "file_extension": ".py",
   "mimetype": "text/x-python",
   "name": "python",
   "nbconvert_exporter": "python",
   "pygments_lexer": "ipython3",
   "version": "3.8.10"
  }
 },
 "nbformat": 4,
 "nbformat_minor": 5
}
