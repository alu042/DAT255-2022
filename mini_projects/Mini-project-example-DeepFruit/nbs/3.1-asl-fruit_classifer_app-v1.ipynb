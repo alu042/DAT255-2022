{
 "cells": [
  {
   "cell_type": "markdown",
   "id": "a08b1763-9f78-4473-a8c7-14f7afecb318",
   "metadata": {},
   "source": [
    "# Introduction"
   ]
  },
  {
   "cell_type": "markdown",
   "id": "e307adfb-7c39-4ad0-ba5b-aeec92cd5731",
   "metadata": {},
   "source": [
    "In the previous notebook we trained a model to classify fruit, and exported it together with the pre-processing pipeline. \n",
    "\n",
    "In this notebook we'll deploy the model using a (super) simple interface: we'll simply use this notebook."
   ]
  },
  {
   "cell_type": "markdown",
   "id": "3ccf63db-cf4e-430a-a5a0-4f49a73f0e6e",
   "metadata": {
    "tags": []
   },
   "source": [
    "# Setup"
   ]
  },
  {
   "cell_type": "code",
   "execution_count": null,
   "id": "099aafce-6f63-48fd-8103-2640820381db",
   "metadata": {},
   "outputs": [],
   "source": [
    "%config Completer.use_jedi = False"
   ]
  },
  {
   "cell_type": "code",
   "execution_count": null,
   "id": "26c1b9d3-4803-4ed9-b9e8-c4bc3b7d95e7",
   "metadata": {},
   "outputs": [],
   "source": [
    "# This is a quick check of whether the notebook is currently running on \n",
    "# Google Colaboratory, as that makes some difference for the code below.\n",
    "\n",
    "if 'google.colab' in str(get_ipython()):\n",
    "    print('The notebook is running on Colab. colab=True.')\n",
    "    colab=True\n",
    "else:\n",
    "    print('The notebook is not running on Colab. colab=False.')\n",
    "    colab=False"
   ]
  },
  {
   "cell_type": "code",
   "execution_count": null,
   "id": "47ee5307",
   "metadata": {},
   "outputs": [],
   "source": [
    "# Set this to True if you're using Paperspace Gradient\n",
    "gradient=False "
   ]
  },
  {
   "cell_type": "code",
   "execution_count": null,
   "id": "ae8a3eb3-3a0c-484f-9245-6bb6ef235306",
   "metadata": {},
   "outputs": [],
   "source": [
    "if colab:\n",
    "    !pip install -Uqq fastbook\n",
    "    import fastbook\n",
    "    fastbook.setup_book()\n",
    "    from fastbook import *"
   ]
  },
  {
   "cell_type": "code",
   "execution_count": null,
   "id": "e78e17ea-bab5-4314-8cd3-f69e51114ee4",
   "metadata": {},
   "outputs": [],
   "source": [
    "%matplotlib inline\n",
    "from fastai.vision.all import *"
   ]
  },
  {
   "cell_type": "code",
   "execution_count": null,
   "id": "5c43c7a2-eeae-4d4f-a50b-411e9a400cdc",
   "metadata": {},
   "outputs": [],
   "source": [
    "if colab:\n",
    "    DATA = Path('/content/gdrive/MyDrive/DAT255/fruits-360')\n",
    "    DATA.mkdir(exist_ok=True, parents=True)\n",
    "if not colab and not gradient:\n",
    "    # Set this to where you want to download the image data\n",
    "    DATA = Path('/home/alex/data-tmp/fruits-360')\n",
    "    DATA.mkdir(exist_ok=True)\n",
    "\n",
    "if gradient:\n",
    "    DATA = Path('/storage/fruits-360')\n",
    "    DATA.mkdir(exist_ok=True)"
   ]
  },
  {
   "cell_type": "code",
   "execution_count": null,
   "id": "c1a82eee-2d81-4ee9-bbe4-7efe86732686",
   "metadata": {},
   "outputs": [],
   "source": [
    "NB_DIR = Path.cwd()\n",
    "MODELS = NB_DIR/'..'/'models'"
   ]
  },
  {
   "cell_type": "markdown",
   "id": "8408f7f1-a502-4f91-ba71-92dea80dfb9f",
   "metadata": {
    "tags": []
   },
   "source": [
    "# Load pretrained model"
   ]
  },
  {
   "cell_type": "code",
   "execution_count": null,
   "id": "66700660-12b6-41f9-8429-7fae0eca9fe8",
   "metadata": {},
   "outputs": [],
   "source": [
    "learn = load_learner(MODELS/'fruit_model_v1')"
   ]
  },
  {
   "cell_type": "markdown",
   "id": "5582d8a7-b28e-40c9-93d7-19fb21ae073b",
   "metadata": {},
   "source": [
    "# Use it on new images"
   ]
  },
  {
   "cell_type": "code",
   "execution_count": null,
   "id": "87472de9-f182-4f65-aea2-979e268eb7c5",
   "metadata": {},
   "outputs": [],
   "source": [
    "from fastbook import widgets"
   ]
  },
  {
   "cell_type": "code",
   "execution_count": null,
   "id": "88611fba-a643-4f7e-ac7d-32588e5e6d34",
   "metadata": {},
   "outputs": [],
   "source": [
    "uploader = widgets.FileUpload()\n",
    "uploader"
   ]
  },
  {
   "cell_type": "markdown",
   "id": "b84216f6-8b10-47de-be4e-d8097e1ca24b",
   "metadata": {},
   "source": [
    "Here's the picture we uploaded:"
   ]
  },
  {
   "cell_type": "code",
   "execution_count": null,
   "id": "41afd07a-15b1-49f5-a8a8-73281f8da67e",
   "metadata": {},
   "outputs": [],
   "source": [
    "img = PILImage.create(uploader.data[0])\n",
    "img"
   ]
  },
  {
   "cell_type": "code",
   "execution_count": null,
   "id": "1b2ffa7f-08e0-445e-a437-86210c93a27c",
   "metadata": {},
   "outputs": [],
   "source": [
    "img.shape"
   ]
  },
  {
   "cell_type": "markdown",
   "id": "d462e17c-8fa4-4710-9538-a5b10ac78fde",
   "metadata": {},
   "source": [
    "Now we can produce predictions using our trained model:"
   ]
  },
  {
   "cell_type": "code",
   "execution_count": null,
   "id": "efe3bf5d-e412-4e45-968e-d7d532c3a4d3",
   "metadata": {},
   "outputs": [],
   "source": [
    "pred,_,probs = learn.predict(img)"
   ]
  },
  {
   "cell_type": "code",
   "execution_count": null,
   "id": "c1e2f1c0-d8bf-4aeb-ae2e-5fc6d484bab4",
   "metadata": {},
   "outputs": [],
   "source": [
    "pred"
   ]
  },
  {
   "cell_type": "markdown",
   "id": "81e64089-fa62-4155-bf70-0a6e8ff2efed",
   "metadata": {},
   "source": [
    "Here are the probabilities assigned to the 131 classes in the data set:"
   ]
  },
  {
   "cell_type": "code",
   "execution_count": null,
   "id": "adaf7734-9de5-4fbb-988b-a3c762b1e7df",
   "metadata": {},
   "outputs": [],
   "source": [
    "probs"
   ]
  },
  {
   "cell_type": "code",
   "execution_count": null,
   "id": "ddca7c60-98a9-4415-b1bc-c442a0480dc7",
   "metadata": {},
   "outputs": [],
   "source": [
    "probs.max()"
   ]
  },
  {
   "cell_type": "markdown",
   "id": "46dd2753-b134-4383-bdf5-0d048646cb3a",
   "metadata": {},
   "source": [
    "> What happens as you try to upload other pictures? For example, pictures of fruits where the background isn't deleted? "
   ]
  },
  {
   "cell_type": "markdown",
   "id": "07a5bf0c-b94d-4ebf-bf8b-38a75b62ad69",
   "metadata": {},
   "source": [
    "You'll see that the application doesn't work on anything but simple pictures of single fruits from the classes represented in the data set, and basically only on pictures where there is no background. "
   ]
  },
  {
   "cell_type": "markdown",
   "id": "9c45f986-5da8-4c52-a3dc-a5e003d3e25f",
   "metadata": {},
   "source": [
    "> <span style=\"color:green\">It's very important to know what kind of data the model is trained on, and to make sure you're using it in situations that are significantly different from what's reflected in the training data. </span>\n"
   ]
  },
  {
   "cell_type": "markdown",
   "id": "21cf3baf",
   "metadata": {},
   "source": [
    "> <span style=\"color:green\">In this case, all the pictures of fruit used during training (and during model evaluation!) were of dimension 100x100, recorded by a specific kind of camera, in a specific setting, and preprocessed by removing the background in a specific way. If we're to create an app using this data set only, we'd have to incorporate this somehow. Feel free to think of ways to try to overcome the issue. Foe example, removing the background, expanding the data set by inserting various backgrounds into existing images, obtaining more data, etc. </span> \n",
    "\n",
    "\n"
   ]
  },
  {
   "cell_type": "markdown",
   "id": "caf3ed6e",
   "metadata": {},
   "source": [
    "> <span style=\"color:green\"> Such issues leads to a very important lesson in machine learning: make sure that your model evaluation setup includes test data that give a good representation of the kind of data the model will meet when deployed! Much more about this issue later in the course.</span>\n"
   ]
  }
 ],
 "metadata": {
  "kernelspec": {
   "display_name": "fastai",
   "language": "python",
   "name": "fastai"
  },
  "language_info": {
   "codemirror_mode": {
    "name": "ipython",
    "version": 3
   },
   "file_extension": ".py",
   "mimetype": "text/x-python",
   "name": "python",
   "nbconvert_exporter": "python",
   "pygments_lexer": "ipython3",
   "version": "3.8.10"
  }
 },
 "nbformat": 4,
 "nbformat_minor": 5
}
